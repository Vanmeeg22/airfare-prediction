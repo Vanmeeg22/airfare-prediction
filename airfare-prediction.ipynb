{
 "cells": [
  {
   "cell_type": "markdown",
   "id": "c06c5da0-b4c0-4170-8716-03b97dd84aa0",
   "metadata": {},
   "source": [
    "# Airfare Prediction using Machine Learning"
   ]
  },
  {
   "cell_type": "markdown",
   "id": "9b667e71-c07a-49ed-a237-43d4199e5246",
   "metadata": {},
   "source": [
    "## Data Science Life Cycle\n",
    "1. Problem Definition/Business Problem Understanding\n",
    "2. Data Collection\n",
    "3. Data Cleaning and Preprocessing\n",
    "4. Exploratory Data Analysis (EDA)\n",
    "5. Feature Engineering\n",
    "6. Modeling\n",
    "7. Deployment"
   ]
  },
  {
   "cell_type": "markdown",
   "id": "07555bb2-685a-42f6-b1b2-d0e509ec9855",
   "metadata": {},
   "source": [
    "## Problem Definition\n",
    "Airline ticket prices are influenced by numerous factors, including flight routes, departure and arrival times, airline carriers, and ticket classes. The variability and dynamic nature of these prices present challenges for both travelers seeking the best deals and airlines aiming to optimize revenue.\n",
    "\n",
    "The goal of this project is to develop a machine learning model that accurately predicts the prices of airline tickets based on historical data provided in the \"Flight Price Prediction Dataset.\" The dataset includes various features such as flight routes, departure and arrival cities, airline carriers, departure and arrival times, and ticket class. By analyzing these features, the model will aim to forecast future ticket prices, providing valuable insights for consumers and aiding airlines in refining their pricing strategies. This project will address the need for accurate airfare predictions and contribute to better decision-making in the travel industry."
   ]
  },
  {
   "cell_type": "markdown",
   "id": "03e8a353-2bec-4eeb-99db-0224d3aaeb58",
   "metadata": {},
   "source": [
    "## Data\n",
    "The data is downloaded from Kaggle:\n",
    "https://www.kaggle.com/datasets/muhammadbinimran/flight-price-prediction"
   ]
  },
  {
   "cell_type": "markdown",
   "id": "5e8d32bb-ae14-45c3-970e-3801874f18b2",
   "metadata": {},
   "source": [
    "## Data Dictionary\n",
    "1. `Airline` - Names of the Airlines\n",
    "2. `Date_of_Journey` - Date of journey of the flight\n",
    "3. `Source` - Place of departure; starting point; origin\n",
    "4. `Destination` - Place of arrival\n",
    "5. `Route` - The path taken from a source to a destination, which may include specific stops along the way\n",
    "6. `Dep_Time` - Time of departure from a starting point (source)\n",
    "7. `Arrival_Time` - Time of arrival at a destination\n",
    "8. `Duration` - Duration of flight from source to destination\n",
    "9. `Total_Stops` - Total number of stops between source and destination\n",
    "10. `Additional_Info` - Meals\n",
    "11. `Price` - Airfare"
   ]
  },
  {
   "cell_type": "markdown",
   "id": "d06fee31-0c38-40ee-a124-3cbdb0f8edc0",
   "metadata": {},
   "source": [
    "### Importing libraries"
   ]
  },
  {
   "cell_type": "code",
   "execution_count": 1,
   "id": "97eac2b4-fcfb-4876-834f-d8697f0240b7",
   "metadata": {},
   "outputs": [],
   "source": [
    "import pandas as pd\n",
    "import numpy as np\n",
    "import matplotlib.pyplot as plt\n",
    "import seaborn as sns"
   ]
  },
  {
   "cell_type": "markdown",
   "id": "19478306-e1e2-4389-b65e-4185198d09c7",
   "metadata": {},
   "source": [
    "### Reading the train dataset\n",
    "\n",
    "> Converting `python string` to `raw string` by adding a prefix `r` to the `pd.read_excel()` string.\n",
    "<br>\n",
    "> **Reason:** Different operating systems support either `/` or `\\` while reading files. With the prefix `r`, we can use both the types of slashes to read the data file."
   ]
  },
  {
   "cell_type": "code",
   "execution_count": 2,
   "id": "7354f937-8651-4b1f-963b-498d6c4f16f4",
   "metadata": {},
   "outputs": [],
   "source": [
    "train_data = pd.read_excel(r'data/Data_Train.xlsx')"
   ]
  },
  {
   "cell_type": "markdown",
   "id": "9917a3ef-654d-4b6e-acf8-3bee47e77151",
   "metadata": {},
   "source": [
    "### Exploring the dataset"
   ]
  },
  {
   "cell_type": "code",
   "execution_count": 3,
   "id": "1224a155-f59d-4ea3-b13d-0527abec1271",
   "metadata": {},
   "outputs": [
    {
     "data": {
      "text/html": [
       "<div>\n",
       "<style scoped>\n",
       "    .dataframe tbody tr th:only-of-type {\n",
       "        vertical-align: middle;\n",
       "    }\n",
       "\n",
       "    .dataframe tbody tr th {\n",
       "        vertical-align: top;\n",
       "    }\n",
       "\n",
       "    .dataframe thead th {\n",
       "        text-align: right;\n",
       "    }\n",
       "</style>\n",
       "<table border=\"1\" class=\"dataframe\">\n",
       "  <thead>\n",
       "    <tr style=\"text-align: right;\">\n",
       "      <th></th>\n",
       "      <th>Airline</th>\n",
       "      <th>Date_of_Journey</th>\n",
       "      <th>Source</th>\n",
       "      <th>Destination</th>\n",
       "      <th>Route</th>\n",
       "      <th>Dep_Time</th>\n",
       "      <th>Arrival_Time</th>\n",
       "      <th>Duration</th>\n",
       "      <th>Total_Stops</th>\n",
       "      <th>Additional_Info</th>\n",
       "      <th>Price</th>\n",
       "    </tr>\n",
       "  </thead>\n",
       "  <tbody>\n",
       "    <tr>\n",
       "      <th>0</th>\n",
       "      <td>IndiGo</td>\n",
       "      <td>24/03/2019</td>\n",
       "      <td>Banglore</td>\n",
       "      <td>New Delhi</td>\n",
       "      <td>BLR → DEL</td>\n",
       "      <td>22:20</td>\n",
       "      <td>01:10 22 Mar</td>\n",
       "      <td>2h 50m</td>\n",
       "      <td>non-stop</td>\n",
       "      <td>No info</td>\n",
       "      <td>3897</td>\n",
       "    </tr>\n",
       "    <tr>\n",
       "      <th>1</th>\n",
       "      <td>Air India</td>\n",
       "      <td>1/05/2019</td>\n",
       "      <td>Kolkata</td>\n",
       "      <td>Banglore</td>\n",
       "      <td>CCU → IXR → BBI → BLR</td>\n",
       "      <td>05:50</td>\n",
       "      <td>13:15</td>\n",
       "      <td>7h 25m</td>\n",
       "      <td>2 stops</td>\n",
       "      <td>No info</td>\n",
       "      <td>7662</td>\n",
       "    </tr>\n",
       "    <tr>\n",
       "      <th>2</th>\n",
       "      <td>Jet Airways</td>\n",
       "      <td>9/06/2019</td>\n",
       "      <td>Delhi</td>\n",
       "      <td>Cochin</td>\n",
       "      <td>DEL → LKO → BOM → COK</td>\n",
       "      <td>09:25</td>\n",
       "      <td>04:25 10 Jun</td>\n",
       "      <td>19h</td>\n",
       "      <td>2 stops</td>\n",
       "      <td>No info</td>\n",
       "      <td>13882</td>\n",
       "    </tr>\n",
       "    <tr>\n",
       "      <th>3</th>\n",
       "      <td>IndiGo</td>\n",
       "      <td>12/05/2019</td>\n",
       "      <td>Kolkata</td>\n",
       "      <td>Banglore</td>\n",
       "      <td>CCU → NAG → BLR</td>\n",
       "      <td>18:05</td>\n",
       "      <td>23:30</td>\n",
       "      <td>5h 25m</td>\n",
       "      <td>1 stop</td>\n",
       "      <td>No info</td>\n",
       "      <td>6218</td>\n",
       "    </tr>\n",
       "    <tr>\n",
       "      <th>4</th>\n",
       "      <td>IndiGo</td>\n",
       "      <td>01/03/2019</td>\n",
       "      <td>Banglore</td>\n",
       "      <td>New Delhi</td>\n",
       "      <td>BLR → NAG → DEL</td>\n",
       "      <td>16:50</td>\n",
       "      <td>21:35</td>\n",
       "      <td>4h 45m</td>\n",
       "      <td>1 stop</td>\n",
       "      <td>No info</td>\n",
       "      <td>13302</td>\n",
       "    </tr>\n",
       "  </tbody>\n",
       "</table>\n",
       "</div>"
      ],
      "text/plain": [
       "       Airline Date_of_Journey    Source Destination                  Route  \\\n",
       "0       IndiGo      24/03/2019  Banglore   New Delhi              BLR → DEL   \n",
       "1    Air India       1/05/2019   Kolkata    Banglore  CCU → IXR → BBI → BLR   \n",
       "2  Jet Airways       9/06/2019     Delhi      Cochin  DEL → LKO → BOM → COK   \n",
       "3       IndiGo      12/05/2019   Kolkata    Banglore        CCU → NAG → BLR   \n",
       "4       IndiGo      01/03/2019  Banglore   New Delhi        BLR → NAG → DEL   \n",
       "\n",
       "  Dep_Time  Arrival_Time Duration Total_Stops Additional_Info  Price  \n",
       "0    22:20  01:10 22 Mar   2h 50m    non-stop         No info   3897  \n",
       "1    05:50         13:15   7h 25m     2 stops         No info   7662  \n",
       "2    09:25  04:25 10 Jun      19h     2 stops         No info  13882  \n",
       "3    18:05         23:30   5h 25m      1 stop         No info   6218  \n",
       "4    16:50         21:35   4h 45m      1 stop         No info  13302  "
      ]
     },
     "execution_count": 3,
     "metadata": {},
     "output_type": "execute_result"
    }
   ],
   "source": [
    "train_data.head()"
   ]
  },
  {
   "cell_type": "code",
   "execution_count": 4,
   "id": "8585e8b8-063a-4478-a8d2-91c5825efe36",
   "metadata": {},
   "outputs": [
    {
     "data": {
      "text/html": [
       "<div>\n",
       "<style scoped>\n",
       "    .dataframe tbody tr th:only-of-type {\n",
       "        vertical-align: middle;\n",
       "    }\n",
       "\n",
       "    .dataframe tbody tr th {\n",
       "        vertical-align: top;\n",
       "    }\n",
       "\n",
       "    .dataframe thead th {\n",
       "        text-align: right;\n",
       "    }\n",
       "</style>\n",
       "<table border=\"1\" class=\"dataframe\">\n",
       "  <thead>\n",
       "    <tr style=\"text-align: right;\">\n",
       "      <th></th>\n",
       "      <th>Airline</th>\n",
       "      <th>Date_of_Journey</th>\n",
       "      <th>Source</th>\n",
       "      <th>Destination</th>\n",
       "      <th>Route</th>\n",
       "      <th>Dep_Time</th>\n",
       "      <th>Arrival_Time</th>\n",
       "      <th>Duration</th>\n",
       "      <th>Total_Stops</th>\n",
       "      <th>Additional_Info</th>\n",
       "      <th>Price</th>\n",
       "    </tr>\n",
       "  </thead>\n",
       "  <tbody>\n",
       "    <tr>\n",
       "      <th>10678</th>\n",
       "      <td>Air Asia</td>\n",
       "      <td>9/04/2019</td>\n",
       "      <td>Kolkata</td>\n",
       "      <td>Banglore</td>\n",
       "      <td>CCU → BLR</td>\n",
       "      <td>19:55</td>\n",
       "      <td>22:25</td>\n",
       "      <td>2h 30m</td>\n",
       "      <td>non-stop</td>\n",
       "      <td>No info</td>\n",
       "      <td>4107</td>\n",
       "    </tr>\n",
       "    <tr>\n",
       "      <th>10679</th>\n",
       "      <td>Air India</td>\n",
       "      <td>27/04/2019</td>\n",
       "      <td>Kolkata</td>\n",
       "      <td>Banglore</td>\n",
       "      <td>CCU → BLR</td>\n",
       "      <td>20:45</td>\n",
       "      <td>23:20</td>\n",
       "      <td>2h 35m</td>\n",
       "      <td>non-stop</td>\n",
       "      <td>No info</td>\n",
       "      <td>4145</td>\n",
       "    </tr>\n",
       "    <tr>\n",
       "      <th>10680</th>\n",
       "      <td>Jet Airways</td>\n",
       "      <td>27/04/2019</td>\n",
       "      <td>Banglore</td>\n",
       "      <td>Delhi</td>\n",
       "      <td>BLR → DEL</td>\n",
       "      <td>08:20</td>\n",
       "      <td>11:20</td>\n",
       "      <td>3h</td>\n",
       "      <td>non-stop</td>\n",
       "      <td>No info</td>\n",
       "      <td>7229</td>\n",
       "    </tr>\n",
       "    <tr>\n",
       "      <th>10681</th>\n",
       "      <td>Vistara</td>\n",
       "      <td>01/03/2019</td>\n",
       "      <td>Banglore</td>\n",
       "      <td>New Delhi</td>\n",
       "      <td>BLR → DEL</td>\n",
       "      <td>11:30</td>\n",
       "      <td>14:10</td>\n",
       "      <td>2h 40m</td>\n",
       "      <td>non-stop</td>\n",
       "      <td>No info</td>\n",
       "      <td>12648</td>\n",
       "    </tr>\n",
       "    <tr>\n",
       "      <th>10682</th>\n",
       "      <td>Air India</td>\n",
       "      <td>9/05/2019</td>\n",
       "      <td>Delhi</td>\n",
       "      <td>Cochin</td>\n",
       "      <td>DEL → GOI → BOM → COK</td>\n",
       "      <td>10:55</td>\n",
       "      <td>19:15</td>\n",
       "      <td>8h 20m</td>\n",
       "      <td>2 stops</td>\n",
       "      <td>No info</td>\n",
       "      <td>11753</td>\n",
       "    </tr>\n",
       "  </tbody>\n",
       "</table>\n",
       "</div>"
      ],
      "text/plain": [
       "           Airline Date_of_Journey    Source Destination  \\\n",
       "10678     Air Asia       9/04/2019   Kolkata    Banglore   \n",
       "10679    Air India      27/04/2019   Kolkata    Banglore   \n",
       "10680  Jet Airways      27/04/2019  Banglore       Delhi   \n",
       "10681      Vistara      01/03/2019  Banglore   New Delhi   \n",
       "10682    Air India       9/05/2019     Delhi      Cochin   \n",
       "\n",
       "                       Route Dep_Time Arrival_Time Duration Total_Stops  \\\n",
       "10678              CCU → BLR    19:55        22:25   2h 30m    non-stop   \n",
       "10679              CCU → BLR    20:45        23:20   2h 35m    non-stop   \n",
       "10680              BLR → DEL    08:20        11:20       3h    non-stop   \n",
       "10681              BLR → DEL    11:30        14:10   2h 40m    non-stop   \n",
       "10682  DEL → GOI → BOM → COK    10:55        19:15   8h 20m     2 stops   \n",
       "\n",
       "      Additional_Info  Price  \n",
       "10678         No info   4107  \n",
       "10679         No info   4145  \n",
       "10680         No info   7229  \n",
       "10681         No info  12648  \n",
       "10682         No info  11753  "
      ]
     },
     "execution_count": 4,
     "metadata": {},
     "output_type": "execute_result"
    }
   ],
   "source": [
    "train_data.tail()"
   ]
  },
  {
   "cell_type": "code",
   "execution_count": 5,
   "id": "a8ecbaf1-3d14-40e9-81ed-8f7136ca08d7",
   "metadata": {},
   "outputs": [
    {
     "name": "stdout",
     "output_type": "stream",
     "text": [
      "<class 'pandas.core.frame.DataFrame'>\n",
      "RangeIndex: 10683 entries, 0 to 10682\n",
      "Data columns (total 11 columns):\n",
      " #   Column           Non-Null Count  Dtype \n",
      "---  ------           --------------  ----- \n",
      " 0   Airline          10683 non-null  object\n",
      " 1   Date_of_Journey  10683 non-null  object\n",
      " 2   Source           10683 non-null  object\n",
      " 3   Destination      10683 non-null  object\n",
      " 4   Route            10682 non-null  object\n",
      " 5   Dep_Time         10683 non-null  object\n",
      " 6   Arrival_Time     10683 non-null  object\n",
      " 7   Duration         10683 non-null  object\n",
      " 8   Total_Stops      10682 non-null  object\n",
      " 9   Additional_Info  10683 non-null  object\n",
      " 10  Price            10683 non-null  int64 \n",
      "dtypes: int64(1), object(10)\n",
      "memory usage: 918.2+ KB\n"
     ]
    }
   ],
   "source": [
    "train_data.info()"
   ]
  },
  {
   "cell_type": "markdown",
   "id": "85058f70-7c4f-49c5-b6e2-b78a97f97f94",
   "metadata": {},
   "source": [
    "## Data Cleaning and Preprocessing"
   ]
  },
  {
   "cell_type": "markdown",
   "id": "bf61fadb-563b-47c2-ad27-8371bb85e5d5",
   "metadata": {},
   "source": [
    "### Checking for null values"
   ]
  },
  {
   "cell_type": "code",
   "execution_count": 6,
   "id": "49c0b413-1219-4066-b940-36318600e5b7",
   "metadata": {},
   "outputs": [
    {
     "data": {
      "text/plain": [
       "Airline            0\n",
       "Date_of_Journey    0\n",
       "Source             0\n",
       "Destination        0\n",
       "Route              1\n",
       "Dep_Time           0\n",
       "Arrival_Time       0\n",
       "Duration           0\n",
       "Total_Stops        1\n",
       "Additional_Info    0\n",
       "Price              0\n",
       "dtype: int64"
      ]
     },
     "execution_count": 6,
     "metadata": {},
     "output_type": "execute_result"
    }
   ],
   "source": [
    "train_data.isnull().sum()"
   ]
  },
  {
   "cell_type": "code",
   "execution_count": 7,
   "id": "a8e7d7ad-0d15-4a73-8c05-4f0509abadf8",
   "metadata": {},
   "outputs": [
    {
     "data": {
      "text/plain": [
       "0    False\n",
       "1    False\n",
       "2    False\n",
       "3    False\n",
       "4    False\n",
       "Name: Total_Stops, dtype: bool"
      ]
     },
     "execution_count": 7,
     "metadata": {},
     "output_type": "execute_result"
    }
   ],
   "source": [
    "train_data['Total_Stops'].isnull().head()"
   ]
  },
  {
   "cell_type": "markdown",
   "id": "0e7dbfa1-6cd4-4e86-978d-e5bde052441b",
   "metadata": {},
   "source": [
    "### Fetching only the null records from the `Total_Stops` feature"
   ]
  },
  {
   "cell_type": "code",
   "execution_count": 8,
   "id": "46223c36-43c9-4f46-9866-d496873f9d71",
   "metadata": {},
   "outputs": [
    {
     "data": {
      "text/html": [
       "<div>\n",
       "<style scoped>\n",
       "    .dataframe tbody tr th:only-of-type {\n",
       "        vertical-align: middle;\n",
       "    }\n",
       "\n",
       "    .dataframe tbody tr th {\n",
       "        vertical-align: top;\n",
       "    }\n",
       "\n",
       "    .dataframe thead th {\n",
       "        text-align: right;\n",
       "    }\n",
       "</style>\n",
       "<table border=\"1\" class=\"dataframe\">\n",
       "  <thead>\n",
       "    <tr style=\"text-align: right;\">\n",
       "      <th></th>\n",
       "      <th>Airline</th>\n",
       "      <th>Date_of_Journey</th>\n",
       "      <th>Source</th>\n",
       "      <th>Destination</th>\n",
       "      <th>Route</th>\n",
       "      <th>Dep_Time</th>\n",
       "      <th>Arrival_Time</th>\n",
       "      <th>Duration</th>\n",
       "      <th>Total_Stops</th>\n",
       "      <th>Additional_Info</th>\n",
       "      <th>Price</th>\n",
       "    </tr>\n",
       "  </thead>\n",
       "  <tbody>\n",
       "    <tr>\n",
       "      <th>9039</th>\n",
       "      <td>Air India</td>\n",
       "      <td>6/05/2019</td>\n",
       "      <td>Delhi</td>\n",
       "      <td>Cochin</td>\n",
       "      <td>NaN</td>\n",
       "      <td>09:45</td>\n",
       "      <td>09:25 07 May</td>\n",
       "      <td>23h 40m</td>\n",
       "      <td>NaN</td>\n",
       "      <td>No info</td>\n",
       "      <td>7480</td>\n",
       "    </tr>\n",
       "  </tbody>\n",
       "</table>\n",
       "</div>"
      ],
      "text/plain": [
       "        Airline Date_of_Journey Source Destination Route Dep_Time  \\\n",
       "9039  Air India       6/05/2019  Delhi      Cochin   NaN    09:45   \n",
       "\n",
       "      Arrival_Time Duration Total_Stops Additional_Info  Price  \n",
       "9039  09:25 07 May  23h 40m         NaN         No info   7480  "
      ]
     },
     "execution_count": 8,
     "metadata": {},
     "output_type": "execute_result"
    }
   ],
   "source": [
    "train_data[train_data['Total_Stops'].isnull()]"
   ]
  },
  {
   "cell_type": "markdown",
   "id": "d7bac2ca-e933-4219-9fa1-5fdca0325fea",
   "metadata": {},
   "source": [
    "### Fetching only the null records from the `Route` feature"
   ]
  },
  {
   "cell_type": "code",
   "execution_count": 9,
   "id": "dd3fd82e-728a-4b45-9956-5a61b5eba2ed",
   "metadata": {},
   "outputs": [
    {
     "data": {
      "text/html": [
       "<div>\n",
       "<style scoped>\n",
       "    .dataframe tbody tr th:only-of-type {\n",
       "        vertical-align: middle;\n",
       "    }\n",
       "\n",
       "    .dataframe tbody tr th {\n",
       "        vertical-align: top;\n",
       "    }\n",
       "\n",
       "    .dataframe thead th {\n",
       "        text-align: right;\n",
       "    }\n",
       "</style>\n",
       "<table border=\"1\" class=\"dataframe\">\n",
       "  <thead>\n",
       "    <tr style=\"text-align: right;\">\n",
       "      <th></th>\n",
       "      <th>Airline</th>\n",
       "      <th>Date_of_Journey</th>\n",
       "      <th>Source</th>\n",
       "      <th>Destination</th>\n",
       "      <th>Route</th>\n",
       "      <th>Dep_Time</th>\n",
       "      <th>Arrival_Time</th>\n",
       "      <th>Duration</th>\n",
       "      <th>Total_Stops</th>\n",
       "      <th>Additional_Info</th>\n",
       "      <th>Price</th>\n",
       "    </tr>\n",
       "  </thead>\n",
       "  <tbody>\n",
       "    <tr>\n",
       "      <th>9039</th>\n",
       "      <td>Air India</td>\n",
       "      <td>6/05/2019</td>\n",
       "      <td>Delhi</td>\n",
       "      <td>Cochin</td>\n",
       "      <td>NaN</td>\n",
       "      <td>09:45</td>\n",
       "      <td>09:25 07 May</td>\n",
       "      <td>23h 40m</td>\n",
       "      <td>NaN</td>\n",
       "      <td>No info</td>\n",
       "      <td>7480</td>\n",
       "    </tr>\n",
       "  </tbody>\n",
       "</table>\n",
       "</div>"
      ],
      "text/plain": [
       "        Airline Date_of_Journey Source Destination Route Dep_Time  \\\n",
       "9039  Air India       6/05/2019  Delhi      Cochin   NaN    09:45   \n",
       "\n",
       "      Arrival_Time Duration Total_Stops Additional_Info  Price  \n",
       "9039  09:25 07 May  23h 40m         NaN         No info   7480  "
      ]
     },
     "execution_count": 9,
     "metadata": {},
     "output_type": "execute_result"
    }
   ],
   "source": [
    "train_data[train_data['Route'].isnull()]"
   ]
  },
  {
   "cell_type": "markdown",
   "id": "f36713ea-747d-4abc-aaae-e1f517424797",
   "metadata": {},
   "source": [
    "### Dropping null values\n",
    "\n",
    "> NaN - Not Available Number\n",
    "\n",
    "> #### Dropping all the null values because there is only 1 record with null values."
   ]
  },
  {
   "cell_type": "code",
   "execution_count": 10,
   "id": "7bc4d3f2-f33c-42d3-8f23-68731107f1c7",
   "metadata": {},
   "outputs": [],
   "source": [
    "train_data.dropna(inplace=True)"
   ]
  },
  {
   "cell_type": "code",
   "execution_count": 11,
   "id": "3c20289b-c391-4dc2-8b80-ffc226772fd5",
   "metadata": {},
   "outputs": [
    {
     "data": {
      "text/plain": [
       "Airline            0\n",
       "Date_of_Journey    0\n",
       "Source             0\n",
       "Destination        0\n",
       "Route              0\n",
       "Dep_Time           0\n",
       "Arrival_Time       0\n",
       "Duration           0\n",
       "Total_Stops        0\n",
       "Additional_Info    0\n",
       "Price              0\n",
       "dtype: int64"
      ]
     },
     "execution_count": 11,
     "metadata": {},
     "output_type": "execute_result"
    }
   ],
   "source": [
    "train_data.isnull().sum()"
   ]
  },
  {
   "cell_type": "code",
   "execution_count": 12,
   "id": "6417a78b-9705-4ea9-95d3-e7da53c377cd",
   "metadata": {},
   "outputs": [
    {
     "data": {
      "text/plain": [
       "(10682, 11)"
      ]
     },
     "execution_count": 12,
     "metadata": {},
     "output_type": "execute_result"
    }
   ],
   "source": [
    "train_data.shape"
   ]
  },
  {
   "cell_type": "code",
   "execution_count": 13,
   "id": "e87bd2c3-4f81-46ee-b36e-060a009b5d67",
   "metadata": {},
   "outputs": [
    {
     "data": {
      "text/plain": [
       "Airline            object\n",
       "Date_of_Journey    object\n",
       "Source             object\n",
       "Destination        object\n",
       "Route              object\n",
       "Dep_Time           object\n",
       "Arrival_Time       object\n",
       "Duration           object\n",
       "Total_Stops        object\n",
       "Additional_Info    object\n",
       "Price               int64\n",
       "dtype: object"
      ]
     },
     "execution_count": 13,
     "metadata": {},
     "output_type": "execute_result"
    }
   ],
   "source": [
    "train_data.dtypes"
   ]
  },
  {
   "cell_type": "markdown",
   "id": "033f5cfd-8da3-40de-87fb-9d0c3fe8aba4",
   "metadata": {},
   "source": [
    "> Like `string` in Python, there exists `object` in Pandas."
   ]
  },
  {
   "cell_type": "code",
   "execution_count": 14,
   "id": "2c747738-c0b8-47d0-a4cc-a176af3801a2",
   "metadata": {},
   "outputs": [
    {
     "name": "stdout",
     "output_type": "stream",
     "text": [
      "<class 'pandas.core.frame.DataFrame'>\n",
      "Index: 10682 entries, 0 to 10682\n",
      "Data columns (total 11 columns):\n",
      " #   Column           Non-Null Count  Dtype \n",
      "---  ------           --------------  ----- \n",
      " 0   Airline          10682 non-null  object\n",
      " 1   Date_of_Journey  10682 non-null  object\n",
      " 2   Source           10682 non-null  object\n",
      " 3   Destination      10682 non-null  object\n",
      " 4   Route            10682 non-null  object\n",
      " 5   Dep_Time         10682 non-null  object\n",
      " 6   Arrival_Time     10682 non-null  object\n",
      " 7   Duration         10682 non-null  object\n",
      " 8   Total_Stops      10682 non-null  object\n",
      " 9   Additional_Info  10682 non-null  object\n",
      " 10  Price            10682 non-null  int64 \n",
      "dtypes: int64(1), object(10)\n",
      "memory usage: 1001.4+ KB\n"
     ]
    }
   ],
   "source": [
    "train_data.info()"
   ]
  },
  {
   "cell_type": "markdown",
   "id": "af78dfe4-eae1-425c-a342-669cca2d62c9",
   "metadata": {},
   "source": [
    "### Finding the exact memory usage of the dataset"
   ]
  },
  {
   "cell_type": "code",
   "execution_count": 15,
   "id": "9e96b7e9-a782-4d6f-9f3e-133c962f292d",
   "metadata": {},
   "outputs": [
    {
     "name": "stdout",
     "output_type": "stream",
     "text": [
      "<class 'pandas.core.frame.DataFrame'>\n",
      "Index: 10682 entries, 0 to 10682\n",
      "Data columns (total 11 columns):\n",
      " #   Column           Non-Null Count  Dtype \n",
      "---  ------           --------------  ----- \n",
      " 0   Airline          10682 non-null  object\n",
      " 1   Date_of_Journey  10682 non-null  object\n",
      " 2   Source           10682 non-null  object\n",
      " 3   Destination      10682 non-null  object\n",
      " 4   Route            10682 non-null  object\n",
      " 5   Dep_Time         10682 non-null  object\n",
      " 6   Arrival_Time     10682 non-null  object\n",
      " 7   Duration         10682 non-null  object\n",
      " 8   Total_Stops      10682 non-null  object\n",
      " 9   Additional_Info  10682 non-null  object\n",
      " 10  Price            10682 non-null  int64 \n",
      "dtypes: int64(1), object(10)\n",
      "memory usage: 6.3 MB\n"
     ]
    }
   ],
   "source": [
    "train_data.info(memory_usage = 'deep')"
   ]
  },
  {
   "cell_type": "markdown",
   "id": "f61eeb99-7a99-46e3-b51e-ed470788e784",
   "metadata": {},
   "source": [
    "### Making a copy of the dataset to perform further operations"
   ]
  },
  {
   "cell_type": "code",
   "execution_count": 16,
   "id": "5c27934d-2ce7-4791-9479-b5cba77e5b2e",
   "metadata": {},
   "outputs": [],
   "source": [
    "data = train_data.copy()"
   ]
  },
  {
   "cell_type": "code",
   "execution_count": 17,
   "id": "eaee7b92-1061-46a5-a856-9f66ef93c008",
   "metadata": {},
   "outputs": [
    {
     "data": {
      "text/plain": [
       "Index(['Airline', 'Date_of_Journey', 'Source', 'Destination', 'Route',\n",
       "       'Dep_Time', 'Arrival_Time', 'Duration', 'Total_Stops',\n",
       "       'Additional_Info', 'Price'],\n",
       "      dtype='object')"
      ]
     },
     "execution_count": 17,
     "metadata": {},
     "output_type": "execute_result"
    }
   ],
   "source": [
    "data.columns"
   ]
  },
  {
   "cell_type": "code",
   "execution_count": 18,
   "id": "fff7f48a-e3e8-4f11-b37d-70a4e9cf6edd",
   "metadata": {},
   "outputs": [
    {
     "data": {
      "text/html": [
       "<div>\n",
       "<style scoped>\n",
       "    .dataframe tbody tr th:only-of-type {\n",
       "        vertical-align: middle;\n",
       "    }\n",
       "\n",
       "    .dataframe tbody tr th {\n",
       "        vertical-align: top;\n",
       "    }\n",
       "\n",
       "    .dataframe thead th {\n",
       "        text-align: right;\n",
       "    }\n",
       "</style>\n",
       "<table border=\"1\" class=\"dataframe\">\n",
       "  <thead>\n",
       "    <tr style=\"text-align: right;\">\n",
       "      <th></th>\n",
       "      <th>Airline</th>\n",
       "      <th>Date_of_Journey</th>\n",
       "      <th>Source</th>\n",
       "      <th>Destination</th>\n",
       "      <th>Route</th>\n",
       "      <th>Dep_Time</th>\n",
       "      <th>Arrival_Time</th>\n",
       "      <th>Duration</th>\n",
       "      <th>Total_Stops</th>\n",
       "      <th>Additional_Info</th>\n",
       "      <th>Price</th>\n",
       "    </tr>\n",
       "  </thead>\n",
       "  <tbody>\n",
       "    <tr>\n",
       "      <th>0</th>\n",
       "      <td>IndiGo</td>\n",
       "      <td>24/03/2019</td>\n",
       "      <td>Banglore</td>\n",
       "      <td>New Delhi</td>\n",
       "      <td>BLR → DEL</td>\n",
       "      <td>22:20</td>\n",
       "      <td>01:10 22 Mar</td>\n",
       "      <td>2h 50m</td>\n",
       "      <td>non-stop</td>\n",
       "      <td>No info</td>\n",
       "      <td>3897</td>\n",
       "    </tr>\n",
       "    <tr>\n",
       "      <th>1</th>\n",
       "      <td>Air India</td>\n",
       "      <td>1/05/2019</td>\n",
       "      <td>Kolkata</td>\n",
       "      <td>Banglore</td>\n",
       "      <td>CCU → IXR → BBI → BLR</td>\n",
       "      <td>05:50</td>\n",
       "      <td>13:15</td>\n",
       "      <td>7h 25m</td>\n",
       "      <td>2 stops</td>\n",
       "      <td>No info</td>\n",
       "      <td>7662</td>\n",
       "    </tr>\n",
       "    <tr>\n",
       "      <th>2</th>\n",
       "      <td>Jet Airways</td>\n",
       "      <td>9/06/2019</td>\n",
       "      <td>Delhi</td>\n",
       "      <td>Cochin</td>\n",
       "      <td>DEL → LKO → BOM → COK</td>\n",
       "      <td>09:25</td>\n",
       "      <td>04:25 10 Jun</td>\n",
       "      <td>19h</td>\n",
       "      <td>2 stops</td>\n",
       "      <td>No info</td>\n",
       "      <td>13882</td>\n",
       "    </tr>\n",
       "    <tr>\n",
       "      <th>3</th>\n",
       "      <td>IndiGo</td>\n",
       "      <td>12/05/2019</td>\n",
       "      <td>Kolkata</td>\n",
       "      <td>Banglore</td>\n",
       "      <td>CCU → NAG → BLR</td>\n",
       "      <td>18:05</td>\n",
       "      <td>23:30</td>\n",
       "      <td>5h 25m</td>\n",
       "      <td>1 stop</td>\n",
       "      <td>No info</td>\n",
       "      <td>6218</td>\n",
       "    </tr>\n",
       "  </tbody>\n",
       "</table>\n",
       "</div>"
      ],
      "text/plain": [
       "       Airline Date_of_Journey    Source Destination                  Route  \\\n",
       "0       IndiGo      24/03/2019  Banglore   New Delhi              BLR → DEL   \n",
       "1    Air India       1/05/2019   Kolkata    Banglore  CCU → IXR → BBI → BLR   \n",
       "2  Jet Airways       9/06/2019     Delhi      Cochin  DEL → LKO → BOM → COK   \n",
       "3       IndiGo      12/05/2019   Kolkata    Banglore        CCU → NAG → BLR   \n",
       "\n",
       "  Dep_Time  Arrival_Time Duration Total_Stops Additional_Info  Price  \n",
       "0    22:20  01:10 22 Mar   2h 50m    non-stop         No info   3897  \n",
       "1    05:50         13:15   7h 25m     2 stops         No info   7662  \n",
       "2    09:25  04:25 10 Jun      19h     2 stops         No info  13882  \n",
       "3    18:05         23:30   5h 25m      1 stop         No info   6218  "
      ]
     },
     "execution_count": 18,
     "metadata": {},
     "output_type": "execute_result"
    }
   ],
   "source": [
    "data.head(4)"
   ]
  },
  {
   "cell_type": "code",
   "execution_count": 19,
   "id": "b9a8d982-9cf1-4aa9-8bcc-5f0b76a84000",
   "metadata": {},
   "outputs": [
    {
     "data": {
      "text/plain": [
       "Airline            object\n",
       "Date_of_Journey    object\n",
       "Source             object\n",
       "Destination        object\n",
       "Route              object\n",
       "Dep_Time           object\n",
       "Arrival_Time       object\n",
       "Duration           object\n",
       "Total_Stops        object\n",
       "Additional_Info    object\n",
       "Price               int64\n",
       "dtype: object"
      ]
     },
     "execution_count": 19,
     "metadata": {},
     "output_type": "execute_result"
    }
   ],
   "source": [
    "data.dtypes"
   ]
  },
  {
   "cell_type": "markdown",
   "id": "09e12bc6-fb95-4cad-a0ab-e027a22c34ec",
   "metadata": {},
   "source": [
    "### Converting `Dep_Time`, `Arrival_Time`, and `Date_of_Journey` features into `timestamp` format\n",
    "\n",
    "> Machine learning cannot work with string data because it performs by utilizing Linear Algebra, Calculus, and Vectors which never work with string data. <br>\n",
    "> Hence, we need to convert `object` and `string` to `numeric` or `vector` format.\n",
    "<br><br>\n",
    "> `timestamp` formats are of two types in Numpy: `datetime64[ns]` and `<m8[ns]`. <br>\n",
    "> The 'm' in `<m8[ns]` stands for `datetime`, '8' in bytes which stands for `64` bits. Hence, `<m8[ns]` stands for `datetime64[ns]`. '[ns]' stands for `nano seconds`. <br>\n",
    "> The format of `timestamp` depends on how the Numpy package is compiled."
   ]
  },
  {
   "cell_type": "markdown",
   "id": "3413e070-b765-4f9b-b243-f1a3a3bd6bd1",
   "metadata": {},
   "source": [
    "> #### Creating a function to avoid repitition of the same Lines of Code (LOC)."
   ]
  },
  {
   "cell_type": "code",
   "execution_count": 20,
   "id": "983c5be4-f029-4d04-824b-ef53d9befe24",
   "metadata": {},
   "outputs": [],
   "source": [
    "def change_into_Datetime(col):\n",
    "    data[col] = pd.to_datetime(data[col])"
   ]
  },
  {
   "cell_type": "markdown",
   "id": "6190b6a6-4bf5-4b01-8ab6-a9316afc816a",
   "metadata": {},
   "source": [
    "> Ignoring warnings that may appear in the later LOC"
   ]
  },
  {
   "cell_type": "code",
   "execution_count": 21,
   "id": "daefba43-33f3-4df8-a64b-0d560532cb6b",
   "metadata": {},
   "outputs": [],
   "source": [
    "import warnings\n",
    "from warnings import filterwarnings\n",
    "filterwarnings(\"ignore\")"
   ]
  },
  {
   "cell_type": "code",
   "execution_count": 22,
   "id": "a7594407-b1c1-4947-b6d5-99e1c52bd679",
   "metadata": {},
   "outputs": [
    {
     "data": {
      "text/plain": [
       "Index(['Airline', 'Date_of_Journey', 'Source', 'Destination', 'Route',\n",
       "       'Dep_Time', 'Arrival_Time', 'Duration', 'Total_Stops',\n",
       "       'Additional_Info', 'Price'],\n",
       "      dtype='object')"
      ]
     },
     "execution_count": 22,
     "metadata": {},
     "output_type": "execute_result"
    }
   ],
   "source": [
    "data.columns"
   ]
  },
  {
   "cell_type": "code",
   "execution_count": 23,
   "id": "c1ca01dc-cddd-404d-8a5f-2306974e7af1",
   "metadata": {},
   "outputs": [],
   "source": [
    "for feature in ['Dep_Time', 'Arrival_Time', 'Date_of_Journey']:\n",
    "    change_into_Datetime(feature)"
   ]
  },
  {
   "cell_type": "code",
   "execution_count": 24,
   "id": "384e4bda-4f1c-40b2-8323-af5eaf452b86",
   "metadata": {},
   "outputs": [
    {
     "data": {
      "text/plain": [
       "Airline                    object\n",
       "Date_of_Journey    datetime64[ns]\n",
       "Source                     object\n",
       "Destination                object\n",
       "Route                      object\n",
       "Dep_Time           datetime64[ns]\n",
       "Arrival_Time       datetime64[ns]\n",
       "Duration                   object\n",
       "Total_Stops                object\n",
       "Additional_Info            object\n",
       "Price                       int64\n",
       "dtype: object"
      ]
     },
     "execution_count": 24,
     "metadata": {},
     "output_type": "execute_result"
    }
   ],
   "source": [
    "data.dtypes"
   ]
  },
  {
   "cell_type": "markdown",
   "id": "f1d23440-0d00-46e3-9592-1511d4092473",
   "metadata": {},
   "source": [
    "### Splitting the `Date_of_Journey` feature into derived attributes/features: `Journey_Day`, `Journey_Month`, and `Journey_Year`\n",
    "\n",
    "> Utilizing the `dt` accessor from pandas in order to access the `datetime` properties of `day`, `month`, and `year`"
   ]
  },
  {
   "cell_type": "code",
   "execution_count": 25,
   "id": "d83d2098-145d-41b3-85f2-fadf15cf687f",
   "metadata": {},
   "outputs": [],
   "source": [
    "data['Journey_Day'] = data['Date_of_Journey'].dt.day\n",
    "data['Journey_Month'] = data['Date_of_Journey'].dt.month\n",
    "data['Journey_Year'] = data['Date_of_Journey'].dt.year"
   ]
  },
  {
   "cell_type": "code",
   "execution_count": 26,
   "id": "6ef51cb7-f0a8-453c-9479-6e19956a064d",
   "metadata": {},
   "outputs": [
    {
     "data": {
      "text/html": [
       "<div>\n",
       "<style scoped>\n",
       "    .dataframe tbody tr th:only-of-type {\n",
       "        vertical-align: middle;\n",
       "    }\n",
       "\n",
       "    .dataframe tbody tr th {\n",
       "        vertical-align: top;\n",
       "    }\n",
       "\n",
       "    .dataframe thead th {\n",
       "        text-align: right;\n",
       "    }\n",
       "</style>\n",
       "<table border=\"1\" class=\"dataframe\">\n",
       "  <thead>\n",
       "    <tr style=\"text-align: right;\">\n",
       "      <th></th>\n",
       "      <th>Airline</th>\n",
       "      <th>Date_of_Journey</th>\n",
       "      <th>Source</th>\n",
       "      <th>Destination</th>\n",
       "      <th>Route</th>\n",
       "      <th>Dep_Time</th>\n",
       "      <th>Arrival_Time</th>\n",
       "      <th>Duration</th>\n",
       "      <th>Total_Stops</th>\n",
       "      <th>Additional_Info</th>\n",
       "      <th>Price</th>\n",
       "      <th>Journey_Day</th>\n",
       "      <th>Journey_Month</th>\n",
       "      <th>Journey_Year</th>\n",
       "    </tr>\n",
       "  </thead>\n",
       "  <tbody>\n",
       "    <tr>\n",
       "      <th>0</th>\n",
       "      <td>IndiGo</td>\n",
       "      <td>2019-03-24</td>\n",
       "      <td>Banglore</td>\n",
       "      <td>New Delhi</td>\n",
       "      <td>BLR → DEL</td>\n",
       "      <td>2024-08-08 22:20:00</td>\n",
       "      <td>2024-03-22 01:10:00</td>\n",
       "      <td>2h 50m</td>\n",
       "      <td>non-stop</td>\n",
       "      <td>No info</td>\n",
       "      <td>3897</td>\n",
       "      <td>24</td>\n",
       "      <td>3</td>\n",
       "      <td>2019</td>\n",
       "    </tr>\n",
       "    <tr>\n",
       "      <th>1</th>\n",
       "      <td>Air India</td>\n",
       "      <td>2019-05-01</td>\n",
       "      <td>Kolkata</td>\n",
       "      <td>Banglore</td>\n",
       "      <td>CCU → IXR → BBI → BLR</td>\n",
       "      <td>2024-08-08 05:50:00</td>\n",
       "      <td>2024-08-08 13:15:00</td>\n",
       "      <td>7h 25m</td>\n",
       "      <td>2 stops</td>\n",
       "      <td>No info</td>\n",
       "      <td>7662</td>\n",
       "      <td>1</td>\n",
       "      <td>5</td>\n",
       "      <td>2019</td>\n",
       "    </tr>\n",
       "  </tbody>\n",
       "</table>\n",
       "</div>"
      ],
      "text/plain": [
       "     Airline Date_of_Journey    Source Destination                  Route  \\\n",
       "0     IndiGo      2019-03-24  Banglore   New Delhi              BLR → DEL   \n",
       "1  Air India      2019-05-01   Kolkata    Banglore  CCU → IXR → BBI → BLR   \n",
       "\n",
       "             Dep_Time        Arrival_Time Duration Total_Stops  \\\n",
       "0 2024-08-08 22:20:00 2024-03-22 01:10:00   2h 50m    non-stop   \n",
       "1 2024-08-08 05:50:00 2024-08-08 13:15:00   7h 25m     2 stops   \n",
       "\n",
       "  Additional_Info  Price  Journey_Day  Journey_Month  Journey_Year  \n",
       "0         No info   3897           24              3          2019  \n",
       "1         No info   7662            1              5          2019  "
      ]
     },
     "execution_count": 26,
     "metadata": {},
     "output_type": "execute_result"
    }
   ],
   "source": [
    "data.head(2)"
   ]
  },
  {
   "cell_type": "markdown",
   "id": "41450c10-fe00-459b-ae05-a6006d0959df",
   "metadata": {},
   "source": [
    "### Extracting derived attributes from `Dep_Time` and `Arrival_Time` features as `Dep_Time_Hour`, `Dep_Time_Minute`, `Arrival_Time_Hour`, and `Arrival_Time_Minute`"
   ]
  },
  {
   "cell_type": "code",
   "execution_count": 27,
   "id": "6492c264-308e-4d08-8f9f-a99cdba7aa8d",
   "metadata": {},
   "outputs": [],
   "source": [
    "def extract_hour_min(df, col):\n",
    "    df[col+'_Hour'] = df[col].dt.hour\n",
    "    df[col+'_Minute'] = df[col].dt.minute\n",
    "    return df.head(3)"
   ]
  },
  {
   "cell_type": "code",
   "execution_count": 28,
   "id": "b22807f1-7736-4846-abf3-a9889fb5e48a",
   "metadata": {},
   "outputs": [
    {
     "data": {
      "text/plain": [
       "Index(['Airline', 'Date_of_Journey', 'Source', 'Destination', 'Route',\n",
       "       'Dep_Time', 'Arrival_Time', 'Duration', 'Total_Stops',\n",
       "       'Additional_Info', 'Price', 'Journey_Day', 'Journey_Month',\n",
       "       'Journey_Year'],\n",
       "      dtype='object')"
      ]
     },
     "execution_count": 28,
     "metadata": {},
     "output_type": "execute_result"
    }
   ],
   "source": [
    "data.columns"
   ]
  },
  {
   "cell_type": "code",
   "execution_count": 29,
   "id": "36fff689-896f-4447-a960-efb7d08f0d21",
   "metadata": {},
   "outputs": [
    {
     "data": {
      "text/html": [
       "<div>\n",
       "<style scoped>\n",
       "    .dataframe tbody tr th:only-of-type {\n",
       "        vertical-align: middle;\n",
       "    }\n",
       "\n",
       "    .dataframe tbody tr th {\n",
       "        vertical-align: top;\n",
       "    }\n",
       "\n",
       "    .dataframe thead th {\n",
       "        text-align: right;\n",
       "    }\n",
       "</style>\n",
       "<table border=\"1\" class=\"dataframe\">\n",
       "  <thead>\n",
       "    <tr style=\"text-align: right;\">\n",
       "      <th></th>\n",
       "      <th>Airline</th>\n",
       "      <th>Date_of_Journey</th>\n",
       "      <th>Source</th>\n",
       "      <th>Destination</th>\n",
       "      <th>Route</th>\n",
       "      <th>Dep_Time</th>\n",
       "      <th>Arrival_Time</th>\n",
       "      <th>Duration</th>\n",
       "      <th>Total_Stops</th>\n",
       "      <th>Additional_Info</th>\n",
       "      <th>Price</th>\n",
       "      <th>Journey_Day</th>\n",
       "      <th>Journey_Month</th>\n",
       "      <th>Journey_Year</th>\n",
       "      <th>Dep_Time_Hour</th>\n",
       "      <th>Dep_Time_Minute</th>\n",
       "    </tr>\n",
       "  </thead>\n",
       "  <tbody>\n",
       "    <tr>\n",
       "      <th>0</th>\n",
       "      <td>IndiGo</td>\n",
       "      <td>2019-03-24</td>\n",
       "      <td>Banglore</td>\n",
       "      <td>New Delhi</td>\n",
       "      <td>BLR → DEL</td>\n",
       "      <td>2024-08-08 22:20:00</td>\n",
       "      <td>2024-03-22 01:10:00</td>\n",
       "      <td>2h 50m</td>\n",
       "      <td>non-stop</td>\n",
       "      <td>No info</td>\n",
       "      <td>3897</td>\n",
       "      <td>24</td>\n",
       "      <td>3</td>\n",
       "      <td>2019</td>\n",
       "      <td>22</td>\n",
       "      <td>20</td>\n",
       "    </tr>\n",
       "    <tr>\n",
       "      <th>1</th>\n",
       "      <td>Air India</td>\n",
       "      <td>2019-05-01</td>\n",
       "      <td>Kolkata</td>\n",
       "      <td>Banglore</td>\n",
       "      <td>CCU → IXR → BBI → BLR</td>\n",
       "      <td>2024-08-08 05:50:00</td>\n",
       "      <td>2024-08-08 13:15:00</td>\n",
       "      <td>7h 25m</td>\n",
       "      <td>2 stops</td>\n",
       "      <td>No info</td>\n",
       "      <td>7662</td>\n",
       "      <td>1</td>\n",
       "      <td>5</td>\n",
       "      <td>2019</td>\n",
       "      <td>5</td>\n",
       "      <td>50</td>\n",
       "    </tr>\n",
       "    <tr>\n",
       "      <th>2</th>\n",
       "      <td>Jet Airways</td>\n",
       "      <td>2019-06-09</td>\n",
       "      <td>Delhi</td>\n",
       "      <td>Cochin</td>\n",
       "      <td>DEL → LKO → BOM → COK</td>\n",
       "      <td>2024-08-08 09:25:00</td>\n",
       "      <td>2024-06-10 04:25:00</td>\n",
       "      <td>19h</td>\n",
       "      <td>2 stops</td>\n",
       "      <td>No info</td>\n",
       "      <td>13882</td>\n",
       "      <td>9</td>\n",
       "      <td>6</td>\n",
       "      <td>2019</td>\n",
       "      <td>9</td>\n",
       "      <td>25</td>\n",
       "    </tr>\n",
       "  </tbody>\n",
       "</table>\n",
       "</div>"
      ],
      "text/plain": [
       "       Airline Date_of_Journey    Source Destination                  Route  \\\n",
       "0       IndiGo      2019-03-24  Banglore   New Delhi              BLR → DEL   \n",
       "1    Air India      2019-05-01   Kolkata    Banglore  CCU → IXR → BBI → BLR   \n",
       "2  Jet Airways      2019-06-09     Delhi      Cochin  DEL → LKO → BOM → COK   \n",
       "\n",
       "             Dep_Time        Arrival_Time Duration Total_Stops  \\\n",
       "0 2024-08-08 22:20:00 2024-03-22 01:10:00   2h 50m    non-stop   \n",
       "1 2024-08-08 05:50:00 2024-08-08 13:15:00   7h 25m     2 stops   \n",
       "2 2024-08-08 09:25:00 2024-06-10 04:25:00      19h     2 stops   \n",
       "\n",
       "  Additional_Info  Price  Journey_Day  Journey_Month  Journey_Year  \\\n",
       "0         No info   3897           24              3          2019   \n",
       "1         No info   7662            1              5          2019   \n",
       "2         No info  13882            9              6          2019   \n",
       "\n",
       "   Dep_Time_Hour  Dep_Time_Minute  \n",
       "0             22               20  \n",
       "1              5               50  \n",
       "2              9               25  "
      ]
     },
     "execution_count": 29,
     "metadata": {},
     "output_type": "execute_result"
    }
   ],
   "source": [
    "extract_hour_min(data, 'Dep_Time')"
   ]
  },
  {
   "cell_type": "code",
   "execution_count": 30,
   "id": "b91319de-ba48-4e3b-bc50-4cb176cf8f8a",
   "metadata": {},
   "outputs": [
    {
     "data": {
      "text/html": [
       "<div>\n",
       "<style scoped>\n",
       "    .dataframe tbody tr th:only-of-type {\n",
       "        vertical-align: middle;\n",
       "    }\n",
       "\n",
       "    .dataframe tbody tr th {\n",
       "        vertical-align: top;\n",
       "    }\n",
       "\n",
       "    .dataframe thead th {\n",
       "        text-align: right;\n",
       "    }\n",
       "</style>\n",
       "<table border=\"1\" class=\"dataframe\">\n",
       "  <thead>\n",
       "    <tr style=\"text-align: right;\">\n",
       "      <th></th>\n",
       "      <th>Airline</th>\n",
       "      <th>Date_of_Journey</th>\n",
       "      <th>Source</th>\n",
       "      <th>Destination</th>\n",
       "      <th>Route</th>\n",
       "      <th>Dep_Time</th>\n",
       "      <th>Arrival_Time</th>\n",
       "      <th>Duration</th>\n",
       "      <th>Total_Stops</th>\n",
       "      <th>Additional_Info</th>\n",
       "      <th>Price</th>\n",
       "      <th>Journey_Day</th>\n",
       "      <th>Journey_Month</th>\n",
       "      <th>Journey_Year</th>\n",
       "      <th>Dep_Time_Hour</th>\n",
       "      <th>Dep_Time_Minute</th>\n",
       "      <th>Arrival_Time_Hour</th>\n",
       "      <th>Arrival_Time_Minute</th>\n",
       "    </tr>\n",
       "  </thead>\n",
       "  <tbody>\n",
       "    <tr>\n",
       "      <th>0</th>\n",
       "      <td>IndiGo</td>\n",
       "      <td>2019-03-24</td>\n",
       "      <td>Banglore</td>\n",
       "      <td>New Delhi</td>\n",
       "      <td>BLR → DEL</td>\n",
       "      <td>2024-08-08 22:20:00</td>\n",
       "      <td>2024-03-22 01:10:00</td>\n",
       "      <td>2h 50m</td>\n",
       "      <td>non-stop</td>\n",
       "      <td>No info</td>\n",
       "      <td>3897</td>\n",
       "      <td>24</td>\n",
       "      <td>3</td>\n",
       "      <td>2019</td>\n",
       "      <td>22</td>\n",
       "      <td>20</td>\n",
       "      <td>1</td>\n",
       "      <td>10</td>\n",
       "    </tr>\n",
       "    <tr>\n",
       "      <th>1</th>\n",
       "      <td>Air India</td>\n",
       "      <td>2019-05-01</td>\n",
       "      <td>Kolkata</td>\n",
       "      <td>Banglore</td>\n",
       "      <td>CCU → IXR → BBI → BLR</td>\n",
       "      <td>2024-08-08 05:50:00</td>\n",
       "      <td>2024-08-08 13:15:00</td>\n",
       "      <td>7h 25m</td>\n",
       "      <td>2 stops</td>\n",
       "      <td>No info</td>\n",
       "      <td>7662</td>\n",
       "      <td>1</td>\n",
       "      <td>5</td>\n",
       "      <td>2019</td>\n",
       "      <td>5</td>\n",
       "      <td>50</td>\n",
       "      <td>13</td>\n",
       "      <td>15</td>\n",
       "    </tr>\n",
       "    <tr>\n",
       "      <th>2</th>\n",
       "      <td>Jet Airways</td>\n",
       "      <td>2019-06-09</td>\n",
       "      <td>Delhi</td>\n",
       "      <td>Cochin</td>\n",
       "      <td>DEL → LKO → BOM → COK</td>\n",
       "      <td>2024-08-08 09:25:00</td>\n",
       "      <td>2024-06-10 04:25:00</td>\n",
       "      <td>19h</td>\n",
       "      <td>2 stops</td>\n",
       "      <td>No info</td>\n",
       "      <td>13882</td>\n",
       "      <td>9</td>\n",
       "      <td>6</td>\n",
       "      <td>2019</td>\n",
       "      <td>9</td>\n",
       "      <td>25</td>\n",
       "      <td>4</td>\n",
       "      <td>25</td>\n",
       "    </tr>\n",
       "  </tbody>\n",
       "</table>\n",
       "</div>"
      ],
      "text/plain": [
       "       Airline Date_of_Journey    Source Destination                  Route  \\\n",
       "0       IndiGo      2019-03-24  Banglore   New Delhi              BLR → DEL   \n",
       "1    Air India      2019-05-01   Kolkata    Banglore  CCU → IXR → BBI → BLR   \n",
       "2  Jet Airways      2019-06-09     Delhi      Cochin  DEL → LKO → BOM → COK   \n",
       "\n",
       "             Dep_Time        Arrival_Time Duration Total_Stops  \\\n",
       "0 2024-08-08 22:20:00 2024-03-22 01:10:00   2h 50m    non-stop   \n",
       "1 2024-08-08 05:50:00 2024-08-08 13:15:00   7h 25m     2 stops   \n",
       "2 2024-08-08 09:25:00 2024-06-10 04:25:00      19h     2 stops   \n",
       "\n",
       "  Additional_Info  Price  Journey_Day  Journey_Month  Journey_Year  \\\n",
       "0         No info   3897           24              3          2019   \n",
       "1         No info   7662            1              5          2019   \n",
       "2         No info  13882            9              6          2019   \n",
       "\n",
       "   Dep_Time_Hour  Dep_Time_Minute  Arrival_Time_Hour  Arrival_Time_Minute  \n",
       "0             22               20                  1                   10  \n",
       "1              5               50                 13                   15  \n",
       "2              9               25                  4                   25  "
      ]
     },
     "execution_count": 30,
     "metadata": {},
     "output_type": "execute_result"
    }
   ],
   "source": [
    "extract_hour_min(data, 'Arrival_Time')"
   ]
  },
  {
   "cell_type": "markdown",
   "id": "2021eb94-e16b-4e88-9e01-011360fb561b",
   "metadata": {},
   "source": [
    "### Dropping `Dep_Time` and `Arrival_Time` features because derived attributes have been extracted from them and hence they are of no use."
   ]
  },
  {
   "cell_type": "code",
   "execution_count": 31,
   "id": "395d1b66-7c83-413e-b387-518d8a5360f9",
   "metadata": {},
   "outputs": [],
   "source": [
    "cols_to_drop = ['Dep_Time', 'Arrival_Time']\n",
    "\n",
    "data.drop(cols_to_drop, axis=1, inplace=True)"
   ]
  },
  {
   "cell_type": "markdown",
   "id": "40e36768-f243-4561-a99d-acbda5d0c545",
   "metadata": {},
   "source": [
    "> `axis=1` refers to the column of the dataframe <br>\n",
    "> `axis=0` refers to the row of the dataframe"
   ]
  },
  {
   "cell_type": "code",
   "execution_count": 32,
   "id": "d7caf0d3-7f80-4b09-ae4d-93e0d9dc540e",
   "metadata": {},
   "outputs": [
    {
     "data": {
      "text/html": [
       "<div>\n",
       "<style scoped>\n",
       "    .dataframe tbody tr th:only-of-type {\n",
       "        vertical-align: middle;\n",
       "    }\n",
       "\n",
       "    .dataframe tbody tr th {\n",
       "        vertical-align: top;\n",
       "    }\n",
       "\n",
       "    .dataframe thead th {\n",
       "        text-align: right;\n",
       "    }\n",
       "</style>\n",
       "<table border=\"1\" class=\"dataframe\">\n",
       "  <thead>\n",
       "    <tr style=\"text-align: right;\">\n",
       "      <th></th>\n",
       "      <th>Airline</th>\n",
       "      <th>Date_of_Journey</th>\n",
       "      <th>Source</th>\n",
       "      <th>Destination</th>\n",
       "      <th>Route</th>\n",
       "      <th>Duration</th>\n",
       "      <th>Total_Stops</th>\n",
       "      <th>Additional_Info</th>\n",
       "      <th>Price</th>\n",
       "      <th>Journey_Day</th>\n",
       "      <th>Journey_Month</th>\n",
       "      <th>Journey_Year</th>\n",
       "      <th>Dep_Time_Hour</th>\n",
       "      <th>Dep_Time_Minute</th>\n",
       "      <th>Arrival_Time_Hour</th>\n",
       "      <th>Arrival_Time_Minute</th>\n",
       "    </tr>\n",
       "  </thead>\n",
       "  <tbody>\n",
       "    <tr>\n",
       "      <th>0</th>\n",
       "      <td>IndiGo</td>\n",
       "      <td>2019-03-24</td>\n",
       "      <td>Banglore</td>\n",
       "      <td>New Delhi</td>\n",
       "      <td>BLR → DEL</td>\n",
       "      <td>2h 50m</td>\n",
       "      <td>non-stop</td>\n",
       "      <td>No info</td>\n",
       "      <td>3897</td>\n",
       "      <td>24</td>\n",
       "      <td>3</td>\n",
       "      <td>2019</td>\n",
       "      <td>22</td>\n",
       "      <td>20</td>\n",
       "      <td>1</td>\n",
       "      <td>10</td>\n",
       "    </tr>\n",
       "    <tr>\n",
       "      <th>1</th>\n",
       "      <td>Air India</td>\n",
       "      <td>2019-05-01</td>\n",
       "      <td>Kolkata</td>\n",
       "      <td>Banglore</td>\n",
       "      <td>CCU → IXR → BBI → BLR</td>\n",
       "      <td>7h 25m</td>\n",
       "      <td>2 stops</td>\n",
       "      <td>No info</td>\n",
       "      <td>7662</td>\n",
       "      <td>1</td>\n",
       "      <td>5</td>\n",
       "      <td>2019</td>\n",
       "      <td>5</td>\n",
       "      <td>50</td>\n",
       "      <td>13</td>\n",
       "      <td>15</td>\n",
       "    </tr>\n",
       "  </tbody>\n",
       "</table>\n",
       "</div>"
      ],
      "text/plain": [
       "     Airline Date_of_Journey    Source Destination                  Route  \\\n",
       "0     IndiGo      2019-03-24  Banglore   New Delhi              BLR → DEL   \n",
       "1  Air India      2019-05-01   Kolkata    Banglore  CCU → IXR → BBI → BLR   \n",
       "\n",
       "  Duration Total_Stops Additional_Info  Price  Journey_Day  Journey_Month  \\\n",
       "0   2h 50m    non-stop         No info   3897           24              3   \n",
       "1   7h 25m     2 stops         No info   7662            1              5   \n",
       "\n",
       "   Journey_Year  Dep_Time_Hour  Dep_Time_Minute  Arrival_Time_Hour  \\\n",
       "0          2019             22               20                  1   \n",
       "1          2019              5               50                 13   \n",
       "\n",
       "   Arrival_Time_Minute  \n",
       "0                   10  \n",
       "1                   15  "
      ]
     },
     "execution_count": 32,
     "metadata": {},
     "output_type": "execute_result"
    }
   ],
   "source": [
    "data.head(2)"
   ]
  },
  {
   "cell_type": "code",
   "execution_count": 33,
   "id": "0cf21e5f-4563-4e30-ab5e-4c120a2c5c44",
   "metadata": {},
   "outputs": [
    {
     "data": {
      "text/plain": [
       "(10682, 16)"
      ]
     },
     "execution_count": 33,
     "metadata": {},
     "output_type": "execute_result"
    }
   ],
   "source": [
    "data.shape"
   ]
  },
  {
   "cell_type": "markdown",
   "id": "e618739d-83f0-4842-91c0-3ff06a837231",
   "metadata": {},
   "source": [
    "## Exploratory Data Analysis (EDA)"
   ]
  },
  {
   "cell_type": "markdown",
   "id": "e9fcd80a-28da-4eec-a91c-eb8a9f0114bd",
   "metadata": {},
   "source": [
    "### When do most of the flights take off?"
   ]
  },
  {
   "cell_type": "code",
   "execution_count": 34,
   "id": "7efcdfaa-1134-4445-ac75-012742503987",
   "metadata": {},
   "outputs": [
    {
     "data": {
      "text/plain": [
       "Index(['Airline', 'Date_of_Journey', 'Source', 'Destination', 'Route',\n",
       "       'Duration', 'Total_Stops', 'Additional_Info', 'Price', 'Journey_Day',\n",
       "       'Journey_Month', 'Journey_Year', 'Dep_Time_Hour', 'Dep_Time_Minute',\n",
       "       'Arrival_Time_Hour', 'Arrival_Time_Minute'],\n",
       "      dtype='object')"
      ]
     },
     "execution_count": 34,
     "metadata": {},
     "output_type": "execute_result"
    }
   ],
   "source": [
    "data.columns"
   ]
  },
  {
   "cell_type": "markdown",
   "id": "807a61d6-6b6e-44a6-9ff9-daf4b390316e",
   "metadata": {},
   "source": [
    "#### Defining a function to breakdown `Dep_Time_Hour` into different parts of the day\n",
    "1. **Early Morning:** 5:00 AM - 8:00 AM\n",
    "2. **Morning:** 8:00 AM - 12:00 PM\n",
    "3. **Afternoon:** 12:00 PM - 3:00 PM\n",
    "4. **Late Afternoon:** 3:00 PM - 6:00 PM\n",
    "5. **Evening:** 6:00 PM - 9:00 PM\n",
    "6. **Night:** 9:00 PM - 12:00 AM\n",
    "7. **Midnight:** 12:00 AM - 1:00 AM\n",
    "8. **Late Night:** 1:00 AM - 4:00 AM"
   ]
  },
  {
   "cell_type": "code",
   "execution_count": 35,
   "id": "3bb27e49-2871-4d03-a480-5ba4b84fafb8",
   "metadata": {},
   "outputs": [],
   "source": [
    "def flight_dep_time(x):\n",
    "    if(x>5) and (x<=8):\n",
    "        return 'Early Morning'\n",
    "    elif(x>8) and (x<=12):\n",
    "        return 'Morning'\n",
    "    elif(x>12) and (x<=15):\n",
    "        return 'Afternoon'\n",
    "    elif(x>15) and (x<=18):\n",
    "        return 'Late Afternoon'\n",
    "    elif(x>18) and (x<=21):\n",
    "        return 'Evening'\n",
    "    elif(x>21) and (x<=24):\n",
    "        return 'Night'\n",
    "    elif(x>24) and (x<=1):\n",
    "        return 'Midnight'\n",
    "    else:\n",
    "        return 'Late Night'"
   ]
  },
  {
   "cell_type": "markdown",
   "id": "fd23077d-2890-4b71-87ef-1b71412dd1a9",
   "metadata": {},
   "source": [
    "#### Applying the `flight_dep_time` function to the `Dep_Time_Hour` feature"
   ]
  },
  {
   "cell_type": "code",
   "execution_count": 36,
   "id": "d5729929-a350-4b05-b75f-725a50e0c291",
   "metadata": {},
   "outputs": [
    {
     "data": {
      "text/plain": [
       "0             Night\n",
       "1        Late Night\n",
       "2           Morning\n",
       "3    Late Afternoon\n",
       "4    Late Afternoon\n",
       "5           Morning\n",
       "Name: Dep_Time_Hour, dtype: object"
      ]
     },
     "execution_count": 36,
     "metadata": {},
     "output_type": "execute_result"
    }
   ],
   "source": [
    "data['Dep_Time_Hour'].apply(flight_dep_time).head(6)"
   ]
  },
  {
   "cell_type": "markdown",
   "id": "2ccae2e2-2210-45dd-a4ef-fd99aeb6de36",
   "metadata": {},
   "source": [
    "#### Counting the frequencies of `Dep_Time_Hour`"
   ]
  },
  {
   "cell_type": "code",
   "execution_count": 37,
   "id": "a5052cef-ad9f-428c-b823-abd6e6ac3fca",
   "metadata": {},
   "outputs": [
    {
     "data": {
      "text/plain": [
       "Dep_Time_Hour\n",
       "Early Morning     2251\n",
       "Morning           2209\n",
       "Evening           1710\n",
       "Late Afternoon    1611\n",
       "Afternoon         1259\n",
       "Late Night        1094\n",
       "Night              548\n",
       "Name: count, dtype: int64"
      ]
     },
     "execution_count": 37,
     "metadata": {},
     "output_type": "execute_result"
    }
   ],
   "source": [
    "data['Dep_Time_Hour'].apply(flight_dep_time).value_counts()"
   ]
  },
  {
   "cell_type": "markdown",
   "id": "e9a4b287-e0ea-4cf4-ab38-ef440d1cceb6",
   "metadata": {},
   "source": [
    "#### Plotting the frequencies into a bar plot"
   ]
  },
  {
   "cell_type": "code",
   "execution_count": 38,
   "id": "cc47e1e9-ffc5-4fd4-9b4d-352afe93bda5",
   "metadata": {},
   "outputs": [
    {
     "data": {
      "text/plain": [
       "<Axes: xlabel='Dep_Time_Hour'>"
      ]
     },
     "execution_count": 38,
     "metadata": {},
     "output_type": "execute_result"
    },
    {
     "data": {
      "image/png": "[encoded data removed]",
      "text/plain": [
       "<Figure size 640x480 with 1 Axes>"
      ]
     },
     "metadata": {},
     "output_type": "display_data"
    }
   ],
   "source": [
    "data['Dep_Time_Hour'].apply(flight_dep_time).value_counts().plot(kind='bar', color='c')"
   ]
  },
  {
   "cell_type": "markdown",
   "id": "e07509c7-2b6a-45a2-97d4-1ee514a56add",
   "metadata": {},
   "source": [
    "#### Utilizing plotly to create an interactive plot of the `Dep_Time_Hour` frequencies"
   ]
  },
  {
   "cell_type": "code",
   "execution_count": 39,
   "id": "b19df2d2-c478-4aa8-b9ea-2f7e51dda7ba",
   "metadata": {},
   "outputs": [
    {
     "name": "stdout",
     "output_type": "stream",
     "text": [
      "Requirement already satisfied: plotly in d:\\developer\\portfolio_project\\airfare-prediction\\env\\lib\\site-packages (5.22.0)\n",
      "Requirement already satisfied: tenacity>=6.2.0 in d:\\developer\\portfolio_project\\airfare-prediction\\env\\lib\\site-packages (from plotly) (8.2.3)\n",
      "Requirement already satisfied: packaging in d:\\developer\\portfolio_project\\airfare-prediction\\env\\lib\\site-packages (from plotly) (24.1)\n",
      "Requirement already satisfied: chart_studio in d:\\developer\\portfolio_project\\airfare-prediction\\env\\lib\\site-packages (1.1.0)\n",
      "Requirement already satisfied: plotly in d:\\developer\\portfolio_project\\airfare-prediction\\env\\lib\\site-packages (from chart_studio) (5.22.0)\n",
      "Requirement already satisfied: requests in d:\\developer\\portfolio_project\\airfare-prediction\\env\\lib\\site-packages (from chart_studio) (2.32.3)\n",
      "Requirement already satisfied: retrying>=1.3.3 in d:\\developer\\portfolio_project\\airfare-prediction\\env\\lib\\site-packages (from chart_studio) (1.3.4)\n",
      "Requirement already satisfied: six in d:\\developer\\portfolio_project\\airfare-prediction\\env\\lib\\site-packages (from chart_studio) (1.16.0)\n",
      "Requirement already satisfied: tenacity>=6.2.0 in d:\\developer\\portfolio_project\\airfare-prediction\\env\\lib\\site-packages (from plotly->chart_studio) (8.2.3)\n",
      "Requirement already satisfied: packaging in d:\\developer\\portfolio_project\\airfare-prediction\\env\\lib\\site-packages (from plotly->chart_studio) (24.1)\n",
      "Requirement already satisfied: charset-normalizer<4,>=2 in d:\\developer\\portfolio_project\\airfare-prediction\\env\\lib\\site-packages (from requests->chart_studio) (3.3.2)\n",
      "Requirement already satisfied: idna<4,>=2.5 in d:\\developer\\portfolio_project\\airfare-prediction\\env\\lib\\site-packages (from requests->chart_studio) (3.7)\n",
      "Requirement already satisfied: urllib3<3,>=1.21.1 in d:\\developer\\portfolio_project\\airfare-prediction\\env\\lib\\site-packages (from requests->chart_studio) (2.2.2)\n",
      "Requirement already satisfied: certifi>=2017.4.17 in d:\\developer\\portfolio_project\\airfare-prediction\\env\\lib\\site-packages (from requests->chart_studio) (2024.7.4)\n",
      "Requirement already satisfied: cufflinks in d:\\developer\\portfolio_project\\airfare-prediction\\env\\lib\\site-packages (0.17.3)\n",
      "Requirement already satisfied: numpy>=1.9.2 in d:\\developer\\portfolio_project\\airfare-prediction\\env\\lib\\site-packages (from cufflinks) (1.26.4)\n",
      "Requirement already satisfied: pandas>=0.19.2 in d:\\developer\\portfolio_project\\airfare-prediction\\env\\lib\\site-packages (from cufflinks) (2.2.2)\n",
      "Requirement already satisfied: plotly>=4.1.1 in d:\\developer\\portfolio_project\\airfare-prediction\\env\\lib\\site-packages (from cufflinks) (5.22.0)\n",
      "Requirement already satisfied: six>=1.9.0 in d:\\developer\\portfolio_project\\airfare-prediction\\env\\lib\\site-packages (from cufflinks) (1.16.0)\n",
      "Requirement already satisfied: colorlover>=0.2.1 in d:\\developer\\portfolio_project\\airfare-prediction\\env\\lib\\site-packages (from cufflinks) (0.3.0)\n",
      "Requirement already satisfied: setuptools>=34.4.1 in d:\\developer\\portfolio_project\\airfare-prediction\\env\\lib\\site-packages (from cufflinks) (69.5.1)\n",
      "Requirement already satisfied: ipython>=5.3.0 in d:\\developer\\portfolio_project\\airfare-prediction\\env\\lib\\site-packages (from cufflinks) (8.25.0)\n",
      "Requirement already satisfied: ipywidgets>=7.0.0 in d:\\developer\\portfolio_project\\airfare-prediction\\env\\lib\\site-packages (from cufflinks) (8.1.2)\n",
      "Requirement already satisfied: decorator in d:\\developer\\portfolio_project\\airfare-prediction\\env\\lib\\site-packages (from ipython>=5.3.0->cufflinks) (5.1.1)\n",
      "Requirement already satisfied: jedi>=0.16 in d:\\developer\\portfolio_project\\airfare-prediction\\env\\lib\\site-packages (from ipython>=5.3.0->cufflinks) (0.19.1)\n",
      "Requirement already satisfied: matplotlib-inline in d:\\developer\\portfolio_project\\airfare-prediction\\env\\lib\\site-packages (from ipython>=5.3.0->cufflinks) (0.1.6)\n",
      "Requirement already satisfied: prompt-toolkit<3.1.0,>=3.0.41 in d:\\developer\\portfolio_project\\airfare-prediction\\env\\lib\\site-packages (from ipython>=5.3.0->cufflinks) (3.0.43)\n",
      "Requirement already satisfied: pygments>=2.4.0 in d:\\developer\\portfolio_project\\airfare-prediction\\env\\lib\\site-packages (from ipython>=5.3.0->cufflinks) (2.15.1)\n",
      "Requirement already satisfied: stack-data in d:\\developer\\portfolio_project\\airfare-prediction\\env\\lib\\site-packages (from ipython>=5.3.0->cufflinks) (0.2.0)\n",
      "Requirement already satisfied: traitlets>=5.13.0 in d:\\developer\\portfolio_project\\airfare-prediction\\env\\lib\\site-packages (from ipython>=5.3.0->cufflinks) (5.14.3)\n",
      "Requirement already satisfied: colorama in d:\\developer\\portfolio_project\\airfare-prediction\\env\\lib\\site-packages (from ipython>=5.3.0->cufflinks) (0.4.6)\n",
      "Requirement already satisfied: comm>=0.1.3 in d:\\developer\\portfolio_project\\airfare-prediction\\env\\lib\\site-packages (from ipywidgets>=7.0.0->cufflinks) (0.2.1)\n",
      "Requirement already satisfied: widgetsnbextension~=4.0.10 in d:\\developer\\portfolio_project\\airfare-prediction\\env\\lib\\site-packages (from ipywidgets>=7.0.0->cufflinks) (4.0.10)\n",
      "Requirement already satisfied: jupyterlab-widgets~=3.0.10 in d:\\developer\\portfolio_project\\airfare-prediction\\env\\lib\\site-packages (from ipywidgets>=7.0.0->cufflinks) (3.0.10)\n",
      "Requirement already satisfied: python-dateutil>=2.8.2 in d:\\developer\\portfolio_project\\airfare-prediction\\env\\lib\\site-packages (from pandas>=0.19.2->cufflinks) (2.9.0.post0)\n",
      "Requirement already satisfied: pytz>=2020.1 in d:\\developer\\portfolio_project\\airfare-prediction\\env\\lib\\site-packages (from pandas>=0.19.2->cufflinks) (2024.1)\n",
      "Requirement already satisfied: tzdata>=2022.7 in d:\\developer\\portfolio_project\\airfare-prediction\\env\\lib\\site-packages (from pandas>=0.19.2->cufflinks) (2023.3)\n",
      "Requirement already satisfied: tenacity>=6.2.0 in d:\\developer\\portfolio_project\\airfare-prediction\\env\\lib\\site-packages (from plotly>=4.1.1->cufflinks) (8.2.3)\n",
      "Requirement already satisfied: packaging in d:\\developer\\portfolio_project\\airfare-prediction\\env\\lib\\site-packages (from plotly>=4.1.1->cufflinks) (24.1)\n",
      "Requirement already satisfied: parso<0.9.0,>=0.8.3 in d:\\developer\\portfolio_project\\airfare-prediction\\env\\lib\\site-packages (from jedi>=0.16->ipython>=5.3.0->cufflinks) (0.8.3)\n",
      "Requirement already satisfied: wcwidth in d:\\developer\\portfolio_project\\airfare-prediction\\env\\lib\\site-packages (from prompt-toolkit<3.1.0,>=3.0.41->ipython>=5.3.0->cufflinks) (0.2.5)\n",
      "Requirement already satisfied: executing in d:\\developer\\portfolio_project\\airfare-prediction\\env\\lib\\site-packages (from stack-data->ipython>=5.3.0->cufflinks) (0.8.3)\n",
      "Requirement already satisfied: asttokens in d:\\developer\\portfolio_project\\airfare-prediction\\env\\lib\\site-packages (from stack-data->ipython>=5.3.0->cufflinks) (2.0.5)\n",
      "Requirement already satisfied: pure-eval in d:\\developer\\portfolio_project\\airfare-prediction\\env\\lib\\site-packages (from stack-data->ipython>=5.3.0->cufflinks) (0.2.2)\n"
     ]
    }
   ],
   "source": [
    "!pip install plotly\n",
    "!pip install chart_studio\n",
    "!pip install cufflinks"
   ]
  },
  {
   "cell_type": "code",
   "execution_count": 40,
   "id": "91880ac9-2e14-4d3e-887f-365e875ae9df",
   "metadata": {},
   "outputs": [
    {
     "data": {
      "text/html": [
       "        <script type=\"text/javascript\">\n",
       "        window.PlotlyConfig = {MathJaxConfig: 'local'};\n",
       "        if (window.MathJax && window.MathJax.Hub && window.MathJax.Hub.Config) {window.MathJax.Hub.Config({SVG: {font: \"STIX-Web\"}});}\n",
       "        if (typeof require !== 'undefined') {\n",
       "        require.undef(\"plotly\");\n",
       "        requirejs.config({\n",
       "            paths: {\n",
       "                'plotly': ['https://cdn.plot.ly/plotly-2.32.0.min']\n",
       "            }\n",
       "        });\n",
       "        require(['plotly'], function(Plotly) {\n",
       "            window._Plotly = Plotly;\n",
       "        });\n",
       "        }\n",
       "        </script>\n",
       "        "
      ]
     },
     "metadata": {},
     "output_type": "display_data"
    },
    {
     "data": {
      "text/html": [
       "        <script type=\"text/javascript\">\n",
       "        window.PlotlyConfig = {MathJaxConfig: 'local'};\n",
       "        if (window.MathJax && window.MathJax.Hub && window.MathJax.Hub.Config) {window.MathJax.Hub.Config({SVG: {font: \"STIX-Web\"}});}\n",
       "        if (typeof require !== 'undefined') {\n",
       "        require.undef(\"plotly\");\n",
       "        requirejs.config({\n",
       "            paths: {\n",
       "                'plotly': ['https://cdn.plot.ly/plotly-2.32.0.min']\n",
       "            }\n",
       "        });\n",
       "        require(['plotly'], function(Plotly) {\n",
       "            window._Plotly = Plotly;\n",
       "        });\n",
       "        }\n",
       "        </script>\n",
       "        "
      ]
     },
     "metadata": {},
     "output_type": "display_data"
    }
   ],
   "source": [
    "import plotly\n",
    "import cufflinks as cf\n",
    "from cufflinks.offline import go_offline\n",
    "from plotly.offline import plot, iplot, init_notebook_mode, download_plotlyjs\n",
    "init_notebook_mode(connected=True)\n",
    "cf.go_offline()"
   ]
  },
  {
   "cell_type": "markdown",
   "id": "ad17665a-232c-42ba-ade4-816f7bf8c2b8",
   "metadata": {},
   "source": [
    ">- `go_offline` from `cufflinks.offline` is required to set the plotly plot for offline access within the Jupyter notebook.\n",
    ">- `plot` helps to create matplotlib like visualizations. Creates Plotly plot as an HTML file. It renders the plot offline.\n",
    ">- `iplot` helps to create interactive visualizations (creates javascript plot). Specifically designed for use in Jupyter notebook.\n",
    ">- `init_notebook_mode(connected=True)` helps to initialize the interactive plotting mode in the Jupyter notebook. By setting `connected=True`, plots will be rendered using the Plotly cloud service, which allows for interactive features and better rendering. If set to `connected=False`, the plots will be rendered locally without connecting to Plotly's cloud service.\n",
    ">- `cf.go_offline()` helps to render plots locally within the environment where the code is executed (Jupyter notebook) without requiring an internet connection."
   ]
  },
  {
   "cell_type": "code",
   "execution_count": 41,
   "id": "62f30bca-2ef0-4e4a-b291-9baf57f82e3b",
   "metadata": {},
   "outputs": [
    {
     "data": {
      "application/vnd.plotly.v1+json": {
       "config": {
        "linkText": "Export to plot.ly",
        "plotlyServerURL": "https://plot.ly",
        "showLink": true
       },
       "data": [
        {
         "marker": {
          "color": "rgba(255, 153, 51, 0.6)",
          "line": {
           "color": "rgba(255, 153, 51, 1.0)",
           "width": 1
          }
         },
         "name": "count",
         "orientation": "v",
         "text": "",
         "type": "bar",
         "x": [
          "Early Morning",
          "Morning",
          "Evening",
          "Late Afternoon",
          "Afternoon",
          "Late Night",
          "Night"
         ],
         "y": [
          2251,
          2209,
          1710,
          1611,
          1259,
          1094,
          548
         ]
        }
       ],
       "layout": {
        "autosize": true,
        "legend": {
         "bgcolor": "#F5F6F9",
         "font": {
          "color": "#4D5663"
         }
        },
        "paper_bgcolor": "#F5F6F9",
        "plot_bgcolor": "#F5F6F9",
        "template": {
         "data": {
          "bar": [
           {
            "error_x": {
             "color": "#2a3f5f"
            },
            "error_y": {
             "color": "#2a3f5f"
            },
            "marker": {
             "line": {
              "color": "#E5ECF6",
              "width": 0.5
             },
             "pattern": {
              "fillmode": "overlay",
              "size": 10,
              "solidity": 0.2
             }
            },
            "type": "bar"
           }
          ],
          "barpolar": [
           {
            "marker": {
             "line": {
              "color": "#E5ECF6",
              "width": 0.5
             },
             "pattern": {
              "fillmode": "overlay",
              "size": 10,
              "solidity": 0.2
             }
            },
            "type": "barpolar"
           }
          ],
          "carpet": [
           {
            "aaxis": {
             "endlinecolor": "#2a3f5f",
             "gridcolor": "white",
             "linecolor": "white",
             "minorgridcolor": "white",
             "startlinecolor": "#2a3f5f"
            },
            "baxis": {
             "endlinecolor": "#2a3f5f",
             "gridcolor": "white",
             "linecolor": "white",
             "minorgridcolor": "white",
             "startlinecolor": "#2a3f5f"
            },
            "type": "carpet"
           }
          ],
          "choropleth": [
           {
            "colorbar": {
             "outlinewidth": 0,
             "ticks": ""
            },
            "type": "choropleth"
           }
          ],
          "contour": [
           {
            "colorbar": {
             "outlinewidth": 0,
             "ticks": ""
            },
            "colorscale": [
             [
              0,
              "#0d0887"
             ],
             [
              0.1111111111111111,
              "#46039f"
             ],
             [
              0.2222222222222222,
              "#7201a8"
             ],
             [
              0.3333333333333333,
              "#9c179e"
             ],
             [
              0.4444444444444444,
              "#bd3786"
             ],
             [
              0.5555555555555556,
              "#d8576b"
             ],
             [
              0.6666666666666666,
              "#ed7953"
             ],
             [
              0.7777777777777778,
              "#fb9f3a"
             ],
             [
              0.8888888888888888,
              "#fdca26"
             ],
             [
              1,
              "#f0f921"
             ]
            ],
            "type": "contour"
           }
          ],
          "contourcarpet": [
           {
            "colorbar": {
             "outlinewidth": 0,
             "ticks": ""
            },
            "type": "contourcarpet"
           }
          ],
          "heatmap": [
           {
            "colorbar": {
             "outlinewidth": 0,
             "ticks": ""
            },
            "colorscale": [
             [
              0,
              "#0d0887"
             ],
             [
              0.1111111111111111,
              "#46039f"
             ],
             [
              0.2222222222222222,
              "#7201a8"
             ],
             [
              0.3333333333333333,
              "#9c179e"
             ],
             [
              0.4444444444444444,
              "#bd3786"
             ],
             [
              0.5555555555555556,
              "#d8576b"
             ],
             [
              0.6666666666666666,
              "#ed7953"
             ],
             [
              0.7777777777777778,
              "#fb9f3a"
             ],
             [
              0.8888888888888888,
              "#fdca26"
             ],
             [
              1,
              "#f0f921"
             ]
            ],
            "type": "heatmap"
           }
          ],
          "heatmapgl": [
           {
            "colorbar": {
             "outlinewidth": 0,
             "ticks": ""
            },
            "colorscale": [
             [
              0,
              "#0d0887"
             ],
             [
              0.1111111111111111,
              "#46039f"
             ],
             [
              0.2222222222222222,
              "#7201a8"
             ],
             [
              0.3333333333333333,
              "#9c179e"
             ],
             [
              0.4444444444444444,
              "#bd3786"
             ],
             [
              0.5555555555555556,
              "#d8576b"
             ],
             [
              0.6666666666666666,
              "#ed7953"
             ],
             [
              0.7777777777777778,
              "#fb9f3a"
             ],
             [
              0.8888888888888888,
              "#fdca26"
             ],
             [
              1,
              "#f0f921"
             ]
            ],
            "type": "heatmapgl"
           }
          ],
          "histogram": [
           {
            "marker": {
             "pattern": {
              "fillmode": "overlay",
              "size": 10,
              "solidity": 0.2
             }
            },
            "type": "histogram"
           }
          ],
          "histogram2d": [
           {
            "colorbar": {
             "outlinewidth": 0,
             "ticks": ""
            },
            "colorscale": [
             [
              0,
              "#0d0887"
             ],
             [
              0.1111111111111111,
              "#46039f"
             ],
             [
              0.2222222222222222,
              "#7201a8"
             ],
             [
              0.3333333333333333,
              "#9c179e"
             ],
             [
              0.4444444444444444,
              "#bd3786"
             ],
             [
              0.5555555555555556,
              "#d8576b"
             ],
             [
              0.6666666666666666,
              "#ed7953"
             ],
             [
              0.7777777777777778,
              "#fb9f3a"
             ],
             [
              0.8888888888888888,
              "#fdca26"
             ],
             [
              1,
              "#f0f921"
             ]
            ],
            "type": "histogram2d"
           }
          ],
          "histogram2dcontour": [
           {
            "colorbar": {
             "outlinewidth": 0,
             "ticks": ""
            },
            "colorscale": [
             [
              0,
              "#0d0887"
             ],
             [
              0.1111111111111111,
              "#46039f"
             ],
             [
              0.2222222222222222,
              "#7201a8"
             ],
             [
              0.3333333333333333,
              "#9c179e"
             ],
             [
              0.4444444444444444,
              "#bd3786"
             ],
             [
              0.5555555555555556,
              "#d8576b"
             ],
             [
              0.6666666666666666,
              "#ed7953"
             ],
             [
              0.7777777777777778,
              "#fb9f3a"
             ],
             [
              0.8888888888888888,
              "#fdca26"
             ],
             [
              1,
              "#f0f921"
             ]
            ],
            "type": "histogram2dcontour"
           }
          ],
          "mesh3d": [
           {
            "colorbar": {
             "outlinewidth": 0,
             "ticks": ""
            },
            "type": "mesh3d"
           }
          ],
          "parcoords": [
           {
            "line": {
             "colorbar": {
              "outlinewidth": 0,
              "ticks": ""
             }
            },
            "type": "parcoords"
           }
          ],
          "pie": [
           {
            "automargin": true,
            "type": "pie"
           }
          ],
          "scatter": [
           {
            "fillpattern": {
             "fillmode": "overlay",
             "size": 10,
             "solidity": 0.2
            },
            "type": "scatter"
           }
          ],
          "scatter3d": [
           {
            "line": {
             "colorbar": {
              "outlinewidth": 0,
              "ticks": ""
             }
            },
            "marker": {
             "colorbar": {
              "outlinewidth": 0,
              "ticks": ""
             }
            },
            "type": "scatter3d"
           }
          ],
          "scattercarpet": [
           {
            "marker": {
             "colorbar": {
              "outlinewidth": 0,
              "ticks": ""
             }
            },
            "type": "scattercarpet"
           }
          ],
          "scattergeo": [
           {
            "marker": {
             "colorbar": {
              "outlinewidth": 0,
              "ticks": ""
             }
            },
            "type": "scattergeo"
           }
          ],
          "scattergl": [
           {
            "marker": {
             "colorbar": {
              "outlinewidth": 0,
              "ticks": ""
             }
            },
            "type": "scattergl"
           }
          ],
          "scattermapbox": [
           {
            "marker": {
             "colorbar": {
              "outlinewidth": 0,
              "ticks": ""
             }
            },
            "type": "scattermapbox"
           }
          ],
          "scatterpolar": [
           {
            "marker": {
             "colorbar": {
              "outlinewidth": 0,
              "ticks": ""
             }
            },
            "type": "scatterpolar"
           }
          ],
          "scatterpolargl": [
           {
            "marker": {
             "colorbar": {
              "outlinewidth": 0,
              "ticks": ""
             }
            },
            "type": "scatterpolargl"
           }
          ],
          "scatterternary": [
           {
            "marker": {
             "colorbar": {
              "outlinewidth": 0,
              "ticks": ""
             }
            },
            "type": "scatterternary"
           }
          ],
          "surface": [
           {
            "colorbar": {
             "outlinewidth": 0,
             "ticks": ""
            },
            "colorscale": [
             [
              0,
              "#0d0887"
             ],
             [
              0.1111111111111111,
              "#46039f"
             ],
             [
              0.2222222222222222,
              "#7201a8"
             ],
             [
              0.3333333333333333,
              "#9c179e"
             ],
             [
              0.4444444444444444,
              "#bd3786"
             ],
             [
              0.5555555555555556,
              "#d8576b"
             ],
             [
              0.6666666666666666,
              "#ed7953"
             ],
             [
              0.7777777777777778,
              "#fb9f3a"
             ],
             [
              0.8888888888888888,
              "#fdca26"
             ],
             [
              1,
              "#f0f921"
             ]
            ],
            "type": "surface"
           }
          ],
          "table": [
           {
            "cells": {
             "fill": {
              "color": "#EBF0F8"
             },
             "line": {
              "color": "white"
             }
            },
            "header": {
             "fill": {
              "color": "#C8D4E3"
             },
             "line": {
              "color": "white"
             }
            },
            "type": "table"
           }
          ]
         },
         "layout": {
          "annotationdefaults": {
           "arrowcolor": "#2a3f5f",
           "arrowhead": 0,
           "arrowwidth": 1
          },
          "autotypenumbers": "strict",
          "coloraxis": {
           "colorbar": {
            "outlinewidth": 0,
            "ticks": ""
           }
          },
          "colorscale": {
           "diverging": [
            [
             0,
             "#8e0152"
            ],
            [
             0.1,
             "#c51b7d"
            ],
            [
             0.2,
             "#de77ae"
            ],
            [
             0.3,
             "#f1b6da"
            ],
            [
             0.4,
             "#fde0ef"
            ],
            [
             0.5,
             "#f7f7f7"
            ],
            [
             0.6,
             "#e6f5d0"
            ],
            [
             0.7,
             "#b8e186"
            ],
            [
             0.8,
             "#7fbc41"
            ],
            [
             0.9,
             "#4d9221"
            ],
            [
             1,
             "#276419"
            ]
           ],
           "sequential": [
            [
             0,
             "#0d0887"
            ],
            [
             0.1111111111111111,
             "#46039f"
            ],
            [
             0.2222222222222222,
             "#7201a8"
            ],
            [
             0.3333333333333333,
             "#9c179e"
            ],
            [
             0.4444444444444444,
             "#bd3786"
            ],
            [
             0.5555555555555556,
             "#d8576b"
            ],
            [
             0.6666666666666666,
             "#ed7953"
            ],
            [
             0.7777777777777778,
             "#fb9f3a"
            ],
            [
             0.8888888888888888,
             "#fdca26"
            ],
            [
             1,
             "#f0f921"
            ]
           ],
           "sequentialminus": [
            [
             0,
             "#0d0887"
            ],
            [
             0.1111111111111111,
             "#46039f"
            ],
            [
             0.2222222222222222,
             "#7201a8"
            ],
            [
             0.3333333333333333,
             "#9c179e"
            ],
            [
             0.4444444444444444,
             "#bd3786"
            ],
            [
             0.5555555555555556,
             "#d8576b"
            ],
            [
             0.6666666666666666,
             "#ed7953"
            ],
            [
             0.7777777777777778,
             "#fb9f3a"
            ],
            [
             0.8888888888888888,
             "#fdca26"
            ],
            [
             1,
             "#f0f921"
            ]
           ]
          },
          "colorway": [
           "#636efa",
           "#EF553B",
           "#00cc96",
           "#ab63fa",
           "#FFA15A",
           "#19d3f3",
           "#FF6692",
           "#B6E880",
           "#FF97FF",
           "#FECB52"
          ],
          "font": {
           "color": "#2a3f5f"
          },
          "geo": {
           "bgcolor": "white",
           "lakecolor": "white",
           "landcolor": "#E5ECF6",
           "showlakes": true,
           "showland": true,
           "subunitcolor": "white"
          },
          "hoverlabel": {
           "align": "left"
          },
          "hovermode": "closest",
          "mapbox": {
           "style": "light"
          },
          "paper_bgcolor": "white",
          "plot_bgcolor": "#E5ECF6",
          "polar": {
           "angularaxis": {
            "gridcolor": "white",
            "linecolor": "white",
            "ticks": ""
           },
           "bgcolor": "#E5ECF6",
           "radialaxis": {
            "gridcolor": "white",
            "linecolor": "white",
            "ticks": ""
           }
          },
          "scene": {
           "xaxis": {
            "backgroundcolor": "#E5ECF6",
            "gridcolor": "white",
            "gridwidth": 2,
            "linecolor": "white",
            "showbackground": true,
            "ticks": "",
            "zerolinecolor": "white"
           },
           "yaxis": {
            "backgroundcolor": "#E5ECF6",
            "gridcolor": "white",
            "gridwidth": 2,
            "linecolor": "white",
            "showbackground": true,
            "ticks": "",
            "zerolinecolor": "white"
           },
           "zaxis": {
            "backgroundcolor": "#E5ECF6",
            "gridcolor": "white",
            "gridwidth": 2,
            "linecolor": "white",
            "showbackground": true,
            "ticks": "",
            "zerolinecolor": "white"
           }
          },
          "shapedefaults": {
           "line": {
            "color": "#2a3f5f"
           }
          },
          "ternary": {
           "aaxis": {
            "gridcolor": "white",
            "linecolor": "white",
            "ticks": ""
           },
           "baxis": {
            "gridcolor": "white",
            "linecolor": "white",
            "ticks": ""
           },
           "bgcolor": "#E5ECF6",
           "caxis": {
            "gridcolor": "white",
            "linecolor": "white",
            "ticks": ""
           }
          },
          "title": {
           "x": 0.05
          },
          "xaxis": {
           "automargin": true,
           "gridcolor": "white",
           "linecolor": "white",
           "ticks": "",
           "title": {
            "standoff": 15
           },
           "zerolinecolor": "white",
           "zerolinewidth": 2
          },
          "yaxis": {
           "automargin": true,
           "gridcolor": "white",
           "linecolor": "white",
           "ticks": "",
           "title": {
            "standoff": 15
           },
           "zerolinecolor": "white",
           "zerolinewidth": 2
          }
         }
        },
        "title": {
         "font": {
          "color": "#4D5663"
         }
        },
        "xaxis": {
         "autorange": true,
         "gridcolor": "#E1E5ED",
         "range": [
          -0.5,
          6.5
         ],
         "showgrid": true,
         "tickfont": {
          "color": "#4D5663"
         },
         "title": {
          "font": {
           "color": "#4D5663"
          },
          "text": ""
         },
         "type": "category",
         "zerolinecolor": "#E1E5ED"
        },
        "yaxis": {
         "autorange": true,
         "gridcolor": "#E1E5ED",
         "range": [
          0,
          2369.4736842105262
         ],
         "showgrid": true,
         "tickfont": {
          "color": "#4D5663"
         },
         "title": {
          "font": {
           "color": "#4D5663"
          },
          "text": ""
         },
         "type": "linear",
         "zerolinecolor": "#E1E5ED"
        }
       }
      },
      "image/png": "[encoded data removed]",
      "text/html": [
       "<div>                            <div id=\"533b463e-113f-40c4-b90a-4c55c8e4c489\" class=\"plotly-graph-div\" style=\"height:525px; width:100%;\"></div>            <script type=\"text/javascript\">                require([\"plotly\"], function(Plotly) {                    window.PLOTLYENV=window.PLOTLYENV || {};\n",
       "                    window.PLOTLYENV.BASE_URL='https://plot.ly';                                    if (document.getElementById(\"533b463e-113f-40c4-b90a-4c55c8e4c489\")) {                    Plotly.newPlot(                        \"533b463e-113f-40c4-b90a-4c55c8e4c489\",                        [{\"marker\":{\"color\":\"rgba(255, 153, 51, 0.6)\",\"line\":{\"color\":\"rgba(255, 153, 51, 1.0)\",\"width\":1}},\"name\":\"count\",\"orientation\":\"v\",\"text\":\"\",\"x\":[\"Early Morning\",\"Morning\",\"Evening\",\"Late Afternoon\",\"Afternoon\",\"Late Night\",\"Night\"],\"y\":[2251,2209,1710,1611,1259,1094,548],\"type\":\"bar\"}],                        {\"legend\":{\"bgcolor\":\"#F5F6F9\",\"font\":{\"color\":\"#4D5663\"}},\"paper_bgcolor\":\"#F5F6F9\",\"plot_bgcolor\":\"#F5F6F9\",\"template\":{\"data\":{\"barpolar\":[{\"marker\":{\"line\":{\"color\":\"#E5ECF6\",\"width\":0.5},\"pattern\":{\"fillmode\":\"overlay\",\"size\":10,\"solidity\":0.2}},\"type\":\"barpolar\"}],\"bar\":[{\"error_x\":{\"color\":\"#2a3f5f\"},\"error_y\":{\"color\":\"#2a3f5f\"},\"marker\":{\"line\":{\"color\":\"#E5ECF6\",\"width\":0.5},\"pattern\":{\"fillmode\":\"overlay\",\"size\":10,\"solidity\":0.2}},\"type\":\"bar\"}],\"carpet\":[{\"aaxis\":{\"endlinecolor\":\"#2a3f5f\",\"gridcolor\":\"white\",\"linecolor\":\"white\",\"minorgridcolor\":\"white\",\"startlinecolor\":\"#2a3f5f\"},\"baxis\":{\"endlinecolor\":\"#2a3f5f\",\"gridcolor\":\"white\",\"linecolor\":\"white\",\"minorgridcolor\":\"white\",\"startlinecolor\":\"#2a3f5f\"},\"type\":\"carpet\"}],\"choropleth\":[{\"colorbar\":{\"outlinewidth\":0,\"ticks\":\"\"},\"type\":\"choropleth\"}],\"contourcarpet\":[{\"colorbar\":{\"outlinewidth\":0,\"ticks\":\"\"},\"type\":\"contourcarpet\"}],\"contour\":[{\"colorbar\":{\"outlinewidth\":0,\"ticks\":\"\"},\"colorscale\":[[0.0,\"#0d0887\"],[0.1111111111111111,\"#46039f\"],[0.2222222222222222,\"#7201a8\"],[0.3333333333333333,\"#9c179e\"],[0.4444444444444444,\"#bd3786\"],[0.5555555555555556,\"#d8576b\"],[0.6666666666666666,\"#ed7953\"],[0.7777777777777778,\"#fb9f3a\"],[0.8888888888888888,\"#fdca26\"],[1.0,\"#f0f921\"]],\"type\":\"contour\"}],\"heatmapgl\":[{\"colorbar\":{\"outlinewidth\":0,\"ticks\":\"\"},\"colorscale\":[[0.0,\"#0d0887\"],[0.1111111111111111,\"#46039f\"],[0.2222222222222222,\"#7201a8\"],[0.3333333333333333,\"#9c179e\"],[0.4444444444444444,\"#bd3786\"],[0.5555555555555556,\"#d8576b\"],[0.6666666666666666,\"#ed7953\"],[0.7777777777777778,\"#fb9f3a\"],[0.8888888888888888,\"#fdca26\"],[1.0,\"#f0f921\"]],\"type\":\"heatmapgl\"}],\"heatmap\":[{\"colorbar\":{\"outlinewidth\":0,\"ticks\":\"\"},\"colorscale\":[[0.0,\"#0d0887\"],[0.1111111111111111,\"#46039f\"],[0.2222222222222222,\"#7201a8\"],[0.3333333333333333,\"#9c179e\"],[0.4444444444444444,\"#bd3786\"],[0.5555555555555556,\"#d8576b\"],[0.6666666666666666,\"#ed7953\"],[0.7777777777777778,\"#fb9f3a\"],[0.8888888888888888,\"#fdca26\"],[1.0,\"#f0f921\"]],\"type\":\"heatmap\"}],\"histogram2dcontour\":[{\"colorbar\":{\"outlinewidth\":0,\"ticks\":\"\"},\"colorscale\":[[0.0,\"#0d0887\"],[0.1111111111111111,\"#46039f\"],[0.2222222222222222,\"#7201a8\"],[0.3333333333333333,\"#9c179e\"],[0.4444444444444444,\"#bd3786\"],[0.5555555555555556,\"#d8576b\"],[0.6666666666666666,\"#ed7953\"],[0.7777777777777778,\"#fb9f3a\"],[0.8888888888888888,\"#fdca26\"],[1.0,\"#f0f921\"]],\"type\":\"histogram2dcontour\"}],\"histogram2d\":[{\"colorbar\":{\"outlinewidth\":0,\"ticks\":\"\"},\"colorscale\":[[0.0,\"#0d0887\"],[0.1111111111111111,\"#46039f\"],[0.2222222222222222,\"#7201a8\"],[0.3333333333333333,\"#9c179e\"],[0.4444444444444444,\"#bd3786\"],[0.5555555555555556,\"#d8576b\"],[0.6666666666666666,\"#ed7953\"],[0.7777777777777778,\"#fb9f3a\"],[0.8888888888888888,\"#fdca26\"],[1.0,\"#f0f921\"]],\"type\":\"histogram2d\"}],\"histogram\":[{\"marker\":{\"pattern\":{\"fillmode\":\"overlay\",\"size\":10,\"solidity\":0.2}},\"type\":\"histogram\"}],\"mesh3d\":[{\"colorbar\":{\"outlinewidth\":0,\"ticks\":\"\"},\"type\":\"mesh3d\"}],\"parcoords\":[{\"line\":{\"colorbar\":{\"outlinewidth\":0,\"ticks\":\"\"}},\"type\":\"parcoords\"}],\"pie\":[{\"automargin\":true,\"type\":\"pie\"}],\"scatter3d\":[{\"line\":{\"colorbar\":{\"outlinewidth\":0,\"ticks\":\"\"}},\"marker\":{\"colorbar\":{\"outlinewidth\":0,\"ticks\":\"\"}},\"type\":\"scatter3d\"}],\"scattercarpet\":[{\"marker\":{\"colorbar\":{\"outlinewidth\":0,\"ticks\":\"\"}},\"type\":\"scattercarpet\"}],\"scattergeo\":[{\"marker\":{\"colorbar\":{\"outlinewidth\":0,\"ticks\":\"\"}},\"type\":\"scattergeo\"}],\"scattergl\":[{\"marker\":{\"colorbar\":{\"outlinewidth\":0,\"ticks\":\"\"}},\"type\":\"scattergl\"}],\"scattermapbox\":[{\"marker\":{\"colorbar\":{\"outlinewidth\":0,\"ticks\":\"\"}},\"type\":\"scattermapbox\"}],\"scatterpolargl\":[{\"marker\":{\"colorbar\":{\"outlinewidth\":0,\"ticks\":\"\"}},\"type\":\"scatterpolargl\"}],\"scatterpolar\":[{\"marker\":{\"colorbar\":{\"outlinewidth\":0,\"ticks\":\"\"}},\"type\":\"scatterpolar\"}],\"scatter\":[{\"fillpattern\":{\"fillmode\":\"overlay\",\"size\":10,\"solidity\":0.2},\"type\":\"scatter\"}],\"scatterternary\":[{\"marker\":{\"colorbar\":{\"outlinewidth\":0,\"ticks\":\"\"}},\"type\":\"scatterternary\"}],\"surface\":[{\"colorbar\":{\"outlinewidth\":0,\"ticks\":\"\"},\"colorscale\":[[0.0,\"#0d0887\"],[0.1111111111111111,\"#46039f\"],[0.2222222222222222,\"#7201a8\"],[0.3333333333333333,\"#9c179e\"],[0.4444444444444444,\"#bd3786\"],[0.5555555555555556,\"#d8576b\"],[0.6666666666666666,\"#ed7953\"],[0.7777777777777778,\"#fb9f3a\"],[0.8888888888888888,\"#fdca26\"],[1.0,\"#f0f921\"]],\"type\":\"surface\"}],\"table\":[{\"cells\":{\"fill\":{\"color\":\"#EBF0F8\"},\"line\":{\"color\":\"white\"}},\"header\":{\"fill\":{\"color\":\"#C8D4E3\"},\"line\":{\"color\":\"white\"}},\"type\":\"table\"}]},\"layout\":{\"annotationdefaults\":{\"arrowcolor\":\"#2a3f5f\",\"arrowhead\":0,\"arrowwidth\":1},\"autotypenumbers\":\"strict\",\"coloraxis\":{\"colorbar\":{\"outlinewidth\":0,\"ticks\":\"\"}},\"colorscale\":{\"diverging\":[[0,\"#8e0152\"],[0.1,\"#c51b7d\"],[0.2,\"#de77ae\"],[0.3,\"#f1b6da\"],[0.4,\"#fde0ef\"],[0.5,\"#f7f7f7\"],[0.6,\"#e6f5d0\"],[0.7,\"#b8e186\"],[0.8,\"#7fbc41\"],[0.9,\"#4d9221\"],[1,\"#276419\"]],\"sequential\":[[0.0,\"#0d0887\"],[0.1111111111111111,\"#46039f\"],[0.2222222222222222,\"#7201a8\"],[0.3333333333333333,\"#9c179e\"],[0.4444444444444444,\"#bd3786\"],[0.5555555555555556,\"#d8576b\"],[0.6666666666666666,\"#ed7953\"],[0.7777777777777778,\"#fb9f3a\"],[0.8888888888888888,\"#fdca26\"],[1.0,\"#f0f921\"]],\"sequentialminus\":[[0.0,\"#0d0887\"],[0.1111111111111111,\"#46039f\"],[0.2222222222222222,\"#7201a8\"],[0.3333333333333333,\"#9c179e\"],[0.4444444444444444,\"#bd3786\"],[0.5555555555555556,\"#d8576b\"],[0.6666666666666666,\"#ed7953\"],[0.7777777777777778,\"#fb9f3a\"],[0.8888888888888888,\"#fdca26\"],[1.0,\"#f0f921\"]]},\"colorway\":[\"#636efa\",\"#EF553B\",\"#00cc96\",\"#ab63fa\",\"#FFA15A\",\"#19d3f3\",\"#FF6692\",\"#B6E880\",\"#FF97FF\",\"#FECB52\"],\"font\":{\"color\":\"#2a3f5f\"},\"geo\":{\"bgcolor\":\"white\",\"lakecolor\":\"white\",\"landcolor\":\"#E5ECF6\",\"showlakes\":true,\"showland\":true,\"subunitcolor\":\"white\"},\"hoverlabel\":{\"align\":\"left\"},\"hovermode\":\"closest\",\"mapbox\":{\"style\":\"light\"},\"paper_bgcolor\":\"white\",\"plot_bgcolor\":\"#E5ECF6\",\"polar\":{\"angularaxis\":{\"gridcolor\":\"white\",\"linecolor\":\"white\",\"ticks\":\"\"},\"bgcolor\":\"#E5ECF6\",\"radialaxis\":{\"gridcolor\":\"white\",\"linecolor\":\"white\",\"ticks\":\"\"}},\"scene\":{\"xaxis\":{\"backgroundcolor\":\"#E5ECF6\",\"gridcolor\":\"white\",\"gridwidth\":2,\"linecolor\":\"white\",\"showbackground\":true,\"ticks\":\"\",\"zerolinecolor\":\"white\"},\"yaxis\":{\"backgroundcolor\":\"#E5ECF6\",\"gridcolor\":\"white\",\"gridwidth\":2,\"linecolor\":\"white\",\"showbackground\":true,\"ticks\":\"\",\"zerolinecolor\":\"white\"},\"zaxis\":{\"backgroundcolor\":\"#E5ECF6\",\"gridcolor\":\"white\",\"gridwidth\":2,\"linecolor\":\"white\",\"showbackground\":true,\"ticks\":\"\",\"zerolinecolor\":\"white\"}},\"shapedefaults\":{\"line\":{\"color\":\"#2a3f5f\"}},\"ternary\":{\"aaxis\":{\"gridcolor\":\"white\",\"linecolor\":\"white\",\"ticks\":\"\"},\"baxis\":{\"gridcolor\":\"white\",\"linecolor\":\"white\",\"ticks\":\"\"},\"bgcolor\":\"#E5ECF6\",\"caxis\":{\"gridcolor\":\"white\",\"linecolor\":\"white\",\"ticks\":\"\"}},\"title\":{\"x\":0.05},\"xaxis\":{\"automargin\":true,\"gridcolor\":\"white\",\"linecolor\":\"white\",\"ticks\":\"\",\"title\":{\"standoff\":15},\"zerolinecolor\":\"white\",\"zerolinewidth\":2},\"yaxis\":{\"automargin\":true,\"gridcolor\":\"white\",\"linecolor\":\"white\",\"ticks\":\"\",\"title\":{\"standoff\":15},\"zerolinecolor\":\"white\",\"zerolinewidth\":2}}},\"title\":{\"font\":{\"color\":\"#4D5663\"}},\"xaxis\":{\"gridcolor\":\"#E1E5ED\",\"showgrid\":true,\"tickfont\":{\"color\":\"#4D5663\"},\"title\":{\"font\":{\"color\":\"#4D5663\"},\"text\":\"\"},\"zerolinecolor\":\"#E1E5ED\"},\"yaxis\":{\"gridcolor\":\"#E1E5ED\",\"showgrid\":true,\"tickfont\":{\"color\":\"#4D5663\"},\"title\":{\"font\":{\"color\":\"#4D5663\"},\"text\":\"\"},\"zerolinecolor\":\"#E1E5ED\"}},                        {\"showLink\": true, \"linkText\": \"Export to plot.ly\", \"plotlyServerURL\": \"https://plot.ly\", \"responsive\": true}                    ).then(function(){\n",
       "                            \n",
       "var gd = document.getElementById('533b463e-113f-40c4-b90a-4c55c8e4c489');\n",
       "var x = new MutationObserver(function (mutations, observer) {{\n",
       "        var display = window.getComputedStyle(gd).display;\n",
       "        if (!display || display === 'none') {{\n",
       "            console.log([gd, 'removed!']);\n",
       "            Plotly.purge(gd);\n",
       "            observer.disconnect();\n",
       "        }}\n",
       "}});\n",
       "\n",
       "// Listen for the removal of the full notebook cells\n",
       "var notebookContainer = gd.closest('#notebook-container');\n",
       "if (notebookContainer) {{\n",
       "    x.observe(notebookContainer, {childList: true});\n",
       "}}\n",
       "\n",
       "// Listen for the clearing of the current output cell\n",
       "var outputEl = gd.closest('.output');\n",
       "if (outputEl) {{\n",
       "    x.observe(outputEl, {childList: true});\n",
       "}}\n",
       "\n",
       "                        })                };                });            </script>        </div>"
      ]
     },
     "metadata": {},
     "output_type": "display_data"
    }
   ],
   "source": [
    "data['Dep_Time_Hour'].apply(flight_dep_time).value_counts().iplot(kind='bar')"
   ]
  },
  {
   "cell_type": "markdown",
   "id": "8d95739e-4522-4796-a563-60be04ea9352",
   "metadata": {},
   "source": [
    "### Data Preprocessing on the `Duration` feature"
   ]
  },
  {
   "cell_type": "code",
   "execution_count": 42,
   "id": "c95ca8e8-a300-4ef7-8b98-4fce4c798b1f",
   "metadata": {},
   "outputs": [
    {
     "data": {
      "text/html": [
       "<div>\n",
       "<style scoped>\n",
       "    .dataframe tbody tr th:only-of-type {\n",
       "        vertical-align: middle;\n",
       "    }\n",
       "\n",
       "    .dataframe tbody tr th {\n",
       "        vertical-align: top;\n",
       "    }\n",
       "\n",
       "    .dataframe thead th {\n",
       "        text-align: right;\n",
       "    }\n",
       "</style>\n",
       "<table border=\"1\" class=\"dataframe\">\n",
       "  <thead>\n",
       "    <tr style=\"text-align: right;\">\n",
       "      <th></th>\n",
       "      <th>Airline</th>\n",
       "      <th>Date_of_Journey</th>\n",
       "      <th>Source</th>\n",
       "      <th>Destination</th>\n",
       "      <th>Route</th>\n",
       "      <th>Duration</th>\n",
       "      <th>Total_Stops</th>\n",
       "      <th>Additional_Info</th>\n",
       "      <th>Price</th>\n",
       "      <th>Journey_Day</th>\n",
       "      <th>Journey_Month</th>\n",
       "      <th>Journey_Year</th>\n",
       "      <th>Dep_Time_Hour</th>\n",
       "      <th>Dep_Time_Minute</th>\n",
       "      <th>Arrival_Time_Hour</th>\n",
       "      <th>Arrival_Time_Minute</th>\n",
       "    </tr>\n",
       "  </thead>\n",
       "  <tbody>\n",
       "    <tr>\n",
       "      <th>0</th>\n",
       "      <td>IndiGo</td>\n",
       "      <td>2019-03-24</td>\n",
       "      <td>Banglore</td>\n",
       "      <td>New Delhi</td>\n",
       "      <td>BLR → DEL</td>\n",
       "      <td>2h 50m</td>\n",
       "      <td>non-stop</td>\n",
       "      <td>No info</td>\n",
       "      <td>3897</td>\n",
       "      <td>24</td>\n",
       "      <td>3</td>\n",
       "      <td>2019</td>\n",
       "      <td>22</td>\n",
       "      <td>20</td>\n",
       "      <td>1</td>\n",
       "      <td>10</td>\n",
       "    </tr>\n",
       "    <tr>\n",
       "      <th>1</th>\n",
       "      <td>Air India</td>\n",
       "      <td>2019-05-01</td>\n",
       "      <td>Kolkata</td>\n",
       "      <td>Banglore</td>\n",
       "      <td>CCU → IXR → BBI → BLR</td>\n",
       "      <td>7h 25m</td>\n",
       "      <td>2 stops</td>\n",
       "      <td>No info</td>\n",
       "      <td>7662</td>\n",
       "      <td>1</td>\n",
       "      <td>5</td>\n",
       "      <td>2019</td>\n",
       "      <td>5</td>\n",
       "      <td>50</td>\n",
       "      <td>13</td>\n",
       "      <td>15</td>\n",
       "    </tr>\n",
       "    <tr>\n",
       "      <th>2</th>\n",
       "      <td>Jet Airways</td>\n",
       "      <td>2019-06-09</td>\n",
       "      <td>Delhi</td>\n",
       "      <td>Cochin</td>\n",
       "      <td>DEL → LKO → BOM → COK</td>\n",
       "      <td>19h</td>\n",
       "      <td>2 stops</td>\n",
       "      <td>No info</td>\n",
       "      <td>13882</td>\n",
       "      <td>9</td>\n",
       "      <td>6</td>\n",
       "      <td>2019</td>\n",
       "      <td>9</td>\n",
       "      <td>25</td>\n",
       "      <td>4</td>\n",
       "      <td>25</td>\n",
       "    </tr>\n",
       "  </tbody>\n",
       "</table>\n",
       "</div>"
      ],
      "text/plain": [
       "       Airline Date_of_Journey    Source Destination                  Route  \\\n",
       "0       IndiGo      2019-03-24  Banglore   New Delhi              BLR → DEL   \n",
       "1    Air India      2019-05-01   Kolkata    Banglore  CCU → IXR → BBI → BLR   \n",
       "2  Jet Airways      2019-06-09     Delhi      Cochin  DEL → LKO → BOM → COK   \n",
       "\n",
       "  Duration Total_Stops Additional_Info  Price  Journey_Day  Journey_Month  \\\n",
       "0   2h 50m    non-stop         No info   3897           24              3   \n",
       "1   7h 25m     2 stops         No info   7662            1              5   \n",
       "2      19h     2 stops         No info  13882            9              6   \n",
       "\n",
       "   Journey_Year  Dep_Time_Hour  Dep_Time_Minute  Arrival_Time_Hour  \\\n",
       "0          2019             22               20                  1   \n",
       "1          2019              5               50                 13   \n",
       "2          2019              9               25                  4   \n",
       "\n",
       "   Arrival_Time_Minute  \n",
       "0                   10  \n",
       "1                   15  \n",
       "2                   25  "
      ]
     },
     "execution_count": 42,
     "metadata": {},
     "output_type": "execute_result"
    }
   ],
   "source": [
    "data.head(3)"
   ]
  },
  {
   "cell_type": "code",
   "execution_count": 43,
   "id": "6e7363b9-45c6-4c85-bd41-9af4c5ba86be",
   "metadata": {},
   "outputs": [
    {
     "data": {
      "text/plain": [
       "Airline                        object\n",
       "Date_of_Journey        datetime64[ns]\n",
       "Source                         object\n",
       "Destination                    object\n",
       "Route                          object\n",
       "Duration                       object\n",
       "Total_Stops                    object\n",
       "Additional_Info                object\n",
       "Price                           int64\n",
       "Journey_Day                     int32\n",
       "Journey_Month                   int32\n",
       "Journey_Year                    int32\n",
       "Dep_Time_Hour                   int32\n",
       "Dep_Time_Minute                 int32\n",
       "Arrival_Time_Hour               int32\n",
       "Arrival_Time_Minute             int32\n",
       "dtype: object"
      ]
     },
     "execution_count": 43,
     "metadata": {},
     "output_type": "execute_result"
    }
   ],
   "source": [
    "data.dtypes"
   ]
  },
  {
   "cell_type": "markdown",
   "id": "c83e1411-17da-4911-8ee4-3f9ed0dde63c",
   "metadata": {},
   "source": [
    "#### Converting the `Duration` feature from `object` to `numeric` data type\n",
    "> Some records contain both `hours` and `minutes`, but some contain only one. It is necessary to make these records consistent to convert the `Duration` feature to a numeric form. Hence, all the records will be changed to `hours` and `minutes`."
   ]
  },
  {
   "cell_type": "markdown",
   "id": "4dd16adf-bc35-41da-a4ef-4731b2ba327b",
   "metadata": {},
   "source": [
    "#### Defining a function to normalize the `Duration` feature\n",
    "> The goal is to normalize all the records in the form: `0h 0m`.<br>\n",
    "> Hence, records with only `0h` will be appended with `0m` at the end, and records with only `0m` will be appended with `0h` in the front."
   ]
  },
  {
   "cell_type": "code",
   "execution_count": 44,
   "id": "ea5662c9-6b3a-439d-a97c-54a71d1e18e1",
   "metadata": {},
   "outputs": [],
   "source": [
    "def preprocess_duration(x):\n",
    "    if 'h' not in x:\n",
    "        x = '0h' + ' ' + x\n",
    "    elif 'm' not in x:\n",
    "        x = x + ' ' + '0m'\n",
    "    return x"
   ]
  },
  {
   "cell_type": "markdown",
   "id": "090c9f4e-251c-4125-97a8-27513fde08d9",
   "metadata": {},
   "source": [
    "#### Applying the function to the `Duration` feature"
   ]
  },
  {
   "cell_type": "code",
   "execution_count": 45,
   "id": "6f6fda13-e33e-455d-8d4d-7bab22ec5a8f",
   "metadata": {},
   "outputs": [],
   "source": [
    "data['Duration'] = data['Duration'].apply(preprocess_duration)"
   ]
  },
  {
   "cell_type": "code",
   "execution_count": 46,
   "id": "4fe973d8-469b-4c0d-83bd-e86f6d83dd2f",
   "metadata": {},
   "outputs": [
    {
     "data": {
      "text/plain": [
       "0    2h 50m\n",
       "1    7h 25m\n",
       "2    19h 0m\n",
       "3    5h 25m\n",
       "4    4h 45m\n",
       "Name: Duration, dtype: object"
      ]
     },
     "execution_count": 46,
     "metadata": {},
     "output_type": "execute_result"
    }
   ],
   "source": [
    "data['Duration'].head()"
   ]
  },
  {
   "cell_type": "markdown",
   "id": "2cb59aa9-040d-4734-846d-fb849b25d78a",
   "metadata": {},
   "source": [
    "#### Extracting derived attributes from the `Duration` feature as `Duration_Hours` and `Duration_Mins`\n",
    "\n",
    "- Using `split()` to extract derived attributes\n",
    "- Using positive indexing and negative indexing to access the numeric values of the string\n",
    "> How negative indexing works: <br>\n",
    "> Example: <br><br>\n",
    "> Positive Indexing: <br>\n",
    "> `D u r a t i o n` <br>\n",
    "> `0 1 2 3 4 5 6 7` <br><br>\n",
    "> Negative Indexing: <br>\n",
    "> ` D  u  r  a  t  i  o  n` <br>\n",
    "> `-8 -7 -6 -5 -4 -3 -2 -1`"
   ]
  },
  {
   "cell_type": "code",
   "execution_count": 47,
   "id": "4bc3ff13-95eb-46fa-a46b-c27446d4114d",
   "metadata": {},
   "outputs": [
    {
     "data": {
      "text/plain": [
       "'2h 50m'"
      ]
     },
     "execution_count": 47,
     "metadata": {},
     "output_type": "execute_result"
    }
   ],
   "source": [
    "data['Duration'][0]"
   ]
  },
  {
   "cell_type": "code",
   "execution_count": 48,
   "id": "54cab200-d969-4f90-b7a8-630f3efa8478",
   "metadata": {},
   "outputs": [
    {
     "data": {
      "text/plain": [
       "['2h', '50m']"
      ]
     },
     "execution_count": 48,
     "metadata": {},
     "output_type": "execute_result"
    }
   ],
   "source": [
    "data['Duration'][0].split(' ')"
   ]
  },
  {
   "cell_type": "code",
   "execution_count": 49,
   "id": "689bd8e2-82ac-446b-9ecc-2ad68fe8a82f",
   "metadata": {},
   "outputs": [
    {
     "data": {
      "text/plain": [
       "'2h'"
      ]
     },
     "execution_count": 49,
     "metadata": {},
     "output_type": "execute_result"
    }
   ],
   "source": [
    "data['Duration'][0].split(' ')[0]"
   ]
  },
  {
   "cell_type": "code",
   "execution_count": 50,
   "id": "825eeab3-9616-463e-aeb5-1e67f3831f7f",
   "metadata": {},
   "outputs": [
    {
     "data": {
      "text/plain": [
       "'50m'"
      ]
     },
     "execution_count": 50,
     "metadata": {},
     "output_type": "execute_result"
    }
   ],
   "source": [
    "data['Duration'][0].split(' ')[1]"
   ]
  },
  {
   "cell_type": "markdown",
   "id": "974c899a-41b3-4dda-84d3-b62e6754cb25",
   "metadata": {},
   "source": [
    "> Accessing only the numeric value by excluding the string `h` or `m` using: <br>\n",
    "> `[0:-1]`, where Python excludes the index `-1` and only includes the indexes `[0:]`."
   ]
  },
  {
   "cell_type": "code",
   "execution_count": 51,
   "id": "ddbbf2d4-b3d2-4764-b117-dc0d53333238",
   "metadata": {},
   "outputs": [
    {
     "data": {
      "text/plain": [
       "'2'"
      ]
     },
     "execution_count": 51,
     "metadata": {},
     "output_type": "execute_result"
    }
   ],
   "source": [
    "data['Duration'][0].split(' ')[0][0:-1]"
   ]
  },
  {
   "cell_type": "code",
   "execution_count": 52,
   "id": "13273399-4566-48af-a58c-0b940a41c489",
   "metadata": {},
   "outputs": [
    {
     "data": {
      "text/plain": [
       "'50'"
      ]
     },
     "execution_count": 52,
     "metadata": {},
     "output_type": "execute_result"
    }
   ],
   "source": [
    "data['Duration'][0].split(' ')[1][0:-1]"
   ]
  },
  {
   "cell_type": "markdown",
   "id": "fe5e70f3-0eb2-47a6-80e8-1be577b8d2f6",
   "metadata": {},
   "source": [
    "> Using `type()` to check the data type"
   ]
  },
  {
   "cell_type": "code",
   "execution_count": 53,
   "id": "18e1040d-6088-4930-bc5f-8e02f67fdade",
   "metadata": {},
   "outputs": [
    {
     "data": {
      "text/plain": [
       "str"
      ]
     },
     "execution_count": 53,
     "metadata": {},
     "output_type": "execute_result"
    }
   ],
   "source": [
    "type(data['Duration'][0].split(' ')[0][0:-1])"
   ]
  },
  {
   "cell_type": "markdown",
   "id": "7b8a8ec1-7f20-4b6d-bdbb-6e09faf282ac",
   "metadata": {},
   "source": [
    "> Since the data type of the extracted numeric value is `string`, `int()` function will be used to convert it to integer."
   ]
  },
  {
   "cell_type": "code",
   "execution_count": 54,
   "id": "f1a23129-06b3-423a-bbf9-bb8961812410",
   "metadata": {},
   "outputs": [
    {
     "data": {
      "text/plain": [
       "2"
      ]
     },
     "execution_count": 54,
     "metadata": {},
     "output_type": "execute_result"
    }
   ],
   "source": [
    "int(data['Duration'][0].split(' ')[0][0:-1])"
   ]
  },
  {
   "cell_type": "code",
   "execution_count": 55,
   "id": "22a1a161-7b34-4288-a37f-ce42db049374",
   "metadata": {},
   "outputs": [
    {
     "data": {
      "text/plain": [
       "50"
      ]
     },
     "execution_count": 55,
     "metadata": {},
     "output_type": "execute_result"
    }
   ],
   "source": [
    "int(data['Duration'][0].split(' ')[1][0:-1])"
   ]
  },
  {
   "cell_type": "markdown",
   "id": "081d708c-66d1-412f-9c23-fb51e82df5d5",
   "metadata": {},
   "source": [
    "#### Creating and applying lambda function to the `Duration` feature in order to extract the derived attributes\n",
    "\n",
    "> The `x` in the lambda function will be treated as a pointer to each row/record in the `Duration` feature."
   ]
  },
  {
   "cell_type": "code",
   "execution_count": 56,
   "id": "130d8c01-e50c-40c6-9ea3-d11a8a38d932",
   "metadata": {},
   "outputs": [],
   "source": [
    "data['Duration_Hours'] = data['Duration'].apply(lambda x: int(x.split(' ')[0][0:-1]))"
   ]
  },
  {
   "cell_type": "code",
   "execution_count": 57,
   "id": "be071b89-a816-4c05-9c0d-5252b4500076",
   "metadata": {},
   "outputs": [],
   "source": [
    "data['Duration_Mins'] = data['Duration'].apply(lambda x: int(x.split(' ')[1][0:-1]))"
   ]
  },
  {
   "cell_type": "code",
   "execution_count": 58,
   "id": "b94fbe6e-0eaf-4045-a4c7-dd7ea15b28b0",
   "metadata": {},
   "outputs": [
    {
     "data": {
      "text/html": [
       "<div>\n",
       "<style scoped>\n",
       "    .dataframe tbody tr th:only-of-type {\n",
       "        vertical-align: middle;\n",
       "    }\n",
       "\n",
       "    .dataframe tbody tr th {\n",
       "        vertical-align: top;\n",
       "    }\n",
       "\n",
       "    .dataframe thead th {\n",
       "        text-align: right;\n",
       "    }\n",
       "</style>\n",
       "<table border=\"1\" class=\"dataframe\">\n",
       "  <thead>\n",
       "    <tr style=\"text-align: right;\">\n",
       "      <th></th>\n",
       "      <th>Airline</th>\n",
       "      <th>Date_of_Journey</th>\n",
       "      <th>Source</th>\n",
       "      <th>Destination</th>\n",
       "      <th>Route</th>\n",
       "      <th>Duration</th>\n",
       "      <th>Total_Stops</th>\n",
       "      <th>Additional_Info</th>\n",
       "      <th>Price</th>\n",
       "      <th>Journey_Day</th>\n",
       "      <th>Journey_Month</th>\n",
       "      <th>Journey_Year</th>\n",
       "      <th>Dep_Time_Hour</th>\n",
       "      <th>Dep_Time_Minute</th>\n",
       "      <th>Arrival_Time_Hour</th>\n",
       "      <th>Arrival_Time_Minute</th>\n",
       "      <th>Duration_Hours</th>\n",
       "      <th>Duration_Mins</th>\n",
       "    </tr>\n",
       "  </thead>\n",
       "  <tbody>\n",
       "    <tr>\n",
       "      <th>0</th>\n",
       "      <td>IndiGo</td>\n",
       "      <td>2019-03-24</td>\n",
       "      <td>Banglore</td>\n",
       "      <td>New Delhi</td>\n",
       "      <td>BLR → DEL</td>\n",
       "      <td>2h 50m</td>\n",
       "      <td>non-stop</td>\n",
       "      <td>No info</td>\n",
       "      <td>3897</td>\n",
       "      <td>24</td>\n",
       "      <td>3</td>\n",
       "      <td>2019</td>\n",
       "      <td>22</td>\n",
       "      <td>20</td>\n",
       "      <td>1</td>\n",
       "      <td>10</td>\n",
       "      <td>2</td>\n",
       "      <td>50</td>\n",
       "    </tr>\n",
       "    <tr>\n",
       "      <th>1</th>\n",
       "      <td>Air India</td>\n",
       "      <td>2019-05-01</td>\n",
       "      <td>Kolkata</td>\n",
       "      <td>Banglore</td>\n",
       "      <td>CCU → IXR → BBI → BLR</td>\n",
       "      <td>7h 25m</td>\n",
       "      <td>2 stops</td>\n",
       "      <td>No info</td>\n",
       "      <td>7662</td>\n",
       "      <td>1</td>\n",
       "      <td>5</td>\n",
       "      <td>2019</td>\n",
       "      <td>5</td>\n",
       "      <td>50</td>\n",
       "      <td>13</td>\n",
       "      <td>15</td>\n",
       "      <td>7</td>\n",
       "      <td>25</td>\n",
       "    </tr>\n",
       "  </tbody>\n",
       "</table>\n",
       "</div>"
      ],
      "text/plain": [
       "     Airline Date_of_Journey    Source Destination                  Route  \\\n",
       "0     IndiGo      2019-03-24  Banglore   New Delhi              BLR → DEL   \n",
       "1  Air India      2019-05-01   Kolkata    Banglore  CCU → IXR → BBI → BLR   \n",
       "\n",
       "  Duration Total_Stops Additional_Info  Price  Journey_Day  Journey_Month  \\\n",
       "0   2h 50m    non-stop         No info   3897           24              3   \n",
       "1   7h 25m     2 stops         No info   7662            1              5   \n",
       "\n",
       "   Journey_Year  Dep_Time_Hour  Dep_Time_Minute  Arrival_Time_Hour  \\\n",
       "0          2019             22               20                  1   \n",
       "1          2019              5               50                 13   \n",
       "\n",
       "   Arrival_Time_Minute  Duration_Hours  Duration_Mins  \n",
       "0                   10               2             50  \n",
       "1                   15               7             25  "
      ]
     },
     "execution_count": 58,
     "metadata": {},
     "output_type": "execute_result"
    }
   ],
   "source": [
    "data.head(2)"
   ]
  },
  {
   "cell_type": "markdown",
   "id": "3b6aa92e-4bde-44c4-b960-f1973bdf4321",
   "metadata": {},
   "source": [
    "### Does the duration of a flight have any impact on airfare?"
   ]
  },
  {
   "cell_type": "code",
   "execution_count": 59,
   "id": "3667787e-343d-45a5-94fd-a9817e97f2d7",
   "metadata": {},
   "outputs": [
    {
     "data": {
      "text/plain": [
       "Airline                        object\n",
       "Date_of_Journey        datetime64[ns]\n",
       "Source                         object\n",
       "Destination                    object\n",
       "Route                          object\n",
       "Duration                       object\n",
       "Total_Stops                    object\n",
       "Additional_Info                object\n",
       "Price                           int64\n",
       "Journey_Day                     int32\n",
       "Journey_Month                   int32\n",
       "Journey_Year                    int32\n",
       "Dep_Time_Hour                   int32\n",
       "Dep_Time_Minute                 int32\n",
       "Arrival_Time_Hour               int32\n",
       "Arrival_Time_Minute             int32\n",
       "Duration_Hours                  int64\n",
       "Duration_Mins                   int64\n",
       "dtype: object"
      ]
     },
     "execution_count": 59,
     "metadata": {},
     "output_type": "execute_result"
    }
   ],
   "source": [
    "data.dtypes"
   ]
  },
  {
   "cell_type": "markdown",
   "id": "db760589-1ff7-43b5-b19e-c7210ebfb569",
   "metadata": {},
   "source": [
    "#### Converting the values in the `Duration` feature from hours to minutes\n",
    "\n",
    "> The current form of values in the `Duration` feature is `0h 0m` <br><br>\n",
    "> `0h 0m` can be converted to minutes as follows: <br>\n",
    "> `0h*60 + 0m*1`\n",
    "> <br><br>\n",
    "> How it will be implemented: <br>\n",
    "> `h` will be replaced with `*60`, and <br>\n",
    "> `m` will be replaced with `*1`\n",
    "> <br><br>\n",
    "> However, the `Duration` feature is of the datatype `object` or `string`. Hence, the `eval()` function can be utilized to perform arithmetic operations on string values."
   ]
  },
  {
   "cell_type": "code",
   "execution_count": 60,
   "id": "c6eee988-56fd-48db-92a2-e17ebad1f05f",
   "metadata": {},
   "outputs": [
    {
     "data": {
      "text/plain": [
       "'2*60'"
      ]
     },
     "execution_count": 60,
     "metadata": {},
     "output_type": "execute_result"
    }
   ],
   "source": [
    "'2*60'"
   ]
  },
  {
   "cell_type": "code",
   "execution_count": 61,
   "id": "eb19a13f-8cc1-4912-8d62-363642951ab8",
   "metadata": {},
   "outputs": [
    {
     "data": {
      "text/plain": [
       "120"
      ]
     },
     "execution_count": 61,
     "metadata": {},
     "output_type": "execute_result"
    }
   ],
   "source": [
    "eval('2*60')"
   ]
  },
  {
   "cell_type": "code",
   "execution_count": 62,
   "id": "328ea3ab-30ad-4448-bb03-bf60f3202382",
   "metadata": {},
   "outputs": [
    {
     "data": {
      "text/plain": [
       "0    2h 50m\n",
       "1    7h 25m\n",
       "2    19h 0m\n",
       "3    5h 25m\n",
       "4    4h 45m\n",
       "5    2h 25m\n",
       "Name: Duration, dtype: object"
      ]
     },
     "execution_count": 62,
     "metadata": {},
     "output_type": "execute_result"
    }
   ],
   "source": [
    "data['Duration'].head(6)"
   ]
  },
  {
   "cell_type": "markdown",
   "id": "9cf938e4-39bc-4519-946c-2e564db91676",
   "metadata": {},
   "source": [
    "> Utilizing the `str` accessor and the `replace` function to replace specific characters from the string values in the `Duration` feature:<br>\n",
    "> `'h'` -> `'*60'`<br>\n",
    "> `' '` -> `'+'`<br>\n",
    "> `'m'` -> `'*1'`\n",
    ">\n",
    "> Finally storing it in `Duration_Total_Mins`"
   ]
  },
  {
   "cell_type": "code",
   "execution_count": 63,
   "id": "b19c729c-e6b1-4d9e-81ed-8450706ef227",
   "metadata": {},
   "outputs": [],
   "source": [
    "data['Duration_Total_Mins'] = data['Duration'].str.replace('h', '*60').str.replace(' ', '+').str.replace('m', '*1')"
   ]
  },
  {
   "cell_type": "code",
   "execution_count": 64,
   "id": "a02ecd22-7603-4392-a149-bb04dec0bed4",
   "metadata": {},
   "outputs": [
    {
     "data": {
      "text/plain": [
       "0    2*60+50*1\n",
       "1    7*60+25*1\n",
       "2    19*60+0*1\n",
       "3    5*60+25*1\n",
       "4    4*60+45*1\n",
       "5    2*60+25*1\n",
       "Name: Duration_Total_Mins, dtype: object"
      ]
     },
     "execution_count": 64,
     "metadata": {},
     "output_type": "execute_result"
    }
   ],
   "source": [
    "data['Duration_Total_Mins'].head(6)"
   ]
  },
  {
   "cell_type": "markdown",
   "id": "c7df759d-78de-4869-9b00-cdc2ae818cdf",
   "metadata": {},
   "source": [
    "> Applying the `eval()` function to perform arithmetic operations on the string values"
   ]
  },
  {
   "cell_type": "code",
   "execution_count": 65,
   "id": "ab4a4d36-ae95-4d80-a62a-d5f2ad6b64eb",
   "metadata": {},
   "outputs": [],
   "source": [
    "data['Duration_Total_Mins'] = data['Duration_Total_Mins'].apply(eval)"
   ]
  },
  {
   "cell_type": "code",
   "execution_count": 66,
   "id": "6181d89b-ec4b-428f-842b-bd5ff43818b3",
   "metadata": {},
   "outputs": [
    {
     "data": {
      "text/plain": [
       "0     170\n",
       "1     445\n",
       "2    1140\n",
       "3     325\n",
       "4     285\n",
       "5     145\n",
       "Name: Duration_Total_Mins, dtype: int64"
      ]
     },
     "execution_count": 66,
     "metadata": {},
     "output_type": "execute_result"
    }
   ],
   "source": [
    "data['Duration_Total_Mins'].head(6)"
   ]
  },
  {
   "cell_type": "code",
   "execution_count": 67,
   "id": "9b4c8683-a509-41c2-bf9c-7e215f1936d2",
   "metadata": {},
   "outputs": [
    {
     "data": {
      "text/plain": [
       "Index(['Airline', 'Date_of_Journey', 'Source', 'Destination', 'Route',\n",
       "       'Duration', 'Total_Stops', 'Additional_Info', 'Price', 'Journey_Day',\n",
       "       'Journey_Month', 'Journey_Year', 'Dep_Time_Hour', 'Dep_Time_Minute',\n",
       "       'Arrival_Time_Hour', 'Arrival_Time_Minute', 'Duration_Hours',\n",
       "       'Duration_Mins', 'Duration_Total_Mins'],\n",
       "      dtype='object')"
      ]
     },
     "execution_count": 67,
     "metadata": {},
     "output_type": "execute_result"
    }
   ],
   "source": [
    "data.columns"
   ]
  },
  {
   "cell_type": "markdown",
   "id": "d4ed9603-bfa0-4697-9391-f3f4030e333e",
   "metadata": {},
   "source": [
    "#### Creating a scatter plot to visualize the impact of flight duration on airfare"
   ]
  },
  {
   "cell_type": "code",
   "execution_count": 68,
   "id": "8b04b58d-8e69-4190-ae6e-4e52c7c9e740",
   "metadata": {},
   "outputs": [
    {
     "data": {
      "text/plain": [
       "<Axes: xlabel='Duration_Total_Mins', ylabel='Price'>"
      ]
     },
     "execution_count": 68,
     "metadata": {},
     "output_type": "execute_result"
    },
    {
     "data": {
      "image/png": "[encoded data removed]",
      "text/plain": [
       "<Figure size 640x480 with 1 Axes>"
      ]
     },
     "metadata": {},
     "output_type": "display_data"
    }
   ],
   "source": [
    "sns.scatterplot(x='Duration_Total_Mins', y='Price', data=data)"
   ]
  },
  {
   "cell_type": "markdown",
   "id": "b1968fad-4192-4ebc-ac69-43dfb954e542",
   "metadata": {},
   "source": [
    "#### Visualizing the same scatter plot with a hue of `Total_Stops` feature"
   ]
  },
  {
   "cell_type": "code",
   "execution_count": 69,
   "id": "95d1c5bf-828c-4a77-b673-cf81e84d8256",
   "metadata": {},
   "outputs": [
    {
     "data": {
      "text/plain": [
       "<Axes: xlabel='Duration_Total_Mins', ylabel='Price'>"
      ]
     },
     "execution_count": 69,
     "metadata": {},
     "output_type": "execute_result"
    },
    {
     "data": {
      "image/png": "[encoded data removed]",
      "text/plain": [
       "<Figure size 640x480 with 1 Axes>"
      ]
     },
     "metadata": {},
     "output_type": "display_data"
    }
   ],
   "source": [
    "sns.scatterplot(x='Duration_Total_Mins', y='Price', hue='Total_Stops', data=data)"
   ]
  },
  {
   "cell_type": "markdown",
   "id": "400dd864-a315-48dd-b6ad-cef0d18cbcda",
   "metadata": {},
   "source": [
    "#### Visualizing the same using regression plot with a best-fit line"
   ]
  },
  {
   "cell_type": "code",
   "execution_count": 70,
   "id": "f0b952c4-7b4f-4144-ad9f-86811929f975",
   "metadata": {},
   "outputs": [
    {
     "data": {
      "text/plain": [
       "<seaborn.axisgrid.FacetGrid at 0x24d0eb6dfa0>"
      ]
     },
     "execution_count": 70,
     "metadata": {},
     "output_type": "execute_result"
    },
    {
     "data": {
      "image/png": "[encoded data removed]",
      "text/plain": [
       "<Figure size 500x500 with 1 Axes>"
      ]
     },
     "metadata": {},
     "output_type": "display_data"
    }
   ],
   "source": [
    "sns.lmplot(x='Duration_Total_Mins', y='Price', data=data)"
   ]
  },
  {
   "cell_type": "markdown",
   "id": "9c233bae-5f8d-4c6b-b950-73303e1cfbc2",
   "metadata": {},
   "source": [
    "> The best-fit line on the regression plot, clearly increases, inferring that as the flight duration increases, the price or the airfare also increases."
   ]
  },
  {
   "cell_type": "markdown",
   "id": "0465c48d-ed58-460c-92c9-622ebaaca58b",
   "metadata": {},
   "source": [
    "### Which is the most common route in Jet Airways?"
   ]
  },
  {
   "cell_type": "code",
   "execution_count": 71,
   "id": "751418ee-8124-4d73-ad7b-881d64e768af",
   "metadata": {},
   "outputs": [
    {
     "data": {
      "text/plain": [
       "0         IndiGo\n",
       "1      Air India\n",
       "2    Jet Airways\n",
       "3         IndiGo\n",
       "4         IndiGo\n",
       "5       SpiceJet\n",
       "Name: Airline, dtype: object"
      ]
     },
     "execution_count": 71,
     "metadata": {},
     "output_type": "execute_result"
    }
   ],
   "source": [
    "data['Airline'].head(6)"
   ]
  },
  {
   "cell_type": "code",
   "execution_count": 72,
   "id": "64746ece-1875-46f9-8d3f-2f6793a0595b",
   "metadata": {},
   "outputs": [
    {
     "data": {
      "text/plain": [
       "0        False\n",
       "1        False\n",
       "2         True\n",
       "3        False\n",
       "4        False\n",
       "         ...  \n",
       "10678    False\n",
       "10679    False\n",
       "10680     True\n",
       "10681    False\n",
       "10682    False\n",
       "Name: Airline, Length: 10682, dtype: bool"
      ]
     },
     "execution_count": 72,
     "metadata": {},
     "output_type": "execute_result"
    }
   ],
   "source": [
    "data['Airline'] == 'Jet Airways'"
   ]
  },
  {
   "cell_type": "code",
   "execution_count": 73,
   "id": "0f174814-d253-4d1b-b7cd-98d18ff9fb82",
   "metadata": {},
   "outputs": [
    {
     "data": {
      "text/html": [
       "<div>\n",
       "<style scoped>\n",
       "    .dataframe tbody tr th:only-of-type {\n",
       "        vertical-align: middle;\n",
       "    }\n",
       "\n",
       "    .dataframe tbody tr th {\n",
       "        vertical-align: top;\n",
       "    }\n",
       "\n",
       "    .dataframe thead th {\n",
       "        text-align: right;\n",
       "    }\n",
       "</style>\n",
       "<table border=\"1\" class=\"dataframe\">\n",
       "  <thead>\n",
       "    <tr style=\"text-align: right;\">\n",
       "      <th></th>\n",
       "      <th>Airline</th>\n",
       "      <th>Date_of_Journey</th>\n",
       "      <th>Source</th>\n",
       "      <th>Destination</th>\n",
       "      <th>Route</th>\n",
       "      <th>Duration</th>\n",
       "      <th>Total_Stops</th>\n",
       "      <th>Additional_Info</th>\n",
       "      <th>Price</th>\n",
       "      <th>Journey_Day</th>\n",
       "      <th>Journey_Month</th>\n",
       "      <th>Journey_Year</th>\n",
       "      <th>Dep_Time_Hour</th>\n",
       "      <th>Dep_Time_Minute</th>\n",
       "      <th>Arrival_Time_Hour</th>\n",
       "      <th>Arrival_Time_Minute</th>\n",
       "      <th>Duration_Hours</th>\n",
       "      <th>Duration_Mins</th>\n",
       "      <th>Duration_Total_Mins</th>\n",
       "    </tr>\n",
       "  </thead>\n",
       "  <tbody>\n",
       "    <tr>\n",
       "      <th>2</th>\n",
       "      <td>Jet Airways</td>\n",
       "      <td>2019-06-09</td>\n",
       "      <td>Delhi</td>\n",
       "      <td>Cochin</td>\n",
       "      <td>DEL → LKO → BOM → COK</td>\n",
       "      <td>19h 0m</td>\n",
       "      <td>2 stops</td>\n",
       "      <td>No info</td>\n",
       "      <td>13882</td>\n",
       "      <td>9</td>\n",
       "      <td>6</td>\n",
       "      <td>2019</td>\n",
       "      <td>9</td>\n",
       "      <td>25</td>\n",
       "      <td>4</td>\n",
       "      <td>25</td>\n",
       "      <td>19</td>\n",
       "      <td>0</td>\n",
       "      <td>1140</td>\n",
       "    </tr>\n",
       "    <tr>\n",
       "      <th>6</th>\n",
       "      <td>Jet Airways</td>\n",
       "      <td>2019-03-12</td>\n",
       "      <td>Banglore</td>\n",
       "      <td>New Delhi</td>\n",
       "      <td>BLR → BOM → DEL</td>\n",
       "      <td>15h 30m</td>\n",
       "      <td>1 stop</td>\n",
       "      <td>In-flight meal not included</td>\n",
       "      <td>11087</td>\n",
       "      <td>12</td>\n",
       "      <td>3</td>\n",
       "      <td>2019</td>\n",
       "      <td>18</td>\n",
       "      <td>55</td>\n",
       "      <td>10</td>\n",
       "      <td>25</td>\n",
       "      <td>15</td>\n",
       "      <td>30</td>\n",
       "      <td>930</td>\n",
       "    </tr>\n",
       "    <tr>\n",
       "      <th>7</th>\n",
       "      <td>Jet Airways</td>\n",
       "      <td>2019-03-01</td>\n",
       "      <td>Banglore</td>\n",
       "      <td>New Delhi</td>\n",
       "      <td>BLR → BOM → DEL</td>\n",
       "      <td>21h 5m</td>\n",
       "      <td>1 stop</td>\n",
       "      <td>No info</td>\n",
       "      <td>22270</td>\n",
       "      <td>1</td>\n",
       "      <td>3</td>\n",
       "      <td>2019</td>\n",
       "      <td>8</td>\n",
       "      <td>0</td>\n",
       "      <td>5</td>\n",
       "      <td>5</td>\n",
       "      <td>21</td>\n",
       "      <td>5</td>\n",
       "      <td>1265</td>\n",
       "    </tr>\n",
       "    <tr>\n",
       "      <th>8</th>\n",
       "      <td>Jet Airways</td>\n",
       "      <td>2019-03-12</td>\n",
       "      <td>Banglore</td>\n",
       "      <td>New Delhi</td>\n",
       "      <td>BLR → BOM → DEL</td>\n",
       "      <td>25h 30m</td>\n",
       "      <td>1 stop</td>\n",
       "      <td>In-flight meal not included</td>\n",
       "      <td>11087</td>\n",
       "      <td>12</td>\n",
       "      <td>3</td>\n",
       "      <td>2019</td>\n",
       "      <td>8</td>\n",
       "      <td>55</td>\n",
       "      <td>10</td>\n",
       "      <td>25</td>\n",
       "      <td>25</td>\n",
       "      <td>30</td>\n",
       "      <td>1530</td>\n",
       "    </tr>\n",
       "  </tbody>\n",
       "</table>\n",
       "</div>"
      ],
      "text/plain": [
       "       Airline Date_of_Journey    Source Destination                  Route  \\\n",
       "2  Jet Airways      2019-06-09     Delhi      Cochin  DEL → LKO → BOM → COK   \n",
       "6  Jet Airways      2019-03-12  Banglore   New Delhi        BLR → BOM → DEL   \n",
       "7  Jet Airways      2019-03-01  Banglore   New Delhi        BLR → BOM → DEL   \n",
       "8  Jet Airways      2019-03-12  Banglore   New Delhi        BLR → BOM → DEL   \n",
       "\n",
       "  Duration Total_Stops              Additional_Info  Price  Journey_Day  \\\n",
       "2   19h 0m     2 stops                      No info  13882            9   \n",
       "6  15h 30m      1 stop  In-flight meal not included  11087           12   \n",
       "7   21h 5m      1 stop                      No info  22270            1   \n",
       "8  25h 30m      1 stop  In-flight meal not included  11087           12   \n",
       "\n",
       "   Journey_Month  Journey_Year  Dep_Time_Hour  Dep_Time_Minute  \\\n",
       "2              6          2019              9               25   \n",
       "6              3          2019             18               55   \n",
       "7              3          2019              8                0   \n",
       "8              3          2019              8               55   \n",
       "\n",
       "   Arrival_Time_Hour  Arrival_Time_Minute  Duration_Hours  Duration_Mins  \\\n",
       "2                  4                   25              19              0   \n",
       "6                 10                   25              15             30   \n",
       "7                  5                    5              21              5   \n",
       "8                 10                   25              25             30   \n",
       "\n",
       "   Duration_Total_Mins  \n",
       "2                 1140  \n",
       "6                  930  \n",
       "7                 1265  \n",
       "8                 1530  "
      ]
     },
     "execution_count": 73,
     "metadata": {},
     "output_type": "execute_result"
    }
   ],
   "source": [
    "data[data['Airline'] == 'Jet Airways'].head(4)"
   ]
  },
  {
   "cell_type": "code",
   "execution_count": 74,
   "id": "26ddd921-47a4-4de5-b1e8-a1b1518353f1",
   "metadata": {},
   "outputs": [
    {
     "data": {
      "text/plain": [
       "Route\n",
       "CCU → BOM → BLR          930\n",
       "DEL → BOM → COK          875\n",
       "BLR → BOM → DEL          385\n",
       "BLR → DEL                382\n",
       "CCU → DEL → BLR          300\n",
       "BOM → HYD                207\n",
       "DEL → JAI → BOM → COK    207\n",
       "DEL → AMD → BOM → COK    141\n",
       "DEL → IDR → BOM → COK     86\n",
       "DEL → NAG → BOM → COK     61\n",
       "DEL → ATQ → BOM → COK     38\n",
       "DEL → COK                 34\n",
       "DEL → BHO → BOM → COK     29\n",
       "DEL → BDQ → BOM → COK     28\n",
       "DEL → LKO → BOM → COK     25\n",
       "DEL → JDH → BOM → COK     23\n",
       "CCU → GAU → BLR           22\n",
       "DEL → MAA → BOM → COK     16\n",
       "DEL → IXC → BOM → COK     13\n",
       "BLR → MAA → DEL           10\n",
       "BLR → BDQ → DEL            8\n",
       "DEL → UDR → BOM → COK      7\n",
       "BOM → DEL → HYD            5\n",
       "CCU → BOM → PNQ → BLR      4\n",
       "BLR → BOM → JDH → DEL      3\n",
       "DEL → DED → BOM → COK      2\n",
       "BOM → BDQ → DEL → HYD      2\n",
       "DEL → CCU → BOM → COK      1\n",
       "BOM → VNS → DEL → HYD      1\n",
       "BOM → UDR → DEL → HYD      1\n",
       "BOM → JDH → DEL → HYD      1\n",
       "BOM → IDR → DEL → HYD      1\n",
       "BOM → DED → DEL → HYD      1\n",
       "dtype: int64"
      ]
     },
     "execution_count": 74,
     "metadata": {},
     "output_type": "execute_result"
    }
   ],
   "source": [
    "data[data['Airline'] == 'Jet Airways'].groupby('Route').size().sort_values(ascending=False)"
   ]
  },
  {
   "cell_type": "markdown",
   "id": "6954b325-091b-4d9a-9f5a-18be87e965f4",
   "metadata": {},
   "source": [
    "### Airline vs Price Analysis"
   ]
  },
  {
   "cell_type": "code",
   "execution_count": 75,
   "id": "34cbb2f9-22ec-4d1d-8806-fe08b0633df7",
   "metadata": {},
   "outputs": [
    {
     "data": {
      "text/plain": [
       "Index(['Airline', 'Date_of_Journey', 'Source', 'Destination', 'Route',\n",
       "       'Duration', 'Total_Stops', 'Additional_Info', 'Price', 'Journey_Day',\n",
       "       'Journey_Month', 'Journey_Year', 'Dep_Time_Hour', 'Dep_Time_Minute',\n",
       "       'Arrival_Time_Hour', 'Arrival_Time_Minute', 'Duration_Hours',\n",
       "       'Duration_Mins', 'Duration_Total_Mins'],\n",
       "      dtype='object')"
      ]
     },
     "execution_count": 75,
     "metadata": {},
     "output_type": "execute_result"
    }
   ],
   "source": [
    "data.columns"
   ]
  },
  {
   "cell_type": "code",
   "execution_count": 76,
   "id": "5dd86ea0-2fcd-4dd0-8f3e-3ab53a227150",
   "metadata": {},
   "outputs": [
    {
     "data": {
      "image/png": "[encoded data removed]",
      "text/plain": [
       "<Figure size 640x480 with 1 Axes>"
      ]
     },
     "metadata": {},
     "output_type": "display_data"
    }
   ],
   "source": [
    "sns.boxplot(x='Airline', y='Price', data=data.sort_values('Price', ascending=False), palette='rainbow')\n",
    "plt.xticks(rotation='vertical')\n",
    "plt.show()"
   ]
  },
  {
   "cell_type": "markdown",
   "id": "4bf2a08f-75ba-4ac3-b913-869c8b6b48c1",
   "metadata": {},
   "source": [
    "## Feature Engineering\n",
    "> The process of transforming variables or features into a format suitable for modeling"
   ]
  },
  {
   "cell_type": "markdown",
   "id": "0edc82c1-223e-4ef7-9177-ed39879b6ecb",
   "metadata": {},
   "source": [
    "### Feature Encoding\n",
    "\n",
    "> Feature encoding is the process of converting categorical features into numerical features. <br>\n",
    "> Since Machine Learning algorithms can only work with numbers and vectors, it is necessary to convert categorical features into numeric ones before performing Machine Learning modeling for prediction."
   ]
  },
  {
   "cell_type": "markdown",
   "id": "d5780cda-a9b5-4293-9f39-0c6d922844e4",
   "metadata": {},
   "source": [
    "### One-Hot Encoding\n",
    "\n",
    "> The process of splitting categorical feature values (values with `object` or `string` data type) into separate features of their own, and representing their values with either 0 (meaning the record does not have that feature) or 1 (meaning the record has the feature).<br><br>\n",
    "> **For example** - If the feature contains 100 different categories, performing One Hot Encoding will lead to `the curse of dimensionality`, because it will create 100 different features leading to high-dimensional spaces."
   ]
  },
  {
   "cell_type": "markdown",
   "id": "472ad598-82ed-4ef8-bd71-783d9ce486ff",
   "metadata": {},
   "source": [
    "### Rules of Feature engineering generally followed in the real world\n",
    "> - `One Hot encoding` is performed on a dataset feature, given that the feature contains `nominal data` (data that has no order).\n",
    "> - `Label encoding` is performed on a dataset feature, given that the feature contains `ordinal data` (data that has an order).\n",
    "<br><br>\n",
    "> - `Label encoding` assigns a unique numerical value to each category, while `one-hot encoding` creates binary columns for each category."
   ]
  },
  {
   "cell_type": "markdown",
   "id": "a9303d06-59c2-47a6-8c0b-2ae0f526ddc7",
   "metadata": {},
   "source": [
    "### The Curse of Dimensionality\n",
    "> The curse of dimensionality is a phenomenon that occurs when analyzing and organizing data in high-dimensional spaces. It can lead to challenges like increased computational efforts, more training data requirements, and difficulty in supervised machine learning."
   ]
  },
  {
   "cell_type": "code",
   "execution_count": 77,
   "id": "03161ed8-e711-4e45-9950-3eb9c0fec221",
   "metadata": {},
   "outputs": [
    {
     "data": {
      "text/html": [
       "<div>\n",
       "<style scoped>\n",
       "    .dataframe tbody tr th:only-of-type {\n",
       "        vertical-align: middle;\n",
       "    }\n",
       "\n",
       "    .dataframe tbody tr th {\n",
       "        vertical-align: top;\n",
       "    }\n",
       "\n",
       "    .dataframe thead th {\n",
       "        text-align: right;\n",
       "    }\n",
       "</style>\n",
       "<table border=\"1\" class=\"dataframe\">\n",
       "  <thead>\n",
       "    <tr style=\"text-align: right;\">\n",
       "      <th></th>\n",
       "      <th>Airline</th>\n",
       "      <th>Date_of_Journey</th>\n",
       "      <th>Source</th>\n",
       "      <th>Destination</th>\n",
       "      <th>Route</th>\n",
       "      <th>Duration</th>\n",
       "      <th>Total_Stops</th>\n",
       "      <th>Additional_Info</th>\n",
       "      <th>Price</th>\n",
       "      <th>Journey_Day</th>\n",
       "      <th>Journey_Month</th>\n",
       "      <th>Journey_Year</th>\n",
       "      <th>Dep_Time_Hour</th>\n",
       "      <th>Dep_Time_Minute</th>\n",
       "      <th>Arrival_Time_Hour</th>\n",
       "      <th>Arrival_Time_Minute</th>\n",
       "      <th>Duration_Hours</th>\n",
       "      <th>Duration_Mins</th>\n",
       "      <th>Duration_Total_Mins</th>\n",
       "    </tr>\n",
       "  </thead>\n",
       "  <tbody>\n",
       "    <tr>\n",
       "      <th>0</th>\n",
       "      <td>IndiGo</td>\n",
       "      <td>2019-03-24</td>\n",
       "      <td>Banglore</td>\n",
       "      <td>New Delhi</td>\n",
       "      <td>BLR → DEL</td>\n",
       "      <td>2h 50m</td>\n",
       "      <td>non-stop</td>\n",
       "      <td>No info</td>\n",
       "      <td>3897</td>\n",
       "      <td>24</td>\n",
       "      <td>3</td>\n",
       "      <td>2019</td>\n",
       "      <td>22</td>\n",
       "      <td>20</td>\n",
       "      <td>1</td>\n",
       "      <td>10</td>\n",
       "      <td>2</td>\n",
       "      <td>50</td>\n",
       "      <td>170</td>\n",
       "    </tr>\n",
       "    <tr>\n",
       "      <th>1</th>\n",
       "      <td>Air India</td>\n",
       "      <td>2019-05-01</td>\n",
       "      <td>Kolkata</td>\n",
       "      <td>Banglore</td>\n",
       "      <td>CCU → IXR → BBI → BLR</td>\n",
       "      <td>7h 25m</td>\n",
       "      <td>2 stops</td>\n",
       "      <td>No info</td>\n",
       "      <td>7662</td>\n",
       "      <td>1</td>\n",
       "      <td>5</td>\n",
       "      <td>2019</td>\n",
       "      <td>5</td>\n",
       "      <td>50</td>\n",
       "      <td>13</td>\n",
       "      <td>15</td>\n",
       "      <td>7</td>\n",
       "      <td>25</td>\n",
       "      <td>445</td>\n",
       "    </tr>\n",
       "  </tbody>\n",
       "</table>\n",
       "</div>"
      ],
      "text/plain": [
       "     Airline Date_of_Journey    Source Destination                  Route  \\\n",
       "0     IndiGo      2019-03-24  Banglore   New Delhi              BLR → DEL   \n",
       "1  Air India      2019-05-01   Kolkata    Banglore  CCU → IXR → BBI → BLR   \n",
       "\n",
       "  Duration Total_Stops Additional_Info  Price  Journey_Day  Journey_Month  \\\n",
       "0   2h 50m    non-stop         No info   3897           24              3   \n",
       "1   7h 25m     2 stops         No info   7662            1              5   \n",
       "\n",
       "   Journey_Year  Dep_Time_Hour  Dep_Time_Minute  Arrival_Time_Hour  \\\n",
       "0          2019             22               20                  1   \n",
       "1          2019              5               50                 13   \n",
       "\n",
       "   Arrival_Time_Minute  Duration_Hours  Duration_Mins  Duration_Total_Mins  \n",
       "0                   10               2             50                  170  \n",
       "1                   15               7             25                  445  "
      ]
     },
     "execution_count": 77,
     "metadata": {},
     "output_type": "execute_result"
    }
   ],
   "source": [
    "data.head(2)"
   ]
  },
  {
   "cell_type": "markdown",
   "id": "c943d088-e590-4589-9b25-0447c0120dce",
   "metadata": {},
   "source": [
    "#### Creating two lists to perform feature engineering\n",
    "> - The first list will be `cat_col` which contains all the categorical features (features with values of datatype `object`). So that, `feature encoding` can be performed on the list.\n",
    "> - The second list will be `num_col` which contains all the numerical features (features with values of datatype `numeric`)."
   ]
  },
  {
   "cell_type": "code",
   "execution_count": 78,
   "id": "a02cea81-949c-469e-8aa0-13c4eed75d68",
   "metadata": {},
   "outputs": [
    {
     "data": {
      "text/plain": [
       "Index(['Airline', 'Date_of_Journey', 'Source', 'Destination', 'Route',\n",
       "       'Duration', 'Total_Stops', 'Additional_Info', 'Price', 'Journey_Day',\n",
       "       'Journey_Month', 'Journey_Year', 'Dep_Time_Hour', 'Dep_Time_Minute',\n",
       "       'Arrival_Time_Hour', 'Arrival_Time_Minute', 'Duration_Hours',\n",
       "       'Duration_Mins', 'Duration_Total_Mins'],\n",
       "      dtype='object')"
      ]
     },
     "execution_count": 78,
     "metadata": {},
     "output_type": "execute_result"
    }
   ],
   "source": [
    "data.columns"
   ]
  },
  {
   "cell_type": "code",
   "execution_count": 79,
   "id": "169beff2-425f-4606-92be-b25bd578aa5c",
   "metadata": {},
   "outputs": [
    {
     "data": {
      "text/plain": [
       "['Airline',\n",
       " 'Source',\n",
       " 'Destination',\n",
       " 'Route',\n",
       " 'Duration',\n",
       " 'Total_Stops',\n",
       " 'Additional_Info']"
      ]
     },
     "execution_count": 79,
     "metadata": {},
     "output_type": "execute_result"
    }
   ],
   "source": [
    "[col for col in data.columns if data[col].dtype == 'object']"
   ]
  },
  {
   "cell_type": "markdown",
   "id": "6b2bfece-7a5d-4857-9687-fcc49a6a2433",
   "metadata": {},
   "source": [
    "> The above code is similar to the code below"
   ]
  },
  {
   "cell_type": "code",
   "execution_count": 80,
   "id": "7952d2a4-f230-4cff-a34e-9389f399d8ce",
   "metadata": {},
   "outputs": [],
   "source": [
    "cat_col = []\n",
    "for col in data.columns:\n",
    "    if data[col].dtype == 'object':\n",
    "        cat_col.append(col)"
   ]
  },
  {
   "cell_type": "code",
   "execution_count": 81,
   "id": "06cfce84-8666-406e-8b47-fe721a3f0843",
   "metadata": {},
   "outputs": [
    {
     "data": {
      "text/plain": [
       "['Airline',\n",
       " 'Source',\n",
       " 'Destination',\n",
       " 'Route',\n",
       " 'Duration',\n",
       " 'Total_Stops',\n",
       " 'Additional_Info']"
      ]
     },
     "execution_count": 81,
     "metadata": {},
     "output_type": "execute_result"
    }
   ],
   "source": [
    "cat_col"
   ]
  },
  {
   "cell_type": "markdown",
   "id": "3d3a145b-b6ea-4354-a2c1-184443b1458c",
   "metadata": {},
   "source": [
    "##### Storing the list with `object` and `without object` values in `cat_col` and `num_col` respectively\n",
    "\n",
    "> Writing the same code in a single line."
   ]
  },
  {
   "cell_type": "code",
   "execution_count": 82,
   "id": "3664a95e-ea3c-4e81-a9f6-c9d566f69155",
   "metadata": {},
   "outputs": [],
   "source": [
    "cat_col = [col for col in data.columns if data[col].dtype == 'object']"
   ]
  },
  {
   "cell_type": "code",
   "execution_count": 83,
   "id": "e9ef7dde-c8ee-4d23-bc90-13efbb74f4c6",
   "metadata": {},
   "outputs": [],
   "source": [
    "num_col = [col for col in data.columns if data[col].dtype != 'object']"
   ]
  },
  {
   "cell_type": "code",
   "execution_count": 84,
   "id": "317de8b9-9af9-4ebf-9007-a777a3452b86",
   "metadata": {},
   "outputs": [
    {
     "data": {
      "text/plain": [
       "['Airline',\n",
       " 'Source',\n",
       " 'Destination',\n",
       " 'Route',\n",
       " 'Duration',\n",
       " 'Total_Stops',\n",
       " 'Additional_Info']"
      ]
     },
     "execution_count": 84,
     "metadata": {},
     "output_type": "execute_result"
    }
   ],
   "source": [
    "cat_col"
   ]
  },
  {
   "cell_type": "code",
   "execution_count": 85,
   "id": "920b2515-823a-43ee-ac2b-2e2696ca47bd",
   "metadata": {},
   "outputs": [
    {
     "data": {
      "text/plain": [
       "['Date_of_Journey',\n",
       " 'Price',\n",
       " 'Journey_Day',\n",
       " 'Journey_Month',\n",
       " 'Journey_Year',\n",
       " 'Dep_Time_Hour',\n",
       " 'Dep_Time_Minute',\n",
       " 'Arrival_Time_Hour',\n",
       " 'Arrival_Time_Minute',\n",
       " 'Duration_Hours',\n",
       " 'Duration_Mins',\n",
       " 'Duration_Total_Mins']"
      ]
     },
     "execution_count": 85,
     "metadata": {},
     "output_type": "execute_result"
    }
   ],
   "source": [
    "num_col"
   ]
  },
  {
   "cell_type": "markdown",
   "id": "85519795-d5eb-4010-a159-e1c025b15814",
   "metadata": {},
   "source": [
    "### Feature encoding on the `Source` feature"
   ]
  },
  {
   "cell_type": "code",
   "execution_count": 86,
   "id": "794d56d1-7256-4ed7-a21a-9df2b4bf26dc",
   "metadata": {},
   "outputs": [
    {
     "data": {
      "text/plain": [
       "array(['Banglore', 'Kolkata', 'Delhi', 'Chennai', 'Mumbai'], dtype=object)"
      ]
     },
     "execution_count": 86,
     "metadata": {},
     "output_type": "execute_result"
    }
   ],
   "source": [
    "data['Source'].unique()"
   ]
  },
  {
   "cell_type": "markdown",
   "id": "162fc617-63f1-436c-b822-660725f3f2fc",
   "metadata": {},
   "source": [
    "#### Performing \"One Hot Encoding\" manually on all the categories present in the `Source` feature\n",
    "> Implementing \"One Hot Encoding\" on the `Source` feature because it is categorical."
   ]
  },
  {
   "cell_type": "markdown",
   "id": "d919ac04-61c1-4b21-b4e0-86cf0b8f2928",
   "metadata": {},
   "source": [
    "##### Implementing \"One Hot Encoding\" for each of the sub-categories in the `Source` feature"
   ]
  },
  {
   "cell_type": "code",
   "execution_count": 87,
   "id": "115a8d65-d7f9-4971-98e8-2ec6811bcc3b",
   "metadata": {},
   "outputs": [
    {
     "data": {
      "text/plain": [
       "0    0\n",
       "1    0\n",
       "2    0\n",
       "3    0\n",
       "4    0\n",
       "5    0\n",
       "Name: Source, dtype: int64"
      ]
     },
     "execution_count": 87,
     "metadata": {},
     "output_type": "execute_result"
    }
   ],
   "source": [
    "data['Source'].apply(lambda x: 1 if x=='Bangalore' else 0).head(6)"
   ]
  },
  {
   "cell_type": "markdown",
   "id": "e233b0c0-b5c3-4892-881b-05ac3b59018e",
   "metadata": {},
   "source": [
    "##### Implementing \"One Hot Encoding\" for all the sub-categories in the `Source` feature using a `for loop`"
   ]
  },
  {
   "cell_type": "code",
   "execution_count": 88,
   "id": "c0801c85-809e-4b58-9924-a6e873e0e68e",
   "metadata": {},
   "outputs": [],
   "source": [
    "for sub_category in data['Source'].unique():\n",
    "    data['Source_'+sub_category] = data['Source'].apply(lambda x: 1 if x==sub_category else 0)"
   ]
  },
  {
   "cell_type": "code",
   "execution_count": 89,
   "id": "16ef0550-cd84-44c6-9f8c-5fb800a46474",
   "metadata": {},
   "outputs": [
    {
     "data": {
      "text/html": [
       "<div>\n",
       "<style scoped>\n",
       "    .dataframe tbody tr th:only-of-type {\n",
       "        vertical-align: middle;\n",
       "    }\n",
       "\n",
       "    .dataframe tbody tr th {\n",
       "        vertical-align: top;\n",
       "    }\n",
       "\n",
       "    .dataframe thead th {\n",
       "        text-align: right;\n",
       "    }\n",
       "</style>\n",
       "<table border=\"1\" class=\"dataframe\">\n",
       "  <thead>\n",
       "    <tr style=\"text-align: right;\">\n",
       "      <th></th>\n",
       "      <th>Airline</th>\n",
       "      <th>Date_of_Journey</th>\n",
       "      <th>Source</th>\n",
       "      <th>Destination</th>\n",
       "      <th>Route</th>\n",
       "      <th>Duration</th>\n",
       "      <th>Total_Stops</th>\n",
       "      <th>Additional_Info</th>\n",
       "      <th>Price</th>\n",
       "      <th>Journey_Day</th>\n",
       "      <th>...</th>\n",
       "      <th>Arrival_Time_Hour</th>\n",
       "      <th>Arrival_Time_Minute</th>\n",
       "      <th>Duration_Hours</th>\n",
       "      <th>Duration_Mins</th>\n",
       "      <th>Duration_Total_Mins</th>\n",
       "      <th>Source_Banglore</th>\n",
       "      <th>Source_Kolkata</th>\n",
       "      <th>Source_Delhi</th>\n",
       "      <th>Source_Chennai</th>\n",
       "      <th>Source_Mumbai</th>\n",
       "    </tr>\n",
       "  </thead>\n",
       "  <tbody>\n",
       "    <tr>\n",
       "      <th>0</th>\n",
       "      <td>IndiGo</td>\n",
       "      <td>2019-03-24</td>\n",
       "      <td>Banglore</td>\n",
       "      <td>New Delhi</td>\n",
       "      <td>BLR → DEL</td>\n",
       "      <td>2h 50m</td>\n",
       "      <td>non-stop</td>\n",
       "      <td>No info</td>\n",
       "      <td>3897</td>\n",
       "      <td>24</td>\n",
       "      <td>...</td>\n",
       "      <td>1</td>\n",
       "      <td>10</td>\n",
       "      <td>2</td>\n",
       "      <td>50</td>\n",
       "      <td>170</td>\n",
       "      <td>1</td>\n",
       "      <td>0</td>\n",
       "      <td>0</td>\n",
       "      <td>0</td>\n",
       "      <td>0</td>\n",
       "    </tr>\n",
       "    <tr>\n",
       "      <th>1</th>\n",
       "      <td>Air India</td>\n",
       "      <td>2019-05-01</td>\n",
       "      <td>Kolkata</td>\n",
       "      <td>Banglore</td>\n",
       "      <td>CCU → IXR → BBI → BLR</td>\n",
       "      <td>7h 25m</td>\n",
       "      <td>2 stops</td>\n",
       "      <td>No info</td>\n",
       "      <td>7662</td>\n",
       "      <td>1</td>\n",
       "      <td>...</td>\n",
       "      <td>13</td>\n",
       "      <td>15</td>\n",
       "      <td>7</td>\n",
       "      <td>25</td>\n",
       "      <td>445</td>\n",
       "      <td>0</td>\n",
       "      <td>1</td>\n",
       "      <td>0</td>\n",
       "      <td>0</td>\n",
       "      <td>0</td>\n",
       "    </tr>\n",
       "  </tbody>\n",
       "</table>\n",
       "<p>2 rows × 24 columns</p>\n",
       "</div>"
      ],
      "text/plain": [
       "     Airline Date_of_Journey    Source Destination                  Route  \\\n",
       "0     IndiGo      2019-03-24  Banglore   New Delhi              BLR → DEL   \n",
       "1  Air India      2019-05-01   Kolkata    Banglore  CCU → IXR → BBI → BLR   \n",
       "\n",
       "  Duration Total_Stops Additional_Info  Price  Journey_Day  ...  \\\n",
       "0   2h 50m    non-stop         No info   3897           24  ...   \n",
       "1   7h 25m     2 stops         No info   7662            1  ...   \n",
       "\n",
       "   Arrival_Time_Hour  Arrival_Time_Minute  Duration_Hours  Duration_Mins  \\\n",
       "0                  1                   10               2             50   \n",
       "1                 13                   15               7             25   \n",
       "\n",
       "   Duration_Total_Mins  Source_Banglore  Source_Kolkata  Source_Delhi  \\\n",
       "0                  170                1               0             0   \n",
       "1                  445                0               1             0   \n",
       "\n",
       "   Source_Chennai  Source_Mumbai  \n",
       "0               0              0  \n",
       "1               0              0  \n",
       "\n",
       "[2 rows x 24 columns]"
      ]
     },
     "execution_count": 89,
     "metadata": {},
     "output_type": "execute_result"
    }
   ],
   "source": [
    "data.head(2)"
   ]
  },
  {
   "cell_type": "markdown",
   "id": "2ed4bd8a-da5e-4a40-9cfe-68eab955ea98",
   "metadata": {},
   "source": [
    "### Feature encoding on the `Airline` feature"
   ]
  },
  {
   "cell_type": "code",
   "execution_count": 90,
   "id": "0db9b42f-b8d7-4e9f-b024-152ecd97345f",
   "metadata": {},
   "outputs": [
    {
     "data": {
      "text/plain": [
       "array(['IndiGo', 'Air India', 'Jet Airways', 'SpiceJet',\n",
       "       'Multiple carriers', 'GoAir', 'Vistara', 'Air Asia',\n",
       "       'Vistara Premium economy', 'Jet Airways Business',\n",
       "       'Multiple carriers Premium economy', 'Trujet'], dtype=object)"
      ]
     },
     "execution_count": 90,
     "metadata": {},
     "output_type": "execute_result"
    }
   ],
   "source": [
    "data['Airline'].unique()"
   ]
  },
  {
   "cell_type": "markdown",
   "id": "c3fc3e56-76b4-4a5e-b22d-4bba06dfe27d",
   "metadata": {},
   "source": [
    "#### Checking the number of unique values in the `Airline` feature"
   ]
  },
  {
   "cell_type": "code",
   "execution_count": 91,
   "id": "fc231b42-f76f-4d5a-a913-da36d28a01aa",
   "metadata": {},
   "outputs": [
    {
     "data": {
      "text/plain": [
       "12"
      ]
     },
     "execution_count": 91,
     "metadata": {},
     "output_type": "execute_result"
    }
   ],
   "source": [
    "data['Airline'].nunique()"
   ]
  },
  {
   "cell_type": "markdown",
   "id": "0453929d-b114-451f-a360-753e5891db3c",
   "metadata": {},
   "source": [
    "> Performing `One Hot Encoding` on the `Airline` feature would result in `the curse of dimensionality`, because it would create 12 different features, increasing the dimensions of the dataset. Another method would be to create `Target-guided ordinal encoding`."
   ]
  },
  {
   "cell_type": "markdown",
   "id": "7f69a347-9a85-404d-aa63-6a2c0cfe87c0",
   "metadata": {},
   "source": [
    "#### Performing Target-guided ordinal encoding on the `Airline` feature\n",
    "> Target-guided ordinal encoding is a technique used to encode categorical features based on their target feature (`Price` in this case).<br>\n",
    "> This encoding technique is particularly useful when the target variable (`Price` in this case) is `ordinal` (data that has an order).<br><br>\n",
    "> This technique would create a single feature by prioritizing the sub-categories based on their target feature (`price` in this case) and encoding them.<br><br>\n",
    "> Since there are 12 sub-categories or airlines in the `Airline` feature, all the airlines will be prioritized based on the average `Price` value.<br>\n",
    "> The higher the average price of an airline, the higher its priority value."
   ]
  },
  {
   "cell_type": "code",
   "execution_count": 92,
   "id": "42a4583a-6caa-4221-beec-c5e68fcb9d3a",
   "metadata": {},
   "outputs": [
    {
     "data": {
      "text/plain": [
       "Airline\n",
       "Trujet                                4140.000000\n",
       "SpiceJet                              4338.284841\n",
       "Air Asia                              5590.260188\n",
       "IndiGo                                5673.682903\n",
       "GoAir                                 5861.056701\n",
       "Vistara                               7796.348643\n",
       "Vistara Premium economy               8962.333333\n",
       "Air India                             9612.427756\n",
       "Multiple carriers                    10902.678094\n",
       "Multiple carriers Premium economy    11418.846154\n",
       "Jet Airways                          11643.923357\n",
       "Jet Airways Business                 58358.666667\n",
       "Name: Price, dtype: float64"
      ]
     },
     "execution_count": 92,
     "metadata": {},
     "output_type": "execute_result"
    }
   ],
   "source": [
    "data.groupby(['Airline'])['Price'].mean().sort_values()"
   ]
  },
  {
   "cell_type": "markdown",
   "id": "e16783bb-bdd0-4982-b0aa-d4859cc04f68",
   "metadata": {},
   "source": [
    "##### Storing the mean price sorted airlines in a variable named `airlines`"
   ]
  },
  {
   "cell_type": "code",
   "execution_count": 93,
   "id": "b950a92c-fca6-4632-a1c4-43b20bf13905",
   "metadata": {},
   "outputs": [],
   "source": [
    "airlines = data.groupby(['Airline'])['Price'].mean().sort_values().index"
   ]
  },
  {
   "cell_type": "code",
   "execution_count": 94,
   "id": "5fa69a17-f2c9-4cfa-958a-c39c96a58a19",
   "metadata": {},
   "outputs": [
    {
     "data": {
      "text/plain": [
       "Index(['Trujet', 'SpiceJet', 'Air Asia', 'IndiGo', 'GoAir', 'Vistara',\n",
       "       'Vistara Premium economy', 'Air India', 'Multiple carriers',\n",
       "       'Multiple carriers Premium economy', 'Jet Airways',\n",
       "       'Jet Airways Business'],\n",
       "      dtype='object', name='Airline')"
      ]
     },
     "execution_count": 94,
     "metadata": {},
     "output_type": "execute_result"
    }
   ],
   "source": [
    "airlines"
   ]
  },
  {
   "cell_type": "markdown",
   "id": "1582aa12-964d-4d68-b08d-2274ca733123",
   "metadata": {},
   "source": [
    "#### Converting the list `airlines` into a dictionary to provide priority values for each of the sorted airlines\n",
    "> Using `enumeration` to assign numeric values for the sorted airlines."
   ]
  },
  {
   "cell_type": "markdown",
   "id": "e20cb5c9-eac5-46de-a531-01154b05a03c",
   "metadata": {},
   "source": [
    "> Dictionary = {key : value}"
   ]
  },
  {
   "cell_type": "code",
   "execution_count": 95,
   "id": "3100bce0-6735-44b3-9e64-c3b734943f3b",
   "metadata": {},
   "outputs": [],
   "source": [
    "dict_airlines = {}\n",
    "for index, key in enumerate(airlines, 0):\n",
    "    dict_airlines[key] = index"
   ]
  },
  {
   "cell_type": "code",
   "execution_count": 96,
   "id": "e27e80b8-a007-4fcf-93fd-1293dfea10e7",
   "metadata": {},
   "outputs": [
    {
     "data": {
      "text/plain": [
       "{'Trujet': 0,\n",
       " 'SpiceJet': 1,\n",
       " 'Air Asia': 2,\n",
       " 'IndiGo': 3,\n",
       " 'GoAir': 4,\n",
       " 'Vistara': 5,\n",
       " 'Vistara Premium economy': 6,\n",
       " 'Air India': 7,\n",
       " 'Multiple carriers': 8,\n",
       " 'Multiple carriers Premium economy': 9,\n",
       " 'Jet Airways': 10,\n",
       " 'Jet Airways Business': 11}"
      ]
     },
     "execution_count": 96,
     "metadata": {},
     "output_type": "execute_result"
    }
   ],
   "source": [
    "dict_airlines"
   ]
  },
  {
   "cell_type": "markdown",
   "id": "1e523df8-86b7-4c68-b216-ed21648ab0e3",
   "metadata": {},
   "source": [
    "##### Writing the same code in a single line"
   ]
  },
  {
   "cell_type": "code",
   "execution_count": 97,
   "id": "9d01b791-6663-4063-a617-ab829e1eec8c",
   "metadata": {},
   "outputs": [],
   "source": [
    "dict_airlines = {key:index for index, key in enumerate(airlines, 0)}"
   ]
  },
  {
   "cell_type": "code",
   "execution_count": 98,
   "id": "0b5bec24-b5f1-49df-bc35-af930533bd19",
   "metadata": {},
   "outputs": [
    {
     "data": {
      "text/plain": [
       "{'Trujet': 0,\n",
       " 'SpiceJet': 1,\n",
       " 'Air Asia': 2,\n",
       " 'IndiGo': 3,\n",
       " 'GoAir': 4,\n",
       " 'Vistara': 5,\n",
       " 'Vistara Premium economy': 6,\n",
       " 'Air India': 7,\n",
       " 'Multiple carriers': 8,\n",
       " 'Multiple carriers Premium economy': 9,\n",
       " 'Jet Airways': 10,\n",
       " 'Jet Airways Business': 11}"
      ]
     },
     "execution_count": 98,
     "metadata": {},
     "output_type": "execute_result"
    }
   ],
   "source": [
    "dict_airlines"
   ]
  },
  {
   "cell_type": "markdown",
   "id": "c965cb47-dec3-42a9-baf4-7cb7b82fed92",
   "metadata": {},
   "source": [
    "#### Mapping the `dict_airlines` dictionary on top of the `Airline` feature"
   ]
  },
  {
   "cell_type": "code",
   "execution_count": 99,
   "id": "532a48e9-d4fe-46d7-abf9-841b44aa71ff",
   "metadata": {},
   "outputs": [],
   "source": [
    "data['Airline'] = data['Airline'].map(dict_airlines)"
   ]
  },
  {
   "cell_type": "code",
   "execution_count": 100,
   "id": "2319abd1-8569-42c6-b5a8-4df491829274",
   "metadata": {},
   "outputs": [
    {
     "data": {
      "text/plain": [
       "0     3\n",
       "1     7\n",
       "2    10\n",
       "3     3\n",
       "4     3\n",
       "5     1\n",
       "Name: Airline, dtype: int64"
      ]
     },
     "execution_count": 100,
     "metadata": {},
     "output_type": "execute_result"
    }
   ],
   "source": [
    "data['Airline'].head(6)"
   ]
  },
  {
   "cell_type": "markdown",
   "id": "92733095-7799-49d6-9ee7-c27fd6d69b83",
   "metadata": {},
   "source": [
    "### Feature Encoding on the `Destination` feature"
   ]
  },
  {
   "cell_type": "code",
   "execution_count": 101,
   "id": "f01f38fd-fe5e-4a90-a902-baa19cafcaa8",
   "metadata": {},
   "outputs": [
    {
     "data": {
      "text/plain": [
       "['Airline',\n",
       " 'Source',\n",
       " 'Destination',\n",
       " 'Route',\n",
       " 'Duration',\n",
       " 'Total_Stops',\n",
       " 'Additional_Info']"
      ]
     },
     "execution_count": 101,
     "metadata": {},
     "output_type": "execute_result"
    }
   ],
   "source": [
    "cat_col"
   ]
  },
  {
   "cell_type": "code",
   "execution_count": 102,
   "id": "0c01c1cb-95cd-4d00-bedd-f958515825c5",
   "metadata": {},
   "outputs": [
    {
     "data": {
      "text/plain": [
       "array(['New Delhi', 'Banglore', 'Cochin', 'Kolkata', 'Delhi', 'Hyderabad'],\n",
       "      dtype=object)"
      ]
     },
     "execution_count": 102,
     "metadata": {},
     "output_type": "execute_result"
    }
   ],
   "source": [
    "data['Destination'].unique()"
   ]
  },
  {
   "cell_type": "markdown",
   "id": "48ccfd3a-6787-409c-85bf-7dae9115ee7f",
   "metadata": {},
   "source": [
    "> It was found out that `New Delhi` and `Delhi` have the same airport, hence, `New Delhi` will be replaced with `Delhi` to reduce high dimensionality."
   ]
  },
  {
   "cell_type": "markdown",
   "id": "984c0a5c-d615-4569-bd02-7569ead688c2",
   "metadata": {},
   "source": [
    "#### Replacing `New Delhi` with `Delhi`"
   ]
  },
  {
   "cell_type": "code",
   "execution_count": 103,
   "id": "b0793732-15c1-4706-9d16-aeab4e0c46a9",
   "metadata": {},
   "outputs": [],
   "source": [
    "data['Destination'].replace('New Delhi', 'Delhi', inplace=True)"
   ]
  },
  {
   "cell_type": "code",
   "execution_count": 104,
   "id": "50c8f91c-18da-4338-a1d5-802cac30c635",
   "metadata": {},
   "outputs": [
    {
     "data": {
      "text/plain": [
       "array(['Delhi', 'Banglore', 'Cochin', 'Kolkata', 'Hyderabad'],\n",
       "      dtype=object)"
      ]
     },
     "execution_count": 104,
     "metadata": {},
     "output_type": "execute_result"
    }
   ],
   "source": [
    "data['Destination'].unique()"
   ]
  },
  {
   "cell_type": "markdown",
   "id": "a4b2260a-c4b5-4341-b230-7e299668ab4b",
   "metadata": {},
   "source": [
    "#### Performing Target-guided ordinal encoding on the `Destination` feature"
   ]
  },
  {
   "cell_type": "code",
   "execution_count": 105,
   "id": "aee2db0f-c3f0-4414-8f04-7cdfd311e6db",
   "metadata": {},
   "outputs": [
    {
     "data": {
      "text/plain": [
       "Destination\n",
       "Kolkata       4789.892388\n",
       "Hyderabad     5059.708752\n",
       "Delhi         8017.464269\n",
       "Banglore      9158.389411\n",
       "Cochin       10540.113536\n",
       "Name: Price, dtype: float64"
      ]
     },
     "execution_count": 105,
     "metadata": {},
     "output_type": "execute_result"
    }
   ],
   "source": [
    "data.groupby(['Destination'])['Price'].mean().sort_values()"
   ]
  },
  {
   "cell_type": "code",
   "execution_count": 106,
   "id": "ad433ac6-e3d7-4eef-afa6-706354429abb",
   "metadata": {},
   "outputs": [],
   "source": [
    "dest = data.groupby(['Destination'])['Price'].mean().sort_values().index"
   ]
  },
  {
   "cell_type": "code",
   "execution_count": 107,
   "id": "26a8c3ad-f45a-418e-9468-b4618f0399b5",
   "metadata": {},
   "outputs": [
    {
     "data": {
      "text/plain": [
       "Index(['Kolkata', 'Hyderabad', 'Delhi', 'Banglore', 'Cochin'], dtype='object', name='Destination')"
      ]
     },
     "execution_count": 107,
     "metadata": {},
     "output_type": "execute_result"
    }
   ],
   "source": [
    "dest"
   ]
  },
  {
   "cell_type": "markdown",
   "id": "5bba3138-ff5d-4b8b-8055-0fbdac999c2d",
   "metadata": {},
   "source": [
    "#### Creating a dictionary to store the priority values of the sorted destinations."
   ]
  },
  {
   "cell_type": "code",
   "execution_count": 108,
   "id": "2d73e6c3-0bb4-4b25-bf62-5088843c3360",
   "metadata": {},
   "outputs": [],
   "source": [
    "dict_dest = {key:index for index, key in enumerate(dest, 0)}"
   ]
  },
  {
   "cell_type": "code",
   "execution_count": 109,
   "id": "397e337e-9d33-4d3f-9559-0e92798ddd5f",
   "metadata": {},
   "outputs": [
    {
     "data": {
      "text/plain": [
       "{'Kolkata': 0, 'Hyderabad': 1, 'Delhi': 2, 'Banglore': 3, 'Cochin': 4}"
      ]
     },
     "execution_count": 109,
     "metadata": {},
     "output_type": "execute_result"
    }
   ],
   "source": [
    "dict_dest"
   ]
  },
  {
   "cell_type": "markdown",
   "id": "f81db42c-3642-4fa8-9835-a7ae41d33cec",
   "metadata": {},
   "source": [
    "#### Mapping the dictionary `dict_dest` onto the `Destination` feature"
   ]
  },
  {
   "cell_type": "code",
   "execution_count": 110,
   "id": "05211a30-e39c-4254-a415-162e760503f8",
   "metadata": {},
   "outputs": [],
   "source": [
    "data['Destination'] = data['Destination'].map(dict_dest)"
   ]
  },
  {
   "cell_type": "code",
   "execution_count": 111,
   "id": "6d5cdb98-34c5-44dc-8f57-73829c9f3e5e",
   "metadata": {},
   "outputs": [
    {
     "data": {
      "text/plain": [
       "0    2\n",
       "1    3\n",
       "2    4\n",
       "3    3\n",
       "4    2\n",
       "5    3\n",
       "Name: Destination, dtype: int64"
      ]
     },
     "execution_count": 111,
     "metadata": {},
     "output_type": "execute_result"
    }
   ],
   "source": [
    "data['Destination'].head(6)"
   ]
  },
  {
   "cell_type": "code",
   "execution_count": 112,
   "id": "d8bb88c1-d025-460a-a76a-a82bdab23baa",
   "metadata": {},
   "outputs": [
    {
     "data": {
      "text/html": [
       "<div>\n",
       "<style scoped>\n",
       "    .dataframe tbody tr th:only-of-type {\n",
       "        vertical-align: middle;\n",
       "    }\n",
       "\n",
       "    .dataframe tbody tr th {\n",
       "        vertical-align: top;\n",
       "    }\n",
       "\n",
       "    .dataframe thead th {\n",
       "        text-align: right;\n",
       "    }\n",
       "</style>\n",
       "<table border=\"1\" class=\"dataframe\">\n",
       "  <thead>\n",
       "    <tr style=\"text-align: right;\">\n",
       "      <th></th>\n",
       "      <th>0</th>\n",
       "      <th>1</th>\n",
       "      <th>2</th>\n",
       "      <th>3</th>\n",
       "      <th>4</th>\n",
       "      <th>5</th>\n",
       "    </tr>\n",
       "  </thead>\n",
       "  <tbody>\n",
       "    <tr>\n",
       "      <th>Airline</th>\n",
       "      <td>3</td>\n",
       "      <td>7</td>\n",
       "      <td>10</td>\n",
       "      <td>3</td>\n",
       "      <td>3</td>\n",
       "      <td>1</td>\n",
       "    </tr>\n",
       "    <tr>\n",
       "      <th>Date_of_Journey</th>\n",
       "      <td>2019-03-24 00:00:00</td>\n",
       "      <td>2019-05-01 00:00:00</td>\n",
       "      <td>2019-06-09 00:00:00</td>\n",
       "      <td>2019-05-12 00:00:00</td>\n",
       "      <td>2019-03-01 00:00:00</td>\n",
       "      <td>2019-06-24 00:00:00</td>\n",
       "    </tr>\n",
       "    <tr>\n",
       "      <th>Source</th>\n",
       "      <td>Banglore</td>\n",
       "      <td>Kolkata</td>\n",
       "      <td>Delhi</td>\n",
       "      <td>Kolkata</td>\n",
       "      <td>Banglore</td>\n",
       "      <td>Kolkata</td>\n",
       "    </tr>\n",
       "    <tr>\n",
       "      <th>Destination</th>\n",
       "      <td>2</td>\n",
       "      <td>3</td>\n",
       "      <td>4</td>\n",
       "      <td>3</td>\n",
       "      <td>2</td>\n",
       "      <td>3</td>\n",
       "    </tr>\n",
       "    <tr>\n",
       "      <th>Route</th>\n",
       "      <td>BLR → DEL</td>\n",
       "      <td>CCU → IXR → BBI → BLR</td>\n",
       "      <td>DEL → LKO → BOM → COK</td>\n",
       "      <td>CCU → NAG → BLR</td>\n",
       "      <td>BLR → NAG → DEL</td>\n",
       "      <td>CCU → BLR</td>\n",
       "    </tr>\n",
       "    <tr>\n",
       "      <th>Duration</th>\n",
       "      <td>2h 50m</td>\n",
       "      <td>7h 25m</td>\n",
       "      <td>19h 0m</td>\n",
       "      <td>5h 25m</td>\n",
       "      <td>4h 45m</td>\n",
       "      <td>2h 25m</td>\n",
       "    </tr>\n",
       "    <tr>\n",
       "      <th>Total_Stops</th>\n",
       "      <td>non-stop</td>\n",
       "      <td>2 stops</td>\n",
       "      <td>2 stops</td>\n",
       "      <td>1 stop</td>\n",
       "      <td>1 stop</td>\n",
       "      <td>non-stop</td>\n",
       "    </tr>\n",
       "    <tr>\n",
       "      <th>Additional_Info</th>\n",
       "      <td>No info</td>\n",
       "      <td>No info</td>\n",
       "      <td>No info</td>\n",
       "      <td>No info</td>\n",
       "      <td>No info</td>\n",
       "      <td>No info</td>\n",
       "    </tr>\n",
       "    <tr>\n",
       "      <th>Price</th>\n",
       "      <td>3897</td>\n",
       "      <td>7662</td>\n",
       "      <td>13882</td>\n",
       "      <td>6218</td>\n",
       "      <td>13302</td>\n",
       "      <td>3873</td>\n",
       "    </tr>\n",
       "    <tr>\n",
       "      <th>Journey_Day</th>\n",
       "      <td>24</td>\n",
       "      <td>1</td>\n",
       "      <td>9</td>\n",
       "      <td>12</td>\n",
       "      <td>1</td>\n",
       "      <td>24</td>\n",
       "    </tr>\n",
       "    <tr>\n",
       "      <th>Journey_Month</th>\n",
       "      <td>3</td>\n",
       "      <td>5</td>\n",
       "      <td>6</td>\n",
       "      <td>5</td>\n",
       "      <td>3</td>\n",
       "      <td>6</td>\n",
       "    </tr>\n",
       "    <tr>\n",
       "      <th>Journey_Year</th>\n",
       "      <td>2019</td>\n",
       "      <td>2019</td>\n",
       "      <td>2019</td>\n",
       "      <td>2019</td>\n",
       "      <td>2019</td>\n",
       "      <td>2019</td>\n",
       "    </tr>\n",
       "    <tr>\n",
       "      <th>Dep_Time_Hour</th>\n",
       "      <td>22</td>\n",
       "      <td>5</td>\n",
       "      <td>9</td>\n",
       "      <td>18</td>\n",
       "      <td>16</td>\n",
       "      <td>9</td>\n",
       "    </tr>\n",
       "    <tr>\n",
       "      <th>Dep_Time_Minute</th>\n",
       "      <td>20</td>\n",
       "      <td>50</td>\n",
       "      <td>25</td>\n",
       "      <td>5</td>\n",
       "      <td>50</td>\n",
       "      <td>0</td>\n",
       "    </tr>\n",
       "    <tr>\n",
       "      <th>Arrival_Time_Hour</th>\n",
       "      <td>1</td>\n",
       "      <td>13</td>\n",
       "      <td>4</td>\n",
       "      <td>23</td>\n",
       "      <td>21</td>\n",
       "      <td>11</td>\n",
       "    </tr>\n",
       "    <tr>\n",
       "      <th>Arrival_Time_Minute</th>\n",
       "      <td>10</td>\n",
       "      <td>15</td>\n",
       "      <td>25</td>\n",
       "      <td>30</td>\n",
       "      <td>35</td>\n",
       "      <td>25</td>\n",
       "    </tr>\n",
       "    <tr>\n",
       "      <th>Duration_Hours</th>\n",
       "      <td>2</td>\n",
       "      <td>7</td>\n",
       "      <td>19</td>\n",
       "      <td>5</td>\n",
       "      <td>4</td>\n",
       "      <td>2</td>\n",
       "    </tr>\n",
       "    <tr>\n",
       "      <th>Duration_Mins</th>\n",
       "      <td>50</td>\n",
       "      <td>25</td>\n",
       "      <td>0</td>\n",
       "      <td>25</td>\n",
       "      <td>45</td>\n",
       "      <td>25</td>\n",
       "    </tr>\n",
       "    <tr>\n",
       "      <th>Duration_Total_Mins</th>\n",
       "      <td>170</td>\n",
       "      <td>445</td>\n",
       "      <td>1140</td>\n",
       "      <td>325</td>\n",
       "      <td>285</td>\n",
       "      <td>145</td>\n",
       "    </tr>\n",
       "    <tr>\n",
       "      <th>Source_Banglore</th>\n",
       "      <td>1</td>\n",
       "      <td>0</td>\n",
       "      <td>0</td>\n",
       "      <td>0</td>\n",
       "      <td>1</td>\n",
       "      <td>0</td>\n",
       "    </tr>\n",
       "    <tr>\n",
       "      <th>Source_Kolkata</th>\n",
       "      <td>0</td>\n",
       "      <td>1</td>\n",
       "      <td>0</td>\n",
       "      <td>1</td>\n",
       "      <td>0</td>\n",
       "      <td>1</td>\n",
       "    </tr>\n",
       "    <tr>\n",
       "      <th>Source_Delhi</th>\n",
       "      <td>0</td>\n",
       "      <td>0</td>\n",
       "      <td>1</td>\n",
       "      <td>0</td>\n",
       "      <td>0</td>\n",
       "      <td>0</td>\n",
       "    </tr>\n",
       "    <tr>\n",
       "      <th>Source_Chennai</th>\n",
       "      <td>0</td>\n",
       "      <td>0</td>\n",
       "      <td>0</td>\n",
       "      <td>0</td>\n",
       "      <td>0</td>\n",
       "      <td>0</td>\n",
       "    </tr>\n",
       "    <tr>\n",
       "      <th>Source_Mumbai</th>\n",
       "      <td>0</td>\n",
       "      <td>0</td>\n",
       "      <td>0</td>\n",
       "      <td>0</td>\n",
       "      <td>0</td>\n",
       "      <td>0</td>\n",
       "    </tr>\n",
       "  </tbody>\n",
       "</table>\n",
       "</div>"
      ],
      "text/plain": [
       "                                       0                      1  \\\n",
       "Airline                                3                      7   \n",
       "Date_of_Journey      2019-03-24 00:00:00    2019-05-01 00:00:00   \n",
       "Source                          Banglore                Kolkata   \n",
       "Destination                            2                      3   \n",
       "Route                          BLR → DEL  CCU → IXR → BBI → BLR   \n",
       "Duration                          2h 50m                 7h 25m   \n",
       "Total_Stops                     non-stop                2 stops   \n",
       "Additional_Info                  No info                No info   \n",
       "Price                               3897                   7662   \n",
       "Journey_Day                           24                      1   \n",
       "Journey_Month                          3                      5   \n",
       "Journey_Year                        2019                   2019   \n",
       "Dep_Time_Hour                         22                      5   \n",
       "Dep_Time_Minute                       20                     50   \n",
       "Arrival_Time_Hour                      1                     13   \n",
       "Arrival_Time_Minute                   10                     15   \n",
       "Duration_Hours                         2                      7   \n",
       "Duration_Mins                         50                     25   \n",
       "Duration_Total_Mins                  170                    445   \n",
       "Source_Banglore                        1                      0   \n",
       "Source_Kolkata                         0                      1   \n",
       "Source_Delhi                           0                      0   \n",
       "Source_Chennai                         0                      0   \n",
       "Source_Mumbai                          0                      0   \n",
       "\n",
       "                                         2                    3  \\\n",
       "Airline                                 10                    3   \n",
       "Date_of_Journey        2019-06-09 00:00:00  2019-05-12 00:00:00   \n",
       "Source                               Delhi              Kolkata   \n",
       "Destination                              4                    3   \n",
       "Route                DEL → LKO → BOM → COK      CCU → NAG → BLR   \n",
       "Duration                            19h 0m               5h 25m   \n",
       "Total_Stops                        2 stops               1 stop   \n",
       "Additional_Info                    No info              No info   \n",
       "Price                                13882                 6218   \n",
       "Journey_Day                              9                   12   \n",
       "Journey_Month                            6                    5   \n",
       "Journey_Year                          2019                 2019   \n",
       "Dep_Time_Hour                            9                   18   \n",
       "Dep_Time_Minute                         25                    5   \n",
       "Arrival_Time_Hour                        4                   23   \n",
       "Arrival_Time_Minute                     25                   30   \n",
       "Duration_Hours                          19                    5   \n",
       "Duration_Mins                            0                   25   \n",
       "Duration_Total_Mins                   1140                  325   \n",
       "Source_Banglore                          0                    0   \n",
       "Source_Kolkata                           0                    1   \n",
       "Source_Delhi                             1                    0   \n",
       "Source_Chennai                           0                    0   \n",
       "Source_Mumbai                            0                    0   \n",
       "\n",
       "                                       4                    5  \n",
       "Airline                                3                    1  \n",
       "Date_of_Journey      2019-03-01 00:00:00  2019-06-24 00:00:00  \n",
       "Source                          Banglore              Kolkata  \n",
       "Destination                            2                    3  \n",
       "Route                    BLR → NAG → DEL            CCU → BLR  \n",
       "Duration                          4h 45m               2h 25m  \n",
       "Total_Stops                       1 stop             non-stop  \n",
       "Additional_Info                  No info              No info  \n",
       "Price                              13302                 3873  \n",
       "Journey_Day                            1                   24  \n",
       "Journey_Month                          3                    6  \n",
       "Journey_Year                        2019                 2019  \n",
       "Dep_Time_Hour                         16                    9  \n",
       "Dep_Time_Minute                       50                    0  \n",
       "Arrival_Time_Hour                     21                   11  \n",
       "Arrival_Time_Minute                   35                   25  \n",
       "Duration_Hours                         4                    2  \n",
       "Duration_Mins                         45                   25  \n",
       "Duration_Total_Mins                  285                  145  \n",
       "Source_Banglore                        1                    0  \n",
       "Source_Kolkata                         0                    1  \n",
       "Source_Delhi                           0                    0  \n",
       "Source_Chennai                         0                    0  \n",
       "Source_Mumbai                          0                    0  "
      ]
     },
     "execution_count": 112,
     "metadata": {},
     "output_type": "execute_result"
    }
   ],
   "source": [
    "data.head(6).T"
   ]
  },
  {
   "cell_type": "code",
   "execution_count": 113,
   "id": "c9f9791b-c2ac-4712-a06d-bedf5c1ca965",
   "metadata": {},
   "outputs": [
    {
     "name": "stdout",
     "output_type": "stream",
     "text": [
      "<class 'pandas.core.frame.DataFrame'>\n",
      "Index: 10682 entries, 0 to 10682\n",
      "Data columns (total 24 columns):\n",
      " #   Column               Non-Null Count  Dtype         \n",
      "---  ------               --------------  -----         \n",
      " 0   Airline              10682 non-null  int64         \n",
      " 1   Date_of_Journey      10682 non-null  datetime64[ns]\n",
      " 2   Source               10682 non-null  object        \n",
      " 3   Destination          10682 non-null  int64         \n",
      " 4   Route                10682 non-null  object        \n",
      " 5   Duration             10682 non-null  object        \n",
      " 6   Total_Stops          10682 non-null  object        \n",
      " 7   Additional_Info      10682 non-null  object        \n",
      " 8   Price                10682 non-null  int64         \n",
      " 9   Journey_Day          10682 non-null  int32         \n",
      " 10  Journey_Month        10682 non-null  int32         \n",
      " 11  Journey_Year         10682 non-null  int32         \n",
      " 12  Dep_Time_Hour        10682 non-null  int32         \n",
      " 13  Dep_Time_Minute      10682 non-null  int32         \n",
      " 14  Arrival_Time_Hour    10682 non-null  int32         \n",
      " 15  Arrival_Time_Minute  10682 non-null  int32         \n",
      " 16  Duration_Hours       10682 non-null  int64         \n",
      " 17  Duration_Mins        10682 non-null  int64         \n",
      " 18  Duration_Total_Mins  10682 non-null  int64         \n",
      " 19  Source_Banglore      10682 non-null  int64         \n",
      " 20  Source_Kolkata       10682 non-null  int64         \n",
      " 21  Source_Delhi         10682 non-null  int64         \n",
      " 22  Source_Chennai       10682 non-null  int64         \n",
      " 23  Source_Mumbai        10682 non-null  int64         \n",
      "dtypes: datetime64[ns](1), int32(7), int64(11), object(5)\n",
      "memory usage: 2.0+ MB\n"
     ]
    }
   ],
   "source": [
    "data.info()"
   ]
  },
  {
   "cell_type": "markdown",
   "id": "8937d80a-cc6b-48b0-8cd4-3a83172943cd",
   "metadata": {},
   "source": [
    "### Feature encoding on the `Total_Stops` feature"
   ]
  },
  {
   "cell_type": "code",
   "execution_count": 114,
   "id": "58713038-3e73-4f7e-82ae-90bc6d72b5fe",
   "metadata": {},
   "outputs": [
    {
     "data": {
      "text/plain": [
       "array(['non-stop', '2 stops', '1 stop', '3 stops', '4 stops'],\n",
       "      dtype=object)"
      ]
     },
     "execution_count": 114,
     "metadata": {},
     "output_type": "execute_result"
    }
   ],
   "source": [
    "data['Total_Stops'].unique()"
   ]
  },
  {
   "cell_type": "markdown",
   "id": "02bd9d3a-d21c-41b9-bd11-d3456322a8b0",
   "metadata": {},
   "source": [
    "> Since the `Total_Stops` feature contains ordinal data values or ordinal sub-categories, `Label encoding` will be performed on it."
   ]
  },
  {
   "cell_type": "markdown",
   "id": "801b1c69-1e55-4f66-afb0-e978a16cc8f7",
   "metadata": {},
   "source": [
    "#### Performing Label Encoding on the `Total_Stops` feature\n",
    "> Label Encoding assigns a unique numerical value to each category, unlike one-hot encoding, which creates binary columns for each category.<br>\n",
    "> Label Encoding only works on ordinal data."
   ]
  },
  {
   "cell_type": "markdown",
   "id": "7da5ea6b-0c08-4e45-acfe-7b98a0c9178c",
   "metadata": {},
   "source": [
    "#### Creating a dictionary named `stop` with numeric values assigned in order to map the dictionary to the `Total_Stops` feature\n",
    "> dictionary = **{key : value}**"
   ]
  },
  {
   "cell_type": "code",
   "execution_count": 115,
   "id": "b1f124f4-c75f-405f-aaad-947895f434b4",
   "metadata": {},
   "outputs": [],
   "source": [
    "stop = {'non-stop':0, '1 stop':1, '2 stops':2, '3 stops':3, '4 stops':4}"
   ]
  },
  {
   "cell_type": "code",
   "execution_count": 116,
   "id": "ae99a216-f57a-48d1-b2ae-a6b8d3c3970d",
   "metadata": {},
   "outputs": [
    {
     "data": {
      "text/plain": [
       "{'non-stop': 0, '1 stop': 1, '2 stops': 2, '3 stops': 3, '4 stops': 4}"
      ]
     },
     "execution_count": 116,
     "metadata": {},
     "output_type": "execute_result"
    }
   ],
   "source": [
    "stop"
   ]
  },
  {
   "cell_type": "markdown",
   "id": "8cf375e1-3fa3-4b4c-b5f4-dbcc010eaecc",
   "metadata": {},
   "source": [
    "#### Mapping the dictionary `stop` onto the `Total_Stops` feature"
   ]
  },
  {
   "cell_type": "code",
   "execution_count": 117,
   "id": "4ddfab00-1e79-4340-aa33-ebf6f8944ee3",
   "metadata": {},
   "outputs": [],
   "source": [
    "data['Total_Stops'] = data['Total_Stops'].map(stop)"
   ]
  },
  {
   "cell_type": "code",
   "execution_count": 118,
   "id": "8d1707b6-1bd4-4617-baa8-7b301dcf955c",
   "metadata": {},
   "outputs": [
    {
     "data": {
      "text/plain": [
       "0    0\n",
       "1    2\n",
       "2    2\n",
       "3    1\n",
       "4    1\n",
       "5    0\n",
       "Name: Total_Stops, dtype: int64"
      ]
     },
     "execution_count": 118,
     "metadata": {},
     "output_type": "execute_result"
    }
   ],
   "source": [
    "data['Total_Stops'].head(6)"
   ]
  },
  {
   "cell_type": "markdown",
   "id": "ef8b23ba-c052-43f3-a1c8-ffc603077b06",
   "metadata": {},
   "source": [
    "### Removing unecessary features before data modeling"
   ]
  },
  {
   "cell_type": "code",
   "execution_count": 119,
   "id": "c8f33f2b-b395-423f-88f4-bbaeb31c8e2b",
   "metadata": {},
   "outputs": [
    {
     "data": {
      "text/html": [
       "<div>\n",
       "<style scoped>\n",
       "    .dataframe tbody tr th:only-of-type {\n",
       "        vertical-align: middle;\n",
       "    }\n",
       "\n",
       "    .dataframe tbody tr th {\n",
       "        vertical-align: top;\n",
       "    }\n",
       "\n",
       "    .dataframe thead th {\n",
       "        text-align: right;\n",
       "    }\n",
       "</style>\n",
       "<table border=\"1\" class=\"dataframe\">\n",
       "  <thead>\n",
       "    <tr style=\"text-align: right;\">\n",
       "      <th></th>\n",
       "      <th>0</th>\n",
       "      <th>1</th>\n",
       "    </tr>\n",
       "  </thead>\n",
       "  <tbody>\n",
       "    <tr>\n",
       "      <th>Airline</th>\n",
       "      <td>3</td>\n",
       "      <td>7</td>\n",
       "    </tr>\n",
       "    <tr>\n",
       "      <th>Date_of_Journey</th>\n",
       "      <td>2019-03-24 00:00:00</td>\n",
       "      <td>2019-05-01 00:00:00</td>\n",
       "    </tr>\n",
       "    <tr>\n",
       "      <th>Source</th>\n",
       "      <td>Banglore</td>\n",
       "      <td>Kolkata</td>\n",
       "    </tr>\n",
       "    <tr>\n",
       "      <th>Destination</th>\n",
       "      <td>2</td>\n",
       "      <td>3</td>\n",
       "    </tr>\n",
       "    <tr>\n",
       "      <th>Route</th>\n",
       "      <td>BLR → DEL</td>\n",
       "      <td>CCU → IXR → BBI → BLR</td>\n",
       "    </tr>\n",
       "    <tr>\n",
       "      <th>Duration</th>\n",
       "      <td>2h 50m</td>\n",
       "      <td>7h 25m</td>\n",
       "    </tr>\n",
       "    <tr>\n",
       "      <th>Total_Stops</th>\n",
       "      <td>0</td>\n",
       "      <td>2</td>\n",
       "    </tr>\n",
       "    <tr>\n",
       "      <th>Additional_Info</th>\n",
       "      <td>No info</td>\n",
       "      <td>No info</td>\n",
       "    </tr>\n",
       "    <tr>\n",
       "      <th>Price</th>\n",
       "      <td>3897</td>\n",
       "      <td>7662</td>\n",
       "    </tr>\n",
       "    <tr>\n",
       "      <th>Journey_Day</th>\n",
       "      <td>24</td>\n",
       "      <td>1</td>\n",
       "    </tr>\n",
       "    <tr>\n",
       "      <th>Journey_Month</th>\n",
       "      <td>3</td>\n",
       "      <td>5</td>\n",
       "    </tr>\n",
       "    <tr>\n",
       "      <th>Journey_Year</th>\n",
       "      <td>2019</td>\n",
       "      <td>2019</td>\n",
       "    </tr>\n",
       "    <tr>\n",
       "      <th>Dep_Time_Hour</th>\n",
       "      <td>22</td>\n",
       "      <td>5</td>\n",
       "    </tr>\n",
       "    <tr>\n",
       "      <th>Dep_Time_Minute</th>\n",
       "      <td>20</td>\n",
       "      <td>50</td>\n",
       "    </tr>\n",
       "    <tr>\n",
       "      <th>Arrival_Time_Hour</th>\n",
       "      <td>1</td>\n",
       "      <td>13</td>\n",
       "    </tr>\n",
       "    <tr>\n",
       "      <th>Arrival_Time_Minute</th>\n",
       "      <td>10</td>\n",
       "      <td>15</td>\n",
       "    </tr>\n",
       "    <tr>\n",
       "      <th>Duration_Hours</th>\n",
       "      <td>2</td>\n",
       "      <td>7</td>\n",
       "    </tr>\n",
       "    <tr>\n",
       "      <th>Duration_Mins</th>\n",
       "      <td>50</td>\n",
       "      <td>25</td>\n",
       "    </tr>\n",
       "    <tr>\n",
       "      <th>Duration_Total_Mins</th>\n",
       "      <td>170</td>\n",
       "      <td>445</td>\n",
       "    </tr>\n",
       "    <tr>\n",
       "      <th>Source_Banglore</th>\n",
       "      <td>1</td>\n",
       "      <td>0</td>\n",
       "    </tr>\n",
       "    <tr>\n",
       "      <th>Source_Kolkata</th>\n",
       "      <td>0</td>\n",
       "      <td>1</td>\n",
       "    </tr>\n",
       "    <tr>\n",
       "      <th>Source_Delhi</th>\n",
       "      <td>0</td>\n",
       "      <td>0</td>\n",
       "    </tr>\n",
       "    <tr>\n",
       "      <th>Source_Chennai</th>\n",
       "      <td>0</td>\n",
       "      <td>0</td>\n",
       "    </tr>\n",
       "    <tr>\n",
       "      <th>Source_Mumbai</th>\n",
       "      <td>0</td>\n",
       "      <td>0</td>\n",
       "    </tr>\n",
       "  </tbody>\n",
       "</table>\n",
       "</div>"
      ],
      "text/plain": [
       "                                       0                      1\n",
       "Airline                                3                      7\n",
       "Date_of_Journey      2019-03-24 00:00:00    2019-05-01 00:00:00\n",
       "Source                          Banglore                Kolkata\n",
       "Destination                            2                      3\n",
       "Route                          BLR → DEL  CCU → IXR → BBI → BLR\n",
       "Duration                          2h 50m                 7h 25m\n",
       "Total_Stops                            0                      2\n",
       "Additional_Info                  No info                No info\n",
       "Price                               3897                   7662\n",
       "Journey_Day                           24                      1\n",
       "Journey_Month                          3                      5\n",
       "Journey_Year                        2019                   2019\n",
       "Dep_Time_Hour                         22                      5\n",
       "Dep_Time_Minute                       20                     50\n",
       "Arrival_Time_Hour                      1                     13\n",
       "Arrival_Time_Minute                   10                     15\n",
       "Duration_Hours                         2                      7\n",
       "Duration_Mins                         50                     25\n",
       "Duration_Total_Mins                  170                    445\n",
       "Source_Banglore                        1                      0\n",
       "Source_Kolkata                         0                      1\n",
       "Source_Delhi                           0                      0\n",
       "Source_Chennai                         0                      0\n",
       "Source_Mumbai                          0                      0"
      ]
     },
     "execution_count": 119,
     "metadata": {},
     "output_type": "execute_result"
    }
   ],
   "source": [
    "data.head(2).T"
   ]
  },
  {
   "cell_type": "code",
   "execution_count": 120,
   "id": "bfde90b3-585b-47a8-a04a-cd06fed80884",
   "metadata": {},
   "outputs": [
    {
     "data": {
      "text/plain": [
       "Index(['Airline', 'Date_of_Journey', 'Source', 'Destination', 'Route',\n",
       "       'Duration', 'Total_Stops', 'Additional_Info', 'Price', 'Journey_Day',\n",
       "       'Journey_Month', 'Journey_Year', 'Dep_Time_Hour', 'Dep_Time_Minute',\n",
       "       'Arrival_Time_Hour', 'Arrival_Time_Minute', 'Duration_Hours',\n",
       "       'Duration_Mins', 'Duration_Total_Mins', 'Source_Banglore',\n",
       "       'Source_Kolkata', 'Source_Delhi', 'Source_Chennai', 'Source_Mumbai'],\n",
       "      dtype='object')"
      ]
     },
     "execution_count": 120,
     "metadata": {},
     "output_type": "execute_result"
    }
   ],
   "source": [
    "data.columns"
   ]
  },
  {
   "cell_type": "code",
   "execution_count": 121,
   "id": "f155238e-3b68-41cd-878f-e8e4dd93d914",
   "metadata": {},
   "outputs": [
    {
     "data": {
      "text/plain": [
       "0    No info\n",
       "1    No info\n",
       "2    No info\n",
       "3    No info\n",
       "4    No info\n",
       "5    No info\n",
       "Name: Additional_Info, dtype: object"
      ]
     },
     "execution_count": 121,
     "metadata": {},
     "output_type": "execute_result"
    }
   ],
   "source": [
    "data['Additional_Info'].head(6)"
   ]
  },
  {
   "cell_type": "code",
   "execution_count": 122,
   "id": "ef8ebe92-1847-4cdb-ba24-b77610357c41",
   "metadata": {},
   "outputs": [
    {
     "data": {
      "text/plain": [
       "array(['No info', 'In-flight meal not included',\n",
       "       'No check-in baggage included', '1 Short layover', 'No Info',\n",
       "       '1 Long layover', 'Change airports', 'Business class',\n",
       "       'Red-eye flight', '2 Long layover'], dtype=object)"
      ]
     },
     "execution_count": 122,
     "metadata": {},
     "output_type": "execute_result"
    }
   ],
   "source": [
    "data['Additional_Info'].unique()"
   ]
  },
  {
   "cell_type": "code",
   "execution_count": 123,
   "id": "1833df71-d2aa-471e-b68d-8a97bf0a7182",
   "metadata": {},
   "outputs": [
    {
     "data": {
      "text/plain": [
       "Additional_Info\n",
       "No info                         8344\n",
       "In-flight meal not included     1982\n",
       "No check-in baggage included     320\n",
       "1 Long layover                    19\n",
       "Change airports                    7\n",
       "Business class                     4\n",
       "No Info                            3\n",
       "1 Short layover                    1\n",
       "Red-eye flight                     1\n",
       "2 Long layover                     1\n",
       "Name: count, dtype: int64"
      ]
     },
     "execution_count": 123,
     "metadata": {},
     "output_type": "execute_result"
    }
   ],
   "source": [
    "data['Additional_Info'].value_counts()"
   ]
  },
  {
   "cell_type": "markdown",
   "id": "e2430f7e-22e1-482c-92ce-73303547bab8",
   "metadata": {},
   "source": [
    "#### Checking the percentage of distribution of each category in the `Additional_Info` feature"
   ]
  },
  {
   "cell_type": "code",
   "execution_count": 124,
   "id": "14ce6b21-b089-4a1c-b8b4-1675619f9082",
   "metadata": {},
   "outputs": [
    {
     "data": {
      "text/plain": [
       "Additional_Info\n",
       "No info                         78.112713\n",
       "In-flight meal not included     18.554578\n",
       "No check-in baggage included     2.995694\n",
       "1 Long layover                   0.177869\n",
       "Change airports                  0.065531\n",
       "Business class                   0.037446\n",
       "No Info                          0.028085\n",
       "1 Short layover                  0.009362\n",
       "Red-eye flight                   0.009362\n",
       "2 Long layover                   0.009362\n",
       "Name: count, dtype: float64"
      ]
     },
     "execution_count": 124,
     "metadata": {},
     "output_type": "execute_result"
    }
   ],
   "source": [
    "data['Additional_Info'].value_counts()/len(data)*100"
   ]
  },
  {
   "cell_type": "markdown",
   "id": "f75fe87b-8863-4f8f-991e-daf3f9dcc85a",
   "metadata": {},
   "source": [
    "> 78% of values in the `Additional_Info` feature are `No info`.<br>\n",
    "> Hence, it is reasonable to remove this feature from the dataset as it will have little to no impact in the modeling accuracy."
   ]
  },
  {
   "cell_type": "code",
   "execution_count": 125,
   "id": "f84e3d1b-ad4d-4f9e-a9cb-35339eb8c4d6",
   "metadata": {},
   "outputs": [
    {
     "data": {
      "text/plain": [
       "array([2019])"
      ]
     },
     "execution_count": 125,
     "metadata": {},
     "output_type": "execute_result"
    }
   ],
   "source": [
    "data['Journey_Year'].unique()"
   ]
  },
  {
   "cell_type": "markdown",
   "id": "ba269790-6b74-4b35-ad81-766b75d5ff08",
   "metadata": {},
   "source": [
    "#### Features to drop\n",
    ">- `Additional_Info` - because most of its values (78%) are \"No info\".\n",
    ">- `Route` - because the `Total_Stops` and the `Route` features contain the same information. `Route` shows the name of the stops which is of no use in data modeling.\n",
    ">- `Source` - because \"One-Hot Encoding\" was performed on this feature.\n",
    ">- `Duration_Total_Mins` - because there exists `Duration_Hours` and `Duration_Mins` features.\n",
    ">- `Duration` - because attributes were derived from it as `Duration_Hours` and `Duration_Mins`.\n",
    ">- `Date_of_Journey` - because there exists, `Journey_Day`, `Journey_Month`, and `Journey_Year` features.\n",
    ">- `Journey_Year` - because the feature contains a constant value which makes no sense for a machine learning model that expects varying values. It could however make sense for Data Analysis but not for ML modeling."
   ]
  },
  {
   "cell_type": "code",
   "execution_count": 129,
   "id": "5d1f22ee-28ef-4797-b551-3e1f243c69b4",
   "metadata": {},
   "outputs": [
    {
     "ename": "KeyError",
     "evalue": "\"['Additional_Info', 'Route', 'Source', 'Duration_Total_Mins', 'Date_of_Journey', 'Journey_Year'] not found in axis\"",
     "output_type": "error",
     "traceback": [
      "\u001b[1;31m---------------------------------------------------------------------------\u001b[0m",
      "\u001b[1;31mKeyError\u001b[0m                                  Traceback (most recent call last)",
      "Cell \u001b[1;32mIn[129], line 1\u001b[0m\n\u001b[1;32m----> 1\u001b[0m data\u001b[38;5;241m.\u001b[39mdrop(columns \u001b[38;5;241m=\u001b[39m [\u001b[38;5;124m'\u001b[39m\u001b[38;5;124mAdditional_Info\u001b[39m\u001b[38;5;124m'\u001b[39m, \u001b[38;5;124m'\u001b[39m\u001b[38;5;124mRoute\u001b[39m\u001b[38;5;124m'\u001b[39m, \u001b[38;5;124m'\u001b[39m\u001b[38;5;124mSource\u001b[39m\u001b[38;5;124m'\u001b[39m, \u001b[38;5;124m'\u001b[39m\u001b[38;5;124mDuration_Total_Mins\u001b[39m\u001b[38;5;124m'\u001b[39m, \u001b[38;5;124m'\u001b[39m\u001b[38;5;124mDuration\u001b[39m\u001b[38;5;124m'\u001b[39m, \u001b[38;5;124m'\u001b[39m\u001b[38;5;124mDate_of_Journey\u001b[39m\u001b[38;5;124m'\u001b[39m, \u001b[38;5;124m'\u001b[39m\u001b[38;5;124mJourney_Year\u001b[39m\u001b[38;5;124m'\u001b[39m], axis\u001b[38;5;241m=\u001b[39m\u001b[38;5;241m1\u001b[39m, inplace\u001b[38;5;241m=\u001b[39m\u001b[38;5;28;01mTrue\u001b[39;00m)\n",
      "File \u001b[1;32mD:\\Developer\\Portfolio_Project\\airfare-prediction\\env\\Lib\\site-packages\\pandas\\core\\frame.py:5581\u001b[0m, in \u001b[0;36mDataFrame.drop\u001b[1;34m(self, labels, axis, index, columns, level, inplace, errors)\u001b[0m\n\u001b[0;32m   5433\u001b[0m \u001b[38;5;28;01mdef\u001b[39;00m \u001b[38;5;21mdrop\u001b[39m(\n\u001b[0;32m   5434\u001b[0m     \u001b[38;5;28mself\u001b[39m,\n\u001b[0;32m   5435\u001b[0m     labels: IndexLabel \u001b[38;5;241m|\u001b[39m \u001b[38;5;28;01mNone\u001b[39;00m \u001b[38;5;241m=\u001b[39m \u001b[38;5;28;01mNone\u001b[39;00m,\n\u001b[1;32m   (...)\u001b[0m\n\u001b[0;32m   5442\u001b[0m     errors: IgnoreRaise \u001b[38;5;241m=\u001b[39m \u001b[38;5;124m\"\u001b[39m\u001b[38;5;124mraise\u001b[39m\u001b[38;5;124m\"\u001b[39m,\n\u001b[0;32m   5443\u001b[0m ) \u001b[38;5;241m-\u001b[39m\u001b[38;5;241m>\u001b[39m DataFrame \u001b[38;5;241m|\u001b[39m \u001b[38;5;28;01mNone\u001b[39;00m:\n\u001b[0;32m   5444\u001b[0m \u001b[38;5;250m    \u001b[39m\u001b[38;5;124;03m\"\"\"\u001b[39;00m\n\u001b[0;32m   5445\u001b[0m \u001b[38;5;124;03m    Drop specified labels from rows or columns.\u001b[39;00m\n\u001b[0;32m   5446\u001b[0m \n\u001b[1;32m   (...)\u001b[0m\n\u001b[0;32m   5579\u001b[0m \u001b[38;5;124;03m            weight  1.0     0.8\u001b[39;00m\n\u001b[0;32m   5580\u001b[0m \u001b[38;5;124;03m    \"\"\"\u001b[39;00m\n\u001b[1;32m-> 5581\u001b[0m     \u001b[38;5;28;01mreturn\u001b[39;00m \u001b[38;5;28msuper\u001b[39m()\u001b[38;5;241m.\u001b[39mdrop(\n\u001b[0;32m   5582\u001b[0m         labels\u001b[38;5;241m=\u001b[39mlabels,\n\u001b[0;32m   5583\u001b[0m         axis\u001b[38;5;241m=\u001b[39maxis,\n\u001b[0;32m   5584\u001b[0m         index\u001b[38;5;241m=\u001b[39mindex,\n\u001b[0;32m   5585\u001b[0m         columns\u001b[38;5;241m=\u001b[39mcolumns,\n\u001b[0;32m   5586\u001b[0m         level\u001b[38;5;241m=\u001b[39mlevel,\n\u001b[0;32m   5587\u001b[0m         inplace\u001b[38;5;241m=\u001b[39minplace,\n\u001b[0;32m   5588\u001b[0m         errors\u001b[38;5;241m=\u001b[39merrors,\n\u001b[0;32m   5589\u001b[0m     )\n",
      "File \u001b[1;32mD:\\Developer\\Portfolio_Project\\airfare-prediction\\env\\Lib\\site-packages\\pandas\\core\\generic.py:4788\u001b[0m, in \u001b[0;36mNDFrame.drop\u001b[1;34m(self, labels, axis, index, columns, level, inplace, errors)\u001b[0m\n\u001b[0;32m   4786\u001b[0m \u001b[38;5;28;01mfor\u001b[39;00m axis, labels \u001b[38;5;129;01min\u001b[39;00m axes\u001b[38;5;241m.\u001b[39mitems():\n\u001b[0;32m   4787\u001b[0m     \u001b[38;5;28;01mif\u001b[39;00m labels \u001b[38;5;129;01mis\u001b[39;00m \u001b[38;5;129;01mnot\u001b[39;00m \u001b[38;5;28;01mNone\u001b[39;00m:\n\u001b[1;32m-> 4788\u001b[0m         obj \u001b[38;5;241m=\u001b[39m obj\u001b[38;5;241m.\u001b[39m_drop_axis(labels, axis, level\u001b[38;5;241m=\u001b[39mlevel, errors\u001b[38;5;241m=\u001b[39merrors)\n\u001b[0;32m   4790\u001b[0m \u001b[38;5;28;01mif\u001b[39;00m inplace:\n\u001b[0;32m   4791\u001b[0m     \u001b[38;5;28mself\u001b[39m\u001b[38;5;241m.\u001b[39m_update_inplace(obj)\n",
      "File \u001b[1;32mD:\\Developer\\Portfolio_Project\\airfare-prediction\\env\\Lib\\site-packages\\pandas\\core\\generic.py:4830\u001b[0m, in \u001b[0;36mNDFrame._drop_axis\u001b[1;34m(self, labels, axis, level, errors, only_slice)\u001b[0m\n\u001b[0;32m   4828\u001b[0m         new_axis \u001b[38;5;241m=\u001b[39m axis\u001b[38;5;241m.\u001b[39mdrop(labels, level\u001b[38;5;241m=\u001b[39mlevel, errors\u001b[38;5;241m=\u001b[39merrors)\n\u001b[0;32m   4829\u001b[0m     \u001b[38;5;28;01melse\u001b[39;00m:\n\u001b[1;32m-> 4830\u001b[0m         new_axis \u001b[38;5;241m=\u001b[39m axis\u001b[38;5;241m.\u001b[39mdrop(labels, errors\u001b[38;5;241m=\u001b[39merrors)\n\u001b[0;32m   4831\u001b[0m     indexer \u001b[38;5;241m=\u001b[39m axis\u001b[38;5;241m.\u001b[39mget_indexer(new_axis)\n\u001b[0;32m   4833\u001b[0m \u001b[38;5;66;03m# Case for non-unique axis\u001b[39;00m\n\u001b[0;32m   4834\u001b[0m \u001b[38;5;28;01melse\u001b[39;00m:\n",
      "File \u001b[1;32mD:\\Developer\\Portfolio_Project\\airfare-prediction\\env\\Lib\\site-packages\\pandas\\core\\indexes\\base.py:7070\u001b[0m, in \u001b[0;36mIndex.drop\u001b[1;34m(self, labels, errors)\u001b[0m\n\u001b[0;32m   7068\u001b[0m \u001b[38;5;28;01mif\u001b[39;00m mask\u001b[38;5;241m.\u001b[39many():\n\u001b[0;32m   7069\u001b[0m     \u001b[38;5;28;01mif\u001b[39;00m errors \u001b[38;5;241m!=\u001b[39m \u001b[38;5;124m\"\u001b[39m\u001b[38;5;124mignore\u001b[39m\u001b[38;5;124m\"\u001b[39m:\n\u001b[1;32m-> 7070\u001b[0m         \u001b[38;5;28;01mraise\u001b[39;00m \u001b[38;5;167;01mKeyError\u001b[39;00m(\u001b[38;5;124mf\u001b[39m\u001b[38;5;124m\"\u001b[39m\u001b[38;5;132;01m{\u001b[39;00mlabels[mask]\u001b[38;5;241m.\u001b[39mtolist()\u001b[38;5;132;01m}\u001b[39;00m\u001b[38;5;124m not found in axis\u001b[39m\u001b[38;5;124m\"\u001b[39m)\n\u001b[0;32m   7071\u001b[0m     indexer \u001b[38;5;241m=\u001b[39m indexer[\u001b[38;5;241m~\u001b[39mmask]\n\u001b[0;32m   7072\u001b[0m \u001b[38;5;28;01mreturn\u001b[39;00m \u001b[38;5;28mself\u001b[39m\u001b[38;5;241m.\u001b[39mdelete(indexer)\n",
      "\u001b[1;31mKeyError\u001b[0m: \"['Additional_Info', 'Route', 'Source', 'Duration_Total_Mins', 'Date_of_Journey', 'Journey_Year'] not found in axis\""
     ]
    }
   ],
   "source": [
    "data.drop(columns = ['Additional_Info', 'Route', 'Source', 'Duration_Total_Mins', 'Duration', 'Date_of_Journey', 'Journey_Year'], axis=1, inplace=True)"
   ]
  },
  {
   "cell_type": "markdown",
   "id": "c8ebed53-30dd-4f10-affe-2fa30f596516",
   "metadata": {},
   "source": [
    "> `axis=1` refers to the column of the dataframe <br>\n",
    "> `axis=0` refers to the row of the dataframe"
   ]
  },
  {
   "cell_type": "code",
   "execution_count": 127,
   "id": "31651fd5-7af1-42e6-aa19-0ed32baa547a",
   "metadata": {},
   "outputs": [
    {
     "data": {
      "text/plain": [
       "Index(['Airline', 'Destination', 'Duration', 'Total_Stops', 'Price',\n",
       "       'Journey_Day', 'Journey_Month', 'Dep_Time_Hour', 'Dep_Time_Minute',\n",
       "       'Arrival_Time_Hour', 'Arrival_Time_Minute', 'Duration_Hours',\n",
       "       'Duration_Mins', 'Source_Banglore', 'Source_Kolkata', 'Source_Delhi',\n",
       "       'Source_Chennai', 'Source_Mumbai'],\n",
       "      dtype='object')"
      ]
     },
     "execution_count": 127,
     "metadata": {},
     "output_type": "execute_result"
    }
   ],
   "source": [
    "data.columns"
   ]
  },
  {
   "cell_type": "code",
   "execution_count": 128,
   "id": "32e3d5ca-e43b-41e4-bf86-7e5aea9269ad",
   "metadata": {},
   "outputs": [
    {
     "data": {
      "text/html": [
       "<div>\n",
       "<style scoped>\n",
       "    .dataframe tbody tr th:only-of-type {\n",
       "        vertical-align: middle;\n",
       "    }\n",
       "\n",
       "    .dataframe tbody tr th {\n",
       "        vertical-align: top;\n",
       "    }\n",
       "\n",
       "    .dataframe thead th {\n",
       "        text-align: right;\n",
       "    }\n",
       "</style>\n",
       "<table border=\"1\" class=\"dataframe\">\n",
       "  <thead>\n",
       "    <tr style=\"text-align: right;\">\n",
       "      <th></th>\n",
       "      <th>Airline</th>\n",
       "      <th>Destination</th>\n",
       "      <th>Duration</th>\n",
       "      <th>Total_Stops</th>\n",
       "      <th>Price</th>\n",
       "      <th>Journey_Day</th>\n",
       "      <th>Journey_Month</th>\n",
       "      <th>Dep_Time_Hour</th>\n",
       "      <th>Dep_Time_Minute</th>\n",
       "      <th>Arrival_Time_Hour</th>\n",
       "      <th>Arrival_Time_Minute</th>\n",
       "      <th>Duration_Hours</th>\n",
       "      <th>Duration_Mins</th>\n",
       "      <th>Source_Banglore</th>\n",
       "      <th>Source_Kolkata</th>\n",
       "      <th>Source_Delhi</th>\n",
       "      <th>Source_Chennai</th>\n",
       "      <th>Source_Mumbai</th>\n",
       "    </tr>\n",
       "  </thead>\n",
       "  <tbody>\n",
       "    <tr>\n",
       "      <th>0</th>\n",
       "      <td>3</td>\n",
       "      <td>2</td>\n",
       "      <td>2h 50m</td>\n",
       "      <td>0</td>\n",
       "      <td>3897</td>\n",
       "      <td>24</td>\n",
       "      <td>3</td>\n",
       "      <td>22</td>\n",
       "      <td>20</td>\n",
       "      <td>1</td>\n",
       "      <td>10</td>\n",
       "      <td>2</td>\n",
       "      <td>50</td>\n",
       "      <td>1</td>\n",
       "      <td>0</td>\n",
       "      <td>0</td>\n",
       "      <td>0</td>\n",
       "      <td>0</td>\n",
       "    </tr>\n",
       "    <tr>\n",
       "      <th>1</th>\n",
       "      <td>7</td>\n",
       "      <td>3</td>\n",
       "      <td>7h 25m</td>\n",
       "      <td>2</td>\n",
       "      <td>7662</td>\n",
       "      <td>1</td>\n",
       "      <td>5</td>\n",
       "      <td>5</td>\n",
       "      <td>50</td>\n",
       "      <td>13</td>\n",
       "      <td>15</td>\n",
       "      <td>7</td>\n",
       "      <td>25</td>\n",
       "      <td>0</td>\n",
       "      <td>1</td>\n",
       "      <td>0</td>\n",
       "      <td>0</td>\n",
       "      <td>0</td>\n",
       "    </tr>\n",
       "  </tbody>\n",
       "</table>\n",
       "</div>"
      ],
      "text/plain": [
       "   Airline  Destination Duration  Total_Stops  Price  Journey_Day  \\\n",
       "0        3            2   2h 50m            0   3897           24   \n",
       "1        7            3   7h 25m            2   7662            1   \n",
       "\n",
       "   Journey_Month  Dep_Time_Hour  Dep_Time_Minute  Arrival_Time_Hour  \\\n",
       "0              3             22               20                  1   \n",
       "1              5              5               50                 13   \n",
       "\n",
       "   Arrival_Time_Minute  Duration_Hours  Duration_Mins  Source_Banglore  \\\n",
       "0                   10               2             50                1   \n",
       "1                   15               7             25                0   \n",
       "\n",
       "   Source_Kolkata  Source_Delhi  Source_Chennai  Source_Mumbai  \n",
       "0               0             0               0              0  \n",
       "1               1             0               0              0  "
      ]
     },
     "execution_count": 128,
     "metadata": {},
     "output_type": "execute_result"
    }
   ],
   "source": [
    "data.head(2)"
   ]
  },
  {
   "cell_type": "code",
   "execution_count": null,
   "id": "7e8520b7-8184-4f31-805f-bdc86ae0c08d",
   "metadata": {},
   "outputs": [],
   "source": []
  }
 ],
 "metadata": {
  "kernelspec": {
   "display_name": "Python 3 (ipykernel)",
   "language": "python",
   "name": "python3"
  },
  "language_info": {
   "codemirror_mode": {
    "name": "ipython",
    "version": 3
   },
   "file_extension": ".py",
   "mimetype": "text/x-python",
   "name": "python",
   "nbconvert_exporter": "python",
   "pygments_lexer": "ipython3",
   "version": "3.12.4"
  }
 },
 "nbformat": 4,
 "nbformat_minor": 5
}
